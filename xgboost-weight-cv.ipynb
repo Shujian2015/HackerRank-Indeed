{
 "cells": [
  {
   "cell_type": "code",
   "execution_count": 1,
   "metadata": {
    "collapsed": false
   },
   "outputs": [
    {
     "data": {
      "text/html": [
       "<div>\n",
       "<table border=\"1\" class=\"dataframe\">\n",
       "  <thead>\n",
       "    <tr style=\"text-align: right;\">\n",
       "      <th></th>\n",
       "      <th>description</th>\n",
       "    </tr>\n",
       "    <tr>\n",
       "      <th>tags</th>\n",
       "      <th></th>\n",
       "    </tr>\n",
       "  </thead>\n",
       "  <tbody>\n",
       "    <tr>\n",
       "      <th>licence-needed supervising-job 5-plus-years-experience-needed</th>\n",
       "      <td>THE COMPANY    Employer is a midstream service...</td>\n",
       "    </tr>\n",
       "    <tr>\n",
       "      <th>2-4-years-experience-needed salary full-time-job</th>\n",
       "      <td>ICR Staffing is now accepting resumes for Indu...</td>\n",
       "    </tr>\n",
       "    <tr>\n",
       "      <th>part-time-job</th>\n",
       "      <td>This is a great position for the right person....</td>\n",
       "    </tr>\n",
       "    <tr>\n",
       "      <th>licence-needed</th>\n",
       "      <td>A large multi-specialty health center is expan...</td>\n",
       "    </tr>\n",
       "    <tr>\n",
       "      <th>5-plus-years-experience-needed full-time-job bs-degree-needed supervising-job</th>\n",
       "      <td>JOB PURPOSE:    The Account Director is respon...</td>\n",
       "    </tr>\n",
       "  </tbody>\n",
       "</table>\n",
       "</div>"
      ],
      "text/plain": [
       "                                                                                          description\n",
       "tags                                                                                                 \n",
       "licence-needed supervising-job 5-plus-years-exp...  THE COMPANY    Employer is a midstream service...\n",
       "2-4-years-experience-needed salary full-time-job    ICR Staffing is now accepting resumes for Indu...\n",
       "part-time-job                                       This is a great position for the right person....\n",
       "licence-needed                                      A large multi-specialty health center is expan...\n",
       "5-plus-years-experience-needed full-time-job bs...  JOB PURPOSE:    The Account Director is respon..."
      ]
     },
     "execution_count": 1,
     "metadata": {},
     "output_type": "execute_result"
    }
   ],
   "source": [
    "from pandas import DataFrame\n",
    "import nltk, re, pprint\n",
    "from nltk import word_tokenize\n",
    "from collections import defaultdict\n",
    "\n",
    "df = DataFrame.from_csv(\"train.tsv\", sep=\"\\t\",)\n",
    "df.head(n=5)"
   ]
  },
  {
   "cell_type": "code",
   "execution_count": 2,
   "metadata": {
    "collapsed": false
   },
   "outputs": [
    {
     "data": {
      "text/html": [
       "<div>\n",
       "<table border=\"1\" class=\"dataframe\">\n",
       "  <thead>\n",
       "    <tr style=\"text-align: right;\">\n",
       "      <th></th>\n",
       "    </tr>\n",
       "    <tr>\n",
       "      <th>description</th>\n",
       "    </tr>\n",
       "  </thead>\n",
       "  <tbody>\n",
       "    <tr>\n",
       "      <th>Integrity Home Care has an opening on our Leadership Team for a Salaried Private Care Nursing Supervisor. This position requires a MO &amp; KS Licensed RN. Candidate must be able to work in a flexible environment with direct patient care experience as well as community health education, and one on one teaching experience.  This position will be working with pediatric and senior patience in a home environment and hours will be mainly from 8am to 5pm, but candidate will need to be flexible as needed.  If you enjoy the one on one interaction with patients, and working to fulfill their long term needs, start with Integrity today! We are a dynamic and progressive Christian based organization that offers competitive pay and excellent benefits including vacation and sick time, Health, dental, short term disability and life insurance.</th>\n",
       "    </tr>\n",
       "    <tr>\n",
       "      <th>We're looking for a precision grinder with at least 10 years of experience. Prior experience grinding on carburzied parts is also needed.  *Job Description for Precision Grinding Machinist:*  * Set up and operate a variety of manual and CNC grinders for production, R&amp;D and tool repair work. Grinding work will include, but not be limited to, steps, angles, contours and threads. Selects proper speeds, feeds and wheels. This position will be working in an aerospace manufacturing facility.  *Job Requirements for Precision Grinding Machinist:*  Must have at least 10 years experience with the following types of grinders:  * Centerless * Internal * External * Surface * Thread * Universal  Base Pay $35.00 - $40.00 / Hour  Other Pay - O.T. &amp; PER DIEM  These positions are temporary and require travel. We pay your travel expenses. In return, you will have the opportunity to work up to 60 hours per week. You will receive weekly per diem of $595 ($85/day) for food and lodging. This is not an opportunity to permanently relocate because these positions are temporary.  Other Requirements for Precision Grinding Machinist:  * Felony/drug free and submit to a background check * Physical ability to work overtime – up to 60 hour work week * High Security Facility – Must be a US citizen  Strom Engineering provides temporary and contract employment opportunities for general laborers, engineers, machinists, mechanics, technicians &amp; welders.</th>\n",
       "    </tr>\n",
       "  </tbody>\n",
       "</table>\n",
       "</div>"
      ],
      "text/plain": [
       "Empty DataFrame\n",
       "Columns: []\n",
       "Index: [Integrity Home Care has an opening on our Leadership Team for a Salaried Private Care Nursing Supervisor. This position requires a MO & KS Licensed RN. Candidate must be able to work in a flexible environment with direct patient care experience as well as community health education, and one on one teaching experience.  This position will be working with pediatric and senior patience in a home environment and hours will be mainly from 8am to 5pm, but candidate will need to be flexible as needed.  If you enjoy the one on one interaction with patients, and working to fulfill their long term needs, start with Integrity today! We are a dynamic and progressive Christian based organization that offers competitive pay and excellent benefits including vacation and sick time, Health, dental, short term disability and life insurance., We're looking for a precision grinder with at least 10 years of experience. Prior experience grinding on carburzied parts is also needed.  *Job Description for Precision Grinding Machinist:*  * Set up and operate a variety of manual and CNC grinders for production, R&D and tool repair work. Grinding work will include, but not be limited to, steps, angles, contours and threads. Selects proper speeds, feeds and wheels. This position will be working in an aerospace manufacturing facility.  *Job Requirements for Precision Grinding Machinist:*  Must have at least 10 years experience with the following types of grinders:  * Centerless * Internal * External * Surface * Thread * Universal  Base Pay $35.00 - $40.00 / Hour  Other Pay - O.T. & PER DIEM  These positions are temporary and require travel. We pay your travel expenses. In return, you will have the opportunity to work up to 60 hours per week. You will receive weekly per diem of $595 ($85/day) for food and lodging. This is not an opportunity to permanently relocate because these positions are temporary.  Other Requirements for Precision Grinding Machinist:  * Felony/drug free and submit to a background check * Physical ability to work overtime – up to 60 hour work week * High Security Facility – Must be a US citizen  Strom Engineering provides temporary and contract employment opportunities for general laborers, engineers, machinists, mechanics, technicians & welders.]"
      ]
     },
     "execution_count": 2,
     "metadata": {},
     "output_type": "execute_result"
    }
   ],
   "source": [
    "df2 = DataFrame.from_csv(\"test.tsv\", sep=\"\\t\")\n",
    "df2.head(n=2)"
   ]
  },
  {
   "cell_type": "code",
   "execution_count": 3,
   "metadata": {
    "collapsed": true
   },
   "outputs": [],
   "source": [
    "tags = [\"part-time-job\", \"full-time-job\", \"hourly-wage\", \"salary\", \"associate-needed\", \"bs-degree-needed\", \"ms-or-phd-needed\", \"licence-needed\", \"1-year-experience-needed\", \"2-4-years-experience-needed\", \"5-plus-years-experience-needed\", \"supervising-job\"]  \n"
   ]
  },
  {
   "cell_type": "code",
   "execution_count": 4,
   "metadata": {
    "collapsed": false
   },
   "outputs": [],
   "source": [
    "def preproc(tag, df, df2):\n",
    "\n",
    "    x_train = []\n",
    "    y_train = []\n",
    "    \n",
    "    for index, row in df.iterrows():   \n",
    "        x_train.append(row.description.lower())\n",
    "\n",
    "        if type(row.name) == str and  tag in row.name:\n",
    "            y_train.append(1)\n",
    "        else:\n",
    "            y_train.append(0)\n",
    "        \n",
    "    docs_new = []\n",
    "    for index, row in df2.iterrows():\n",
    "        docs_new.append(row.name.lower())\n",
    "    \n",
    "    # print(docs_new)   \n",
    "        \n",
    "    return x_train, y_train, docs_new \n",
    "\n"
   ]
  },
  {
   "cell_type": "code",
   "execution_count": 5,
   "metadata": {
    "collapsed": false
   },
   "outputs": [
    {
     "name": "stderr",
     "output_type": "stream",
     "text": [
      "/opt/conda/lib/python3.6/site-packages/sklearn/cross_validation.py:44: DeprecationWarning: This module was deprecated in version 0.18 in favor of the model_selection module into which all the refactored classes and functions are moved. Also note that the interface of the new CV iterators are different from that of this module. This module will be removed in 0.20.\n",
      "  \"This module will be removed in 0.20.\", DeprecationWarning)\n",
      "/opt/conda/lib/python3.6/site-packages/sklearn/grid_search.py:43: DeprecationWarning: This module was deprecated in version 0.18 in favor of the model_selection module into which all the refactored classes and functions are moved. This module will be removed in 0.20.\n",
      "  DeprecationWarning)\n"
     ]
    }
   ],
   "source": [
    "from sklearn.feature_extraction.text import CountVectorizer\n",
    "from sklearn.feature_extraction.text import TfidfTransformer\n",
    "    \n",
    "from sklearn.naive_bayes import MultinomialNB\n",
    "from sklearn.linear_model import RidgeClassifier\n",
    "from sklearn.pipeline import Pipeline\n",
    "from sklearn.svm import LinearSVC\n",
    "from sklearn.linear_model import SGDClassifier\n",
    "from sklearn.linear_model import Perceptron\n",
    "from sklearn.linear_model import PassiveAggressiveClassifier\n",
    "from sklearn.naive_bayes import BernoulliNB, MultinomialNB\n",
    "from sklearn.neighbors import KNeighborsClassifier\n",
    "from sklearn.neighbors import NearestCentroid\n",
    "from sklearn.ensemble import RandomForestClassifier\n",
    "from sklearn.svm import SVC\n",
    "\n",
    "from sklearn.linear_model import LogisticRegression\n",
    "from sklearn import model_selection\n",
    "from mlxtend.classifier import StackingClassifier\n",
    "import numpy as np\n",
    "\n",
    "# http://scikit-learn.org/stable/modules/feature_extraction.html\n",
    "from nltk import word_tokenize          \n",
    "from nltk.stem import WordNetLemmatizer \n",
    "class LemmaTokenizer(object):\n",
    "    def __init__(self):\n",
    "        self.wnl = WordNetLemmatizer()\n",
    "    def __call__(self, doc):\n",
    "        return [self.wnl.lemmatize(t) for t in word_tokenize(doc)]\n",
    "\n",
    "\n",
    "# https://github.com/scikit-learn/scikit-learn/issues/1156\n",
    "# Snowball stemmers could be used as a dependency\n",
    "from nltk.stem import SnowballStemmer\n",
    "\n",
    "class build_stemmer(object):\n",
    "    def __init__(self):\n",
    "        self.wns = SnowballStemmer('english')\n",
    "    def __call__(self, doc):\n",
    "        return [self.wns.stem(t) for t in word_tokenize(doc)]    \n",
    "    \n",
    "# http://www.nltk.org/howto/stem.html \n",
    "# https://github.com/nltk/nltk/issues/1581\n",
    "# pip install nltk==3.2.1\n",
    "from nltk.stem.porter import *\n",
    "\n",
    "class build_stemmer2(object):\n",
    "    def __init__(self):\n",
    "        self.wns = PorterStemmer()\n",
    "    def __call__(self, doc):\n",
    "        return [self.wns.stem(t) for t in word_tokenize(doc)]        \n",
    "    \n",
    "class lemma_stemmer(object):\n",
    "    def __init__(self):\n",
    "        self.wns = SnowballStemmer('english')\n",
    "        self.wnl = WordNetLemmatizer() \n",
    "    def __call__(self, doc):\n",
    "        return [self.wnl.lemmatize(self.wns.stem(t)) for t in word_tokenize(doc)]    \n",
    "    \n",
    "    \n",
    "import xgboost as xgb\n",
    "from sklearn.metrics import mean_squared_error, make_scorer\n",
    "from sklearn import grid_search\n",
    "import random\n",
    "random.seed(2017)\n",
    "\n",
    "def pred(tag, x_train, y_train, docs_new):\n",
    "    # http://scikit-learn.org/stable/tutorial/text_analytics/working_with_text_data.html\n",
    "\n",
    "    #count_vect = CountVectorizer()\n",
    "    count_vect = CountVectorizer(tokenizer=build_stemmer(), ngram_range=(1, 3))\n",
    "    X_train_counts = count_vect.fit_transform(x_train)\n",
    "    X_train_counts.shape\n",
    "    \n",
    "    tf_transformer = TfidfTransformer(use_idf=False).fit(X_train_counts)\n",
    "    X_train_tf = tf_transformer.transform(X_train_counts)\n",
    "    X_train_tf.shape\n",
    "\n",
    "    tfidf_transformer = TfidfTransformer()\n",
    "    X_train_tfidf = tfidf_transformer.fit_transform(X_train_counts)\n",
    "    X_train_tfidf.shape\n",
    "\n",
    "\n",
    "    clf = xgb.XGBClassifier()\n",
    "    '''\n",
    "    param_grid = {\n",
    "        'n_estimators': [500],\n",
    "        'learning_rate': [0.05],\n",
    "        'max_depth': [5, 7],\n",
    "        'subsample': [0.7, 0.8],\n",
    "        'colsample_bytree': [0.75, 0.85],\n",
    "    }\n",
    "    '''\n",
    "\n",
    "    param_grid = {\n",
    "        'scale_pos_weight' : [2, 2.5, 3, 3.5],\n",
    "        'n_estimators': [100, 150, 200],\n",
    "    }\n",
    "\n",
    "    \n",
    "    model = grid_search.GridSearchCV(estimator=clf, param_grid=param_grid, n_jobs=5, cv=3, verbose=20, scoring = 'f1_micro')\n",
    "\n",
    "    model.fit(X_train_tfidf, y_train)    \n",
    "\n",
    "    \n",
    "    X_new_counts = count_vect.transform(docs_new)\n",
    "    X_new_tfidf = tfidf_transformer.transform(X_new_counts)\n",
    "    \n",
    "\n",
    "    predicted = model.predict(X_new_tfidf)\n",
    "\n",
    "\n",
    "    print(sum(predicted))\n",
    "    return predicted"
   ]
  },
  {
   "cell_type": "code",
   "execution_count": 6,
   "metadata": {
    "collapsed": false,
    "scrolled": true
   },
   "outputs": [
    {
     "name": "stdout",
     "output_type": "stream",
     "text": [
      "Fitting 3 folds for each of 12 candidates, totalling 36 fits\n",
      "[CV] n_estimators=100, scale_pos_weight=2 ............................\n",
      "[CV] n_estimators=100, scale_pos_weight=2 ............................\n",
      "[CV] n_estimators=100, scale_pos_weight=2 ............................\n",
      "[CV] n_estimators=100, scale_pos_weight=2.5 ..........................\n",
      "[CV] n_estimators=100, scale_pos_weight=2.5 ..........................\n",
      "[CV] ... n_estimators=100, scale_pos_weight=2, score=0.952707 - 3.9min\n",
      "[CV] n_estimators=100, scale_pos_weight=2.5 ..........................\n"
     ]
    },
    {
     "name": "stderr",
     "output_type": "stream",
     "text": [
      "[Parallel(n_jobs=5)]: Done   1 tasks      | elapsed:  3.9min\n"
     ]
    },
    {
     "name": "stdout",
     "output_type": "stream",
     "text": [
      "[CV] . n_estimators=100, scale_pos_weight=2.5, score=0.956790 - 3.9min\n",
      "[CV] n_estimators=100, scale_pos_weight=3 ............................\n"
     ]
    },
    {
     "name": "stderr",
     "output_type": "stream",
     "text": [
      "[Parallel(n_jobs=5)]: Done   2 tasks      | elapsed:  3.9min\n"
     ]
    },
    {
     "name": "stdout",
     "output_type": "stream",
     "text": [
      "[CV] ... n_estimators=100, scale_pos_weight=2, score=0.954047 - 3.9min\n",
      "[CV] n_estimators=100, scale_pos_weight=3 ............................\n"
     ]
    },
    {
     "name": "stderr",
     "output_type": "stream",
     "text": [
      "[Parallel(n_jobs=5)]: Done   3 tasks      | elapsed:  3.9min\n"
     ]
    },
    {
     "name": "stdout",
     "output_type": "stream",
     "text": [
      "[CV] . n_estimators=100, scale_pos_weight=2.5, score=0.954764 - 3.9min\n",
      "[CV] n_estimators=100, scale_pos_weight=3 ............................\n"
     ]
    },
    {
     "name": "stderr",
     "output_type": "stream",
     "text": [
      "[Parallel(n_jobs=5)]: Done   4 tasks      | elapsed:  3.9min\n"
     ]
    },
    {
     "name": "stdout",
     "output_type": "stream",
     "text": [
      "[CV] ... n_estimators=100, scale_pos_weight=2, score=0.949246 - 3.9min\n",
      "[CV] n_estimators=100, scale_pos_weight=3.5 ..........................\n"
     ]
    },
    {
     "name": "stderr",
     "output_type": "stream",
     "text": [
      "[Parallel(n_jobs=5)]: Done   5 tasks      | elapsed:  3.9min\n"
     ]
    },
    {
     "name": "stdout",
     "output_type": "stream",
     "text": [
      "[CV] ... n_estimators=100, scale_pos_weight=3, score=0.956104 - 3.8min\n",
      "[CV] n_estimators=100, scale_pos_weight=3.5 ..........................\n"
     ]
    },
    {
     "name": "stderr",
     "output_type": "stream",
     "text": [
      "[Parallel(n_jobs=5)]: Done   6 tasks      | elapsed:  7.7min\n"
     ]
    },
    {
     "name": "stdout",
     "output_type": "stream",
     "text": [
      "[CV] ... n_estimators=100, scale_pos_weight=3, score=0.953361 - 3.8min\n",
      "[CV] n_estimators=100, scale_pos_weight=3.5 ..........................\n"
     ]
    },
    {
     "name": "stderr",
     "output_type": "stream",
     "text": [
      "[Parallel(n_jobs=5)]: Done   7 tasks      | elapsed:  7.7min\n"
     ]
    },
    {
     "name": "stdout",
     "output_type": "stream",
     "text": [
      "[CV] . n_estimators=100, scale_pos_weight=2.5, score=0.952675 - 3.9min\n",
      "[CV] n_estimators=150, scale_pos_weight=2 ............................\n"
     ]
    },
    {
     "name": "stderr",
     "output_type": "stream",
     "text": [
      "[Parallel(n_jobs=5)]: Done   8 tasks      | elapsed:  7.8min\n"
     ]
    },
    {
     "name": "stdout",
     "output_type": "stream",
     "text": [
      "[CV] ... n_estimators=100, scale_pos_weight=3, score=0.954078 - 4.0min\n",
      "[CV] n_estimators=150, scale_pos_weight=2 ............................\n"
     ]
    },
    {
     "name": "stderr",
     "output_type": "stream",
     "text": [
      "[Parallel(n_jobs=5)]: Done   9 tasks      | elapsed:  7.8min\n"
     ]
    },
    {
     "name": "stdout",
     "output_type": "stream",
     "text": [
      "[CV] . n_estimators=100, scale_pos_weight=3.5, score=0.952707 - 3.9min\n",
      "[CV] n_estimators=150, scale_pos_weight=2 ............................\n"
     ]
    },
    {
     "name": "stderr",
     "output_type": "stream",
     "text": [
      "[Parallel(n_jobs=5)]: Done  10 tasks      | elapsed:  7.9min\n"
     ]
    },
    {
     "name": "stdout",
     "output_type": "stream",
     "text": [
      "[CV] . n_estimators=100, scale_pos_weight=3.5, score=0.949931 - 3.9min\n",
      "[CV] n_estimators=150, scale_pos_weight=2.5 ..........................\n"
     ]
    },
    {
     "name": "stderr",
     "output_type": "stream",
     "text": [
      "[Parallel(n_jobs=5)]: Done  11 tasks      | elapsed: 11.6min\n"
     ]
    },
    {
     "name": "stdout",
     "output_type": "stream",
     "text": [
      "[CV] . n_estimators=100, scale_pos_weight=3.5, score=0.957476 - 3.9min\n",
      "[CV] n_estimators=150, scale_pos_weight=2.5 ..........................\n"
     ]
    },
    {
     "name": "stderr",
     "output_type": "stream",
     "text": [
      "[Parallel(n_jobs=5)]: Done  12 tasks      | elapsed: 11.7min\n"
     ]
    },
    {
     "name": "stdout",
     "output_type": "stream",
     "text": [
      "[CV] ... n_estimators=150, scale_pos_weight=2, score=0.950651 - 5.8min\n",
      "[CV] n_estimators=150, scale_pos_weight=2.5 ..........................\n"
     ]
    },
    {
     "name": "stderr",
     "output_type": "stream",
     "text": [
      "[Parallel(n_jobs=5)]: Done  13 tasks      | elapsed: 13.6min\n"
     ]
    },
    {
     "name": "stdout",
     "output_type": "stream",
     "text": [
      "[CV] ... n_estimators=150, scale_pos_weight=2, score=0.953361 - 5.8min\n",
      "[CV] n_estimators=150, scale_pos_weight=3 ............................\n"
     ]
    },
    {
     "name": "stderr",
     "output_type": "stream",
     "text": [
      "[Parallel(n_jobs=5)]: Done  14 tasks      | elapsed: 13.6min\n"
     ]
    },
    {
     "name": "stdout",
     "output_type": "stream",
     "text": [
      "[CV] ... n_estimators=150, scale_pos_weight=2, score=0.949246 - 5.8min\n",
      "[CV] n_estimators=150, scale_pos_weight=3 ............................\n"
     ]
    },
    {
     "name": "stderr",
     "output_type": "stream",
     "text": [
      "[Parallel(n_jobs=5)]: Done  15 tasks      | elapsed: 13.7min\n"
     ]
    },
    {
     "name": "stdout",
     "output_type": "stream",
     "text": [
      "[CV] . n_estimators=150, scale_pos_weight=2.5, score=0.954047 - 5.7min\n",
      "[CV] n_estimators=150, scale_pos_weight=3 ............................\n"
     ]
    },
    {
     "name": "stderr",
     "output_type": "stream",
     "text": [
      "[Parallel(n_jobs=5)]: Done  16 tasks      | elapsed: 17.4min\n"
     ]
    },
    {
     "name": "stdout",
     "output_type": "stream",
     "text": [
      "[CV] . n_estimators=150, scale_pos_weight=2.5, score=0.953393 - 5.8min\n",
      "[CV] n_estimators=150, scale_pos_weight=3.5 ..........................\n"
     ]
    },
    {
     "name": "stderr",
     "output_type": "stream",
     "text": [
      "[Parallel(n_jobs=5)]: Done  17 tasks      | elapsed: 17.4min\n"
     ]
    },
    {
     "name": "stdout",
     "output_type": "stream",
     "text": [
      "[CV] . n_estimators=150, scale_pos_weight=2.5, score=0.952675 - 5.7min\n",
      "[CV] n_estimators=150, scale_pos_weight=3.5 ..........................\n"
     ]
    },
    {
     "name": "stderr",
     "output_type": "stream",
     "text": [
      "[Parallel(n_jobs=5)]: Done  18 tasks      | elapsed: 19.3min\n"
     ]
    },
    {
     "name": "stdout",
     "output_type": "stream",
     "text": [
      "[CV] ... n_estimators=150, scale_pos_weight=3, score=0.952707 - 5.7min\n",
      "[CV] n_estimators=150, scale_pos_weight=3.5 ..........................\n"
     ]
    },
    {
     "name": "stderr",
     "output_type": "stream",
     "text": [
      "[Parallel(n_jobs=5)]: Done  19 tasks      | elapsed: 19.3min\n"
     ]
    },
    {
     "name": "stdout",
     "output_type": "stream",
     "text": [
      "[CV] ... n_estimators=150, scale_pos_weight=3, score=0.955418 - 5.7min\n",
      "[CV] n_estimators=200, scale_pos_weight=2 ............................\n"
     ]
    },
    {
     "name": "stderr",
     "output_type": "stream",
     "text": [
      "[Parallel(n_jobs=5)]: Done  20 tasks      | elapsed: 19.3min\n"
     ]
    },
    {
     "name": "stdout",
     "output_type": "stream",
     "text": [
      "[CV] ... n_estimators=150, scale_pos_weight=3, score=0.953361 - 5.7min\n",
      "[CV] n_estimators=200, scale_pos_weight=2 ............................\n"
     ]
    },
    {
     "name": "stderr",
     "output_type": "stream",
     "text": [
      "[Parallel(n_jobs=5)]: Done  21 tasks      | elapsed: 23.1min\n"
     ]
    },
    {
     "name": "stdout",
     "output_type": "stream",
     "text": [
      "[CV] . n_estimators=150, scale_pos_weight=3.5, score=0.949966 - 5.8min\n",
      "[CV] n_estimators=200, scale_pos_weight=2 ............................\n"
     ]
    },
    {
     "name": "stderr",
     "output_type": "stream",
     "text": [
      "[Parallel(n_jobs=5)]: Done  22 tasks      | elapsed: 23.2min\n"
     ]
    },
    {
     "name": "stdout",
     "output_type": "stream",
     "text": [
      "[CV] . n_estimators=150, scale_pos_weight=3.5, score=0.958162 - 5.7min\n",
      "[CV] n_estimators=200, scale_pos_weight=2.5 ..........................\n"
     ]
    },
    {
     "name": "stderr",
     "output_type": "stream",
     "text": [
      "[Parallel(n_jobs=5)]: Done  23 tasks      | elapsed: 25.0min\n"
     ]
    },
    {
     "name": "stdout",
     "output_type": "stream",
     "text": [
      "[CV] . n_estimators=150, scale_pos_weight=3.5, score=0.950617 - 5.7min\n",
      "[CV] n_estimators=200, scale_pos_weight=2.5 ..........................\n"
     ]
    },
    {
     "name": "stderr",
     "output_type": "stream",
     "text": [
      "[Parallel(n_jobs=5)]: Done  24 tasks      | elapsed: 25.0min\n"
     ]
    },
    {
     "name": "stdout",
     "output_type": "stream",
     "text": [
      "[CV] ... n_estimators=200, scale_pos_weight=2, score=0.949966 - 7.5min\n",
      "[CV] n_estimators=200, scale_pos_weight=2.5 ..........................\n"
     ]
    },
    {
     "name": "stderr",
     "output_type": "stream",
     "text": [
      "[Parallel(n_jobs=5)]: Done  25 tasks      | elapsed: 26.9min\n"
     ]
    },
    {
     "name": "stdout",
     "output_type": "stream",
     "text": [
      "[CV] ... n_estimators=200, scale_pos_weight=2, score=0.948560 - 7.6min\n",
      "[CV] n_estimators=200, scale_pos_weight=3 ............................\n"
     ]
    },
    {
     "name": "stderr",
     "output_type": "stream",
     "text": [
      "[Parallel(n_jobs=5)]: Done  26 tasks      | elapsed: 30.8min\n"
     ]
    },
    {
     "name": "stdout",
     "output_type": "stream",
     "text": [
      "[CV] ... n_estimators=200, scale_pos_weight=2, score=0.956790 - 7.7min\n",
      "[CV] n_estimators=200, scale_pos_weight=3 ............................\n"
     ]
    },
    {
     "name": "stderr",
     "output_type": "stream",
     "text": [
      "[Parallel(n_jobs=5)]: Done  27 tasks      | elapsed: 30.8min\n"
     ]
    },
    {
     "name": "stdout",
     "output_type": "stream",
     "text": [
      "[CV] . n_estimators=200, scale_pos_weight=2.5, score=0.955418 - 7.4min\n",
      "[CV] n_estimators=200, scale_pos_weight=3 ............................\n",
      "[CV] . n_estimators=200, scale_pos_weight=2.5, score=0.952022 - 7.5min\n",
      "[CV] n_estimators=200, scale_pos_weight=3.5 ..........................\n"
     ]
    },
    {
     "name": "stderr",
     "output_type": "stream",
     "text": [
      "[Parallel(n_jobs=5)]: Done  29 out of  36 | elapsed: 32.5min remaining:  7.8min\n"
     ]
    },
    {
     "name": "stdout",
     "output_type": "stream",
     "text": [
      "[CV] . n_estimators=200, scale_pos_weight=2.5, score=0.952675 - 7.6min\n",
      "[CV] n_estimators=200, scale_pos_weight=3.5 ..........................\n",
      "[CV] ... n_estimators=200, scale_pos_weight=3, score=0.952707 - 7.5min\n",
      "[CV] n_estimators=200, scale_pos_weight=3.5 ..........................\n"
     ]
    },
    {
     "name": "stderr",
     "output_type": "stream",
     "text": [
      "[Parallel(n_jobs=5)]: Done  31 out of  36 | elapsed: 38.3min remaining:  6.2min\n"
     ]
    },
    {
     "name": "stdout",
     "output_type": "stream",
     "text": [
      "[CV] ... n_estimators=200, scale_pos_weight=3, score=0.957476 - 7.5min\n",
      "[CV] ... n_estimators=200, scale_pos_weight=3, score=0.954047 - 7.3min\n"
     ]
    },
    {
     "name": "stderr",
     "output_type": "stream",
     "text": [
      "[Parallel(n_jobs=5)]: Done  33 out of  36 | elapsed: 39.7min remaining:  3.6min\n"
     ]
    },
    {
     "name": "stdout",
     "output_type": "stream",
     "text": [
      "[CV] . n_estimators=200, scale_pos_weight=3.5, score=0.952707 - 7.2min\n",
      "[CV] . n_estimators=200, scale_pos_weight=3.5, score=0.958848 - 6.2min\n",
      "[CV] . n_estimators=200, scale_pos_weight=3.5, score=0.950617 - 3.9min\n"
     ]
    },
    {
     "name": "stderr",
     "output_type": "stream",
     "text": [
      "[Parallel(n_jobs=5)]: Done  36 out of  36 | elapsed: 42.2min finished\n"
     ]
    },
    {
     "name": "stdout",
     "output_type": "stream",
     "text": [
      "180\n",
      "Fitting 3 folds for each of 12 candidates, totalling 36 fits\n",
      "[CV] n_estimators=100, scale_pos_weight=2 ............................\n",
      "[CV] n_estimators=100, scale_pos_weight=2 ............................\n",
      "[CV] n_estimators=100, scale_pos_weight=2 ............................\n",
      "[CV] n_estimators=100, scale_pos_weight=2.5 ..........................\n",
      "[CV] n_estimators=100, scale_pos_weight=2.5 ..........................\n",
      "[CV] ... n_estimators=100, scale_pos_weight=2, score=0.882111 - 3.8min\n",
      "[CV] n_estimators=100, scale_pos_weight=2.5 ..........................\n"
     ]
    },
    {
     "name": "stderr",
     "output_type": "stream",
     "text": [
      "[Parallel(n_jobs=5)]: Done   1 tasks      | elapsed:  3.8min\n"
     ]
    },
    {
     "name": "stdout",
     "output_type": "stream",
     "text": [
      "[CV] . n_estimators=100, scale_pos_weight=2.5, score=0.871742 - 3.9min\n",
      "[CV] n_estimators=100, scale_pos_weight=3 ............................\n",
      "[CV] ... n_estimators=100, scale_pos_weight=2, score=0.874486 - 3.9min\n"
     ]
    },
    {
     "name": "stderr",
     "output_type": "stream",
     "text": [
      "[Parallel(n_jobs=5)]: Done   2 tasks      | elapsed:  3.9min\n",
      "[Parallel(n_jobs=5)]: Done   3 tasks      | elapsed:  3.9min\n"
     ]
    },
    {
     "name": "stdout",
     "output_type": "stream",
     "text": [
      "[CV] n_estimators=100, scale_pos_weight=3 ............................\n",
      "[CV] ... n_estimators=100, scale_pos_weight=2, score=0.883402 - 3.9min\n",
      "[CV] n_estimators=100, scale_pos_weight=3 ............................\n"
     ]
    },
    {
     "name": "stderr",
     "output_type": "stream",
     "text": [
      "[Parallel(n_jobs=5)]: Done   4 tasks      | elapsed:  3.9min\n"
     ]
    },
    {
     "name": "stdout",
     "output_type": "stream",
     "text": [
      "[CV] . n_estimators=100, scale_pos_weight=2.5, score=0.879369 - 3.9min\n",
      "[CV] n_estimators=100, scale_pos_weight=3.5 ..........................\n"
     ]
    },
    {
     "name": "stderr",
     "output_type": "stream",
     "text": [
      "[Parallel(n_jobs=5)]: Done   5 tasks      | elapsed:  3.9min\n"
     ]
    },
    {
     "name": "stdout",
     "output_type": "stream",
     "text": [
      "[CV] . n_estimators=100, scale_pos_weight=2.5, score=0.876543 - 3.8min\n",
      "[CV] n_estimators=100, scale_pos_weight=3.5 ..........................\n"
     ]
    },
    {
     "name": "stderr",
     "output_type": "stream",
     "text": [
      "[Parallel(n_jobs=5)]: Done   6 tasks      | elapsed:  7.7min\n"
     ]
    },
    {
     "name": "stdout",
     "output_type": "stream",
     "text": [
      "[CV] ... n_estimators=100, scale_pos_weight=3, score=0.882111 - 3.8min\n",
      "[CV] n_estimators=100, scale_pos_weight=3.5 ..........................\n"
     ]
    },
    {
     "name": "stderr",
     "output_type": "stream",
     "text": [
      "[Parallel(n_jobs=5)]: Done   7 tasks      | elapsed:  7.7min\n"
     ]
    },
    {
     "name": "stdout",
     "output_type": "stream",
     "text": [
      "[CV] ... n_estimators=100, scale_pos_weight=3, score=0.868313 - 3.9min\n",
      "[CV] n_estimators=150, scale_pos_weight=2 ............................\n"
     ]
    },
    {
     "name": "stderr",
     "output_type": "stream",
     "text": [
      "[Parallel(n_jobs=5)]: Done   8 tasks      | elapsed:  7.8min\n"
     ]
    },
    {
     "name": "stdout",
     "output_type": "stream",
     "text": [
      "[CV] . n_estimators=100, scale_pos_weight=3.5, score=0.877999 - 3.9min\n",
      "[CV] n_estimators=150, scale_pos_weight=2 ............................\n"
     ]
    },
    {
     "name": "stderr",
     "output_type": "stream",
     "text": [
      "[Parallel(n_jobs=5)]: Done   9 tasks      | elapsed:  7.8min\n"
     ]
    },
    {
     "name": "stdout",
     "output_type": "stream",
     "text": [
      "[CV] ... n_estimators=100, scale_pos_weight=3, score=0.876543 - 3.9min\n",
      "[CV] n_estimators=150, scale_pos_weight=2 ............................\n"
     ]
    },
    {
     "name": "stderr",
     "output_type": "stream",
     "text": [
      "[Parallel(n_jobs=5)]: Done  10 tasks      | elapsed:  7.8min\n"
     ]
    },
    {
     "name": "stdout",
     "output_type": "stream",
     "text": [
      "[CV] . n_estimators=100, scale_pos_weight=3.5, score=0.863512 - 3.9min\n",
      "[CV] n_estimators=150, scale_pos_weight=2.5 ..........................\n"
     ]
    },
    {
     "name": "stderr",
     "output_type": "stream",
     "text": [
      "[Parallel(n_jobs=5)]: Done  11 tasks      | elapsed: 11.6min\n"
     ]
    },
    {
     "name": "stdout",
     "output_type": "stream",
     "text": [
      "[CV] . n_estimators=100, scale_pos_weight=3.5, score=0.873800 - 3.9min\n",
      "[CV] n_estimators=150, scale_pos_weight=2.5 ..........................\n"
     ]
    },
    {
     "name": "stderr",
     "output_type": "stream",
     "text": [
      "[Parallel(n_jobs=5)]: Done  12 tasks      | elapsed: 11.6min\n"
     ]
    },
    {
     "name": "stdout",
     "output_type": "stream",
     "text": [
      "[CV] ... n_estimators=150, scale_pos_weight=2, score=0.878684 - 5.8min\n",
      "[CV] n_estimators=150, scale_pos_weight=2.5 ..........................\n"
     ]
    },
    {
     "name": "stderr",
     "output_type": "stream",
     "text": [
      "[Parallel(n_jobs=5)]: Done  13 tasks      | elapsed: 13.6min\n"
     ]
    },
    {
     "name": "stdout",
     "output_type": "stream",
     "text": [
      "[CV] ... n_estimators=150, scale_pos_weight=2, score=0.872428 - 5.8min\n",
      "[CV] n_estimators=150, scale_pos_weight=3 ............................\n"
     ]
    },
    {
     "name": "stderr",
     "output_type": "stream",
     "text": [
      "[Parallel(n_jobs=5)]: Done  14 tasks      | elapsed: 13.6min\n"
     ]
    },
    {
     "name": "stdout",
     "output_type": "stream",
     "text": [
      "[CV] ... n_estimators=150, scale_pos_weight=2, score=0.880658 - 5.8min\n",
      "[CV] n_estimators=150, scale_pos_weight=3 ............................\n"
     ]
    },
    {
     "name": "stderr",
     "output_type": "stream",
     "text": [
      "[Parallel(n_jobs=5)]: Done  15 tasks      | elapsed: 13.6min\n"
     ]
    },
    {
     "name": "stdout",
     "output_type": "stream",
     "text": [
      "[CV] . n_estimators=150, scale_pos_weight=2.5, score=0.880740 - 5.7min\n",
      "[CV] n_estimators=150, scale_pos_weight=3 ............................\n"
     ]
    },
    {
     "name": "stderr",
     "output_type": "stream",
     "text": [
      "[Parallel(n_jobs=5)]: Done  16 tasks      | elapsed: 17.3min\n"
     ]
    },
    {
     "name": "stdout",
     "output_type": "stream",
     "text": [
      "[CV] . n_estimators=150, scale_pos_weight=2.5, score=0.868999 - 5.8min\n",
      "[CV] n_estimators=150, scale_pos_weight=3.5 ..........................\n"
     ]
    },
    {
     "name": "stderr",
     "output_type": "stream",
     "text": [
      "[Parallel(n_jobs=5)]: Done  17 tasks      | elapsed: 17.4min\n"
     ]
    },
    {
     "name": "stdout",
     "output_type": "stream",
     "text": [
      "[CV] . n_estimators=150, scale_pos_weight=2.5, score=0.878601 - 5.7min\n",
      "[CV] n_estimators=150, scale_pos_weight=3.5 ..........................\n"
     ]
    },
    {
     "name": "stderr",
     "output_type": "stream",
     "text": [
      "[Parallel(n_jobs=5)]: Done  18 tasks      | elapsed: 19.3min\n"
     ]
    },
    {
     "name": "stdout",
     "output_type": "stream",
     "text": [
      "[CV] ... n_estimators=150, scale_pos_weight=3, score=0.871742 - 5.7min\n",
      "[CV] n_estimators=150, scale_pos_weight=3.5 ..........................\n"
     ]
    },
    {
     "name": "stderr",
     "output_type": "stream",
     "text": [
      "[Parallel(n_jobs=5)]: Done  19 tasks      | elapsed: 19.3min\n"
     ]
    },
    {
     "name": "stdout",
     "output_type": "stream",
     "text": [
      "[CV] ... n_estimators=150, scale_pos_weight=3, score=0.873886 - 5.8min\n",
      "[CV] n_estimators=200, scale_pos_weight=2 ............................\n"
     ]
    },
    {
     "name": "stderr",
     "output_type": "stream",
     "text": [
      "[Parallel(n_jobs=5)]: Done  20 tasks      | elapsed: 19.4min\n"
     ]
    },
    {
     "name": "stdout",
     "output_type": "stream",
     "text": [
      "[CV] ... n_estimators=150, scale_pos_weight=3, score=0.880658 - 5.8min\n",
      "[CV] n_estimators=200, scale_pos_weight=2 ............................\n"
     ]
    },
    {
     "name": "stderr",
     "output_type": "stream",
     "text": [
      "[Parallel(n_jobs=5)]: Done  21 tasks      | elapsed: 23.1min\n"
     ]
    },
    {
     "name": "stdout",
     "output_type": "stream",
     "text": [
      "[CV] . n_estimators=150, scale_pos_weight=3.5, score=0.876628 - 5.9min\n",
      "[CV] n_estimators=200, scale_pos_weight=2 ............................\n"
     ]
    },
    {
     "name": "stderr",
     "output_type": "stream",
     "text": [
      "[Parallel(n_jobs=5)]: Done  22 tasks      | elapsed: 23.3min\n"
     ]
    },
    {
     "name": "stdout",
     "output_type": "stream",
     "text": [
      "[CV] . n_estimators=150, scale_pos_weight=3.5, score=0.864883 - 5.8min\n",
      "[CV] n_estimators=200, scale_pos_weight=2.5 ..........................\n"
     ]
    },
    {
     "name": "stderr",
     "output_type": "stream",
     "text": [
      "[Parallel(n_jobs=5)]: Done  23 tasks      | elapsed: 25.1min\n"
     ]
    },
    {
     "name": "stdout",
     "output_type": "stream",
     "text": [
      "[CV] . n_estimators=150, scale_pos_weight=3.5, score=0.875857 - 5.8min\n",
      "[CV] n_estimators=200, scale_pos_weight=2.5 ..........................\n"
     ]
    },
    {
     "name": "stderr",
     "output_type": "stream",
     "text": [
      "[Parallel(n_jobs=5)]: Done  24 tasks      | elapsed: 25.1min\n"
     ]
    },
    {
     "name": "stdout",
     "output_type": "stream",
     "text": [
      "[CV] ... n_estimators=200, scale_pos_weight=2, score=0.877999 - 7.5min\n",
      "[CV] n_estimators=200, scale_pos_weight=2.5 ..........................\n"
     ]
    },
    {
     "name": "stderr",
     "output_type": "stream",
     "text": [
      "[Parallel(n_jobs=5)]: Done  25 tasks      | elapsed: 26.9min\n"
     ]
    },
    {
     "name": "stdout",
     "output_type": "stream",
     "text": [
      "[CV] ... n_estimators=200, scale_pos_weight=2, score=0.870370 - 7.6min\n",
      "[CV] n_estimators=200, scale_pos_weight=3 ............................\n"
     ]
    },
    {
     "name": "stderr",
     "output_type": "stream",
     "text": [
      "[Parallel(n_jobs=5)]: Done  26 tasks      | elapsed: 30.7min\n"
     ]
    },
    {
     "name": "stdout",
     "output_type": "stream",
     "text": [
      "[CV] ... n_estimators=200, scale_pos_weight=2, score=0.877229 - 7.7min\n",
      "[CV] n_estimators=200, scale_pos_weight=3 ............................\n"
     ]
    },
    {
     "name": "stderr",
     "output_type": "stream",
     "text": [
      "[Parallel(n_jobs=5)]: Done  27 tasks      | elapsed: 31.0min\n"
     ]
    },
    {
     "name": "stdout",
     "output_type": "stream",
     "text": [
      "[CV] . n_estimators=200, scale_pos_weight=2.5, score=0.871056 - 7.6min\n",
      "[CV] n_estimators=200, scale_pos_weight=3 ............................\n",
      "[CV] . n_estimators=200, scale_pos_weight=2.5, score=0.877999 - 7.7min\n",
      "[CV] n_estimators=200, scale_pos_weight=3.5 ..........................\n"
     ]
    },
    {
     "name": "stderr",
     "output_type": "stream",
     "text": [
      "[Parallel(n_jobs=5)]: Done  29 out of  36 | elapsed: 32.8min remaining:  7.9min\n"
     ]
    },
    {
     "name": "stdout",
     "output_type": "stream",
     "text": [
      "[CV] . n_estimators=200, scale_pos_weight=2.5, score=0.873114 - 7.6min\n",
      "[CV] n_estimators=200, scale_pos_weight=3.5 ..........................\n",
      "[CV] ... n_estimators=200, scale_pos_weight=3, score=0.875257 - 7.6min\n",
      "[CV] n_estimators=200, scale_pos_weight=3.5 ..........................\n"
     ]
    },
    {
     "name": "stderr",
     "output_type": "stream",
     "text": [
      "[Parallel(n_jobs=5)]: Done  31 out of  36 | elapsed: 38.4min remaining:  6.2min\n"
     ]
    },
    {
     "name": "stdout",
     "output_type": "stream",
     "text": [
      "[CV] ... n_estimators=200, scale_pos_weight=3, score=0.872428 - 7.7min\n",
      "[CV] ... n_estimators=200, scale_pos_weight=3, score=0.879973 - 7.3min\n"
     ]
    },
    {
     "name": "stderr",
     "output_type": "stream",
     "text": [
      "[Parallel(n_jobs=5)]: Done  33 out of  36 | elapsed: 40.1min remaining:  3.6min\n"
     ]
    },
    {
     "name": "stdout",
     "output_type": "stream",
     "text": [
      "[CV] . n_estimators=200, scale_pos_weight=3.5, score=0.875257 - 7.3min\n",
      "[CV] . n_estimators=200, scale_pos_weight=3.5, score=0.866941 - 6.4min\n",
      "[CV] . n_estimators=200, scale_pos_weight=3.5, score=0.875171 - 4.1min\n"
     ]
    },
    {
     "name": "stderr",
     "output_type": "stream",
     "text": [
      "[Parallel(n_jobs=5)]: Done  36 out of  36 | elapsed: 42.5min finished\n"
     ]
    },
    {
     "name": "stdout",
     "output_type": "stream",
     "text": [
      "448\n",
      "Fitting 3 folds for each of 12 candidates, totalling 36 fits\n",
      "[CV] n_estimators=100, scale_pos_weight=2 ............................\n",
      "[CV] n_estimators=100, scale_pos_weight=2 ............................\n",
      "[CV] n_estimators=100, scale_pos_weight=2 ............................\n",
      "[CV] n_estimators=100, scale_pos_weight=2.5 ..........................\n",
      "[CV] n_estimators=100, scale_pos_weight=2.5 ..........................\n",
      "[CV] ... n_estimators=100, scale_pos_weight=2, score=0.935528 - 3.8min\n",
      "[CV] n_estimators=100, scale_pos_weight=2.5 ..........................\n"
     ]
    },
    {
     "name": "stderr",
     "output_type": "stream",
     "text": [
      "[Parallel(n_jobs=5)]: Done   1 tasks      | elapsed:  3.8min\n"
     ]
    },
    {
     "name": "stdout",
     "output_type": "stream",
     "text": [
      "[CV] ... n_estimators=100, scale_pos_weight=2, score=0.941741 - 3.8min\n",
      "[CV] n_estimators=100, scale_pos_weight=3 ............................\n"
     ]
    },
    {
     "name": "stderr",
     "output_type": "stream",
     "text": [
      "[Parallel(n_jobs=5)]: Done   2 tasks      | elapsed:  3.8min\n"
     ]
    },
    {
     "name": "stdout",
     "output_type": "stream",
     "text": [
      "[CV] ... n_estimators=100, scale_pos_weight=2, score=0.936214 - 3.8min\n",
      "[CV] n_estimators=100, scale_pos_weight=3 ............................\n",
      "[CV] . n_estimators=100, scale_pos_weight=2.5, score=0.938999 - 3.8min\n",
      "[CV] n_estimators=100, scale_pos_weight=3 ............................\n"
     ]
    },
    {
     "name": "stderr",
     "output_type": "stream",
     "text": [
      "[Parallel(n_jobs=5)]: Done   3 tasks      | elapsed:  3.8min\n",
      "[Parallel(n_jobs=5)]: Done   4 tasks      | elapsed:  3.8min\n"
     ]
    },
    {
     "name": "stdout",
     "output_type": "stream",
     "text": [
      "[CV] . n_estimators=100, scale_pos_weight=2.5, score=0.936900 - 3.9min\n",
      "[CV] n_estimators=100, scale_pos_weight=3.5 ..........................\n"
     ]
    },
    {
     "name": "stderr",
     "output_type": "stream",
     "text": [
      "[Parallel(n_jobs=5)]: Done   5 tasks      | elapsed:  3.9min\n"
     ]
    },
    {
     "name": "stdout",
     "output_type": "stream",
     "text": [
      "[CV] ... n_estimators=100, scale_pos_weight=3, score=0.936258 - 3.8min\n",
      "[CV] n_estimators=100, scale_pos_weight=3.5 ..........................\n"
     ]
    },
    {
     "name": "stderr",
     "output_type": "stream",
     "text": [
      "[Parallel(n_jobs=5)]: Done   6 tasks      | elapsed:  7.6min\n"
     ]
    },
    {
     "name": "stdout",
     "output_type": "stream",
     "text": [
      "[CV] . n_estimators=100, scale_pos_weight=2.5, score=0.934156 - 3.8min\n",
      "[CV] n_estimators=100, scale_pos_weight=3.5 ..........................\n"
     ]
    },
    {
     "name": "stderr",
     "output_type": "stream",
     "text": [
      "[Parallel(n_jobs=5)]: Done   7 tasks      | elapsed:  7.6min\n"
     ]
    },
    {
     "name": "stdout",
     "output_type": "stream",
     "text": [
      "[CV] ... n_estimators=100, scale_pos_weight=3, score=0.939643 - 3.9min\n",
      "[CV] n_estimators=150, scale_pos_weight=2 ............................\n"
     ]
    },
    {
     "name": "stderr",
     "output_type": "stream",
     "text": [
      "[Parallel(n_jobs=5)]: Done   8 tasks      | elapsed:  7.7min\n"
     ]
    },
    {
     "name": "stdout",
     "output_type": "stream",
     "text": [
      "[CV] . n_estimators=100, scale_pos_weight=3.5, score=0.935572 - 3.9min\n",
      "[CV] n_estimators=150, scale_pos_weight=2 ............................\n"
     ]
    },
    {
     "name": "stderr",
     "output_type": "stream",
     "text": [
      "[Parallel(n_jobs=5)]: Done   9 tasks      | elapsed:  7.8min\n"
     ]
    },
    {
     "name": "stdout",
     "output_type": "stream",
     "text": [
      "[CV] ... n_estimators=100, scale_pos_weight=3, score=0.933471 - 3.9min\n",
      "[CV] n_estimators=150, scale_pos_weight=2 ............................\n"
     ]
    },
    {
     "name": "stderr",
     "output_type": "stream",
     "text": [
      "[Parallel(n_jobs=5)]: Done  10 tasks      | elapsed:  7.8min\n"
     ]
    },
    {
     "name": "stdout",
     "output_type": "stream",
     "text": [
      "[CV] . n_estimators=100, scale_pos_weight=3.5, score=0.934842 - 3.9min\n",
      "[CV] n_estimators=150, scale_pos_weight=2.5 ..........................\n"
     ]
    },
    {
     "name": "stderr",
     "output_type": "stream",
     "text": [
      "[Parallel(n_jobs=5)]: Done  11 tasks      | elapsed: 11.5min\n"
     ]
    },
    {
     "name": "stdout",
     "output_type": "stream",
     "text": [
      "[CV] . n_estimators=100, scale_pos_weight=3.5, score=0.929355 - 3.9min\n",
      "[CV] n_estimators=150, scale_pos_weight=2.5 ..........................\n"
     ]
    },
    {
     "name": "stderr",
     "output_type": "stream",
     "text": [
      "[Parallel(n_jobs=5)]: Done  12 tasks      | elapsed: 11.5min\n"
     ]
    },
    {
     "name": "stdout",
     "output_type": "stream",
     "text": [
      "[CV] ... n_estimators=150, scale_pos_weight=2, score=0.941741 - 5.7min\n",
      "[CV] n_estimators=150, scale_pos_weight=2.5 ..........................\n"
     ]
    },
    {
     "name": "stderr",
     "output_type": "stream",
     "text": [
      "[Parallel(n_jobs=5)]: Done  13 tasks      | elapsed: 13.4min\n"
     ]
    },
    {
     "name": "stdout",
     "output_type": "stream",
     "text": [
      "[CV] ... n_estimators=150, scale_pos_weight=2, score=0.934842 - 5.7min\n",
      "[CV] n_estimators=150, scale_pos_weight=3 ............................\n"
     ]
    },
    {
     "name": "stderr",
     "output_type": "stream",
     "text": [
      "[Parallel(n_jobs=5)]: Done  14 tasks      | elapsed: 13.5min\n"
     ]
    },
    {
     "name": "stdout",
     "output_type": "stream",
     "text": [
      "[CV] ... n_estimators=150, scale_pos_weight=2, score=0.936900 - 5.7min\n",
      "[CV] n_estimators=150, scale_pos_weight=3 ............................\n"
     ]
    },
    {
     "name": "stderr",
     "output_type": "stream",
     "text": [
      "[Parallel(n_jobs=5)]: Done  15 tasks      | elapsed: 13.5min\n"
     ]
    },
    {
     "name": "stdout",
     "output_type": "stream",
     "text": [
      "[CV] . n_estimators=150, scale_pos_weight=2.5, score=0.938999 - 5.7min\n",
      "[CV] n_estimators=150, scale_pos_weight=3 ............................\n"
     ]
    },
    {
     "name": "stderr",
     "output_type": "stream",
     "text": [
      "[Parallel(n_jobs=5)]: Done  16 tasks      | elapsed: 17.2min\n"
     ]
    },
    {
     "name": "stdout",
     "output_type": "stream",
     "text": [
      "[CV] . n_estimators=150, scale_pos_weight=2.5, score=0.938272 - 5.7min\n",
      "[CV] n_estimators=150, scale_pos_weight=3.5 ..........................\n"
     ]
    },
    {
     "name": "stderr",
     "output_type": "stream",
     "text": [
      "[Parallel(n_jobs=5)]: Done  17 tasks      | elapsed: 17.2min\n"
     ]
    },
    {
     "name": "stdout",
     "output_type": "stream",
     "text": [
      "[CV] ... n_estimators=150, scale_pos_weight=3, score=0.938314 - 5.6min\n",
      "[CV] n_estimators=150, scale_pos_weight=3.5 ..........................\n"
     ]
    },
    {
     "name": "stderr",
     "output_type": "stream",
     "text": [
      "[Parallel(n_jobs=5)]: Done  18 tasks      | elapsed: 19.1min\n"
     ]
    },
    {
     "name": "stdout",
     "output_type": "stream",
     "text": [
      "[CV] . n_estimators=150, scale_pos_weight=2.5, score=0.932785 - 5.7min\n",
      "[CV] n_estimators=150, scale_pos_weight=3.5 ..........................\n"
     ]
    },
    {
     "name": "stderr",
     "output_type": "stream",
     "text": [
      "[Parallel(n_jobs=5)]: Done  19 tasks      | elapsed: 19.1min\n"
     ]
    },
    {
     "name": "stdout",
     "output_type": "stream",
     "text": [
      "[CV] ... n_estimators=150, scale_pos_weight=3, score=0.937586 - 5.7min\n",
      "[CV] n_estimators=200, scale_pos_weight=2 ............................\n"
     ]
    },
    {
     "name": "stderr",
     "output_type": "stream",
     "text": [
      "[Parallel(n_jobs=5)]: Done  20 tasks      | elapsed: 19.2min\n"
     ]
    },
    {
     "name": "stdout",
     "output_type": "stream",
     "text": [
      "[CV] . n_estimators=150, scale_pos_weight=3.5, score=0.937629 - 5.6min\n",
      "[CV] n_estimators=200, scale_pos_weight=2 ............................\n"
     ]
    },
    {
     "name": "stderr",
     "output_type": "stream",
     "text": [
      "[Parallel(n_jobs=5)]: Done  21 tasks      | elapsed: 22.9min\n"
     ]
    },
    {
     "name": "stdout",
     "output_type": "stream",
     "text": [
      "[CV] ... n_estimators=150, scale_pos_weight=3, score=0.932099 - 5.8min\n",
      "[CV] n_estimators=200, scale_pos_weight=2 ............................\n"
     ]
    },
    {
     "name": "stderr",
     "output_type": "stream",
     "text": [
      "[Parallel(n_jobs=5)]: Done  22 tasks      | elapsed: 23.0min\n"
     ]
    },
    {
     "name": "stdout",
     "output_type": "stream",
     "text": [
      "[CV] . n_estimators=150, scale_pos_weight=3.5, score=0.931413 - 5.7min\n",
      "[CV] n_estimators=200, scale_pos_weight=2.5 ..........................\n"
     ]
    },
    {
     "name": "stderr",
     "output_type": "stream",
     "text": [
      "[Parallel(n_jobs=5)]: Done  23 tasks      | elapsed: 24.8min\n"
     ]
    },
    {
     "name": "stdout",
     "output_type": "stream",
     "text": [
      "[CV] . n_estimators=150, scale_pos_weight=3.5, score=0.936900 - 5.7min\n",
      "[CV] n_estimators=200, scale_pos_weight=2.5 ..........................\n"
     ]
    },
    {
     "name": "stderr",
     "output_type": "stream",
     "text": [
      "[Parallel(n_jobs=5)]: Done  24 tasks      | elapsed: 24.8min\n"
     ]
    },
    {
     "name": "stdout",
     "output_type": "stream",
     "text": [
      "[CV] ... n_estimators=200, scale_pos_weight=2, score=0.941741 - 7.6min\n",
      "[CV] n_estimators=200, scale_pos_weight=2.5 ..........................\n"
     ]
    },
    {
     "name": "stderr",
     "output_type": "stream",
     "text": [
      "[Parallel(n_jobs=5)]: Done  25 tasks      | elapsed: 26.9min\n"
     ]
    },
    {
     "name": "stdout",
     "output_type": "stream",
     "text": [
      "[CV] ... n_estimators=200, scale_pos_weight=2, score=0.936900 - 7.7min\n",
      "[CV] n_estimators=200, scale_pos_weight=3 ............................\n"
     ]
    },
    {
     "name": "stderr",
     "output_type": "stream",
     "text": [
      "[Parallel(n_jobs=5)]: Done  26 tasks      | elapsed: 30.5min\n"
     ]
    },
    {
     "name": "stdout",
     "output_type": "stream",
     "text": [
      "[CV] ... n_estimators=200, scale_pos_weight=2, score=0.935528 - 7.6min\n",
      "[CV] n_estimators=200, scale_pos_weight=3 ............................\n"
     ]
    },
    {
     "name": "stderr",
     "output_type": "stream",
     "text": [
      "[Parallel(n_jobs=5)]: Done  27 tasks      | elapsed: 30.6min\n"
     ]
    },
    {
     "name": "stdout",
     "output_type": "stream",
     "text": [
      "[CV] . n_estimators=200, scale_pos_weight=2.5, score=0.938957 - 7.6min\n",
      "[CV] n_estimators=200, scale_pos_weight=3 ............................\n",
      "[CV] . n_estimators=200, scale_pos_weight=2.5, score=0.940370 - 7.7min\n",
      "[CV] n_estimators=200, scale_pos_weight=3.5 ..........................\n"
     ]
    },
    {
     "name": "stderr",
     "output_type": "stream",
     "text": [
      "[Parallel(n_jobs=5)]: Done  29 out of  36 | elapsed: 32.5min remaining:  7.8min\n"
     ]
    },
    {
     "name": "stdout",
     "output_type": "stream",
     "text": [
      "[CV] . n_estimators=200, scale_pos_weight=2.5, score=0.931413 - 7.6min\n",
      "[CV] n_estimators=200, scale_pos_weight=3.5 ..........................\n",
      "[CV] ... n_estimators=200, scale_pos_weight=3, score=0.939685 - 7.5min\n",
      "[CV] n_estimators=200, scale_pos_weight=3.5 ..........................\n"
     ]
    },
    {
     "name": "stderr",
     "output_type": "stream",
     "text": [
      "[Parallel(n_jobs=5)]: Done  31 out of  36 | elapsed: 38.1min remaining:  6.1min\n"
     ]
    },
    {
     "name": "stdout",
     "output_type": "stream",
     "text": [
      "[CV] ... n_estimators=200, scale_pos_weight=3, score=0.937586 - 7.6min\n",
      "[CV] ... n_estimators=200, scale_pos_weight=3, score=0.936214 - 7.2min\n"
     ]
    },
    {
     "name": "stderr",
     "output_type": "stream",
     "text": [
      "[Parallel(n_jobs=5)]: Done  33 out of  36 | elapsed: 39.7min remaining:  3.6min\n"
     ]
    },
    {
     "name": "stdout",
     "output_type": "stream",
     "text": [
      "[CV] . n_estimators=200, scale_pos_weight=3.5, score=0.936943 - 7.3min\n",
      "[CV] . n_estimators=200, scale_pos_weight=3.5, score=0.936900 - 6.2min\n",
      "[CV] . n_estimators=200, scale_pos_weight=3.5, score=0.935528 - 4.0min\n"
     ]
    },
    {
     "name": "stderr",
     "output_type": "stream",
     "text": [
      "[Parallel(n_jobs=5)]: Done  36 out of  36 | elapsed: 42.1min finished\n"
     ]
    },
    {
     "name": "stdout",
     "output_type": "stream",
     "text": [
      "245\n",
      "Fitting 3 folds for each of 12 candidates, totalling 36 fits\n",
      "[CV] n_estimators=100, scale_pos_weight=2 ............................\n",
      "[CV] n_estimators=100, scale_pos_weight=2 ............................\n",
      "[CV] n_estimators=100, scale_pos_weight=2 ............................\n",
      "[CV] n_estimators=100, scale_pos_weight=2.5 ..........................\n",
      "[CV] n_estimators=100, scale_pos_weight=2.5 ..........................\n",
      "[CV] ... n_estimators=100, scale_pos_weight=2, score=0.881426 - 3.8min\n",
      "[CV] n_estimators=100, scale_pos_weight=2.5 ..........................\n"
     ]
    },
    {
     "name": "stderr",
     "output_type": "stream",
     "text": [
      "[Parallel(n_jobs=5)]: Done   1 tasks      | elapsed:  3.8min\n"
     ]
    },
    {
     "name": "stdout",
     "output_type": "stream",
     "text": [
      "[CV] ... n_estimators=100, scale_pos_weight=2, score=0.893004 - 3.8min\n",
      "[CV] n_estimators=100, scale_pos_weight=3 ............................\n"
     ]
    },
    {
     "name": "stderr",
     "output_type": "stream",
     "text": [
      "[Parallel(n_jobs=5)]: Done   2 tasks      | elapsed:  3.8min\n"
     ]
    },
    {
     "name": "stdout",
     "output_type": "stream",
     "text": [
      "[CV] . n_estimators=100, scale_pos_weight=2.5, score=0.882111 - 3.8min\n",
      "[CV] n_estimators=100, scale_pos_weight=3 ............................\n"
     ]
    },
    {
     "name": "stderr",
     "output_type": "stream",
     "text": [
      "[Parallel(n_jobs=5)]: Done   3 tasks      | elapsed:  3.8min\n"
     ]
    },
    {
     "name": "stdout",
     "output_type": "stream",
     "text": [
      "[CV] ... n_estimators=100, scale_pos_weight=2, score=0.898491 - 3.9min\n",
      "[CV] n_estimators=100, scale_pos_weight=3 ............................\n"
     ]
    },
    {
     "name": "stderr",
     "output_type": "stream",
     "text": [
      "[Parallel(n_jobs=5)]: Done   4 tasks      | elapsed:  3.9min\n"
     ]
    },
    {
     "name": "stdout",
     "output_type": "stream",
     "text": [
      "[CV] . n_estimators=100, scale_pos_weight=2.5, score=0.895748 - 3.9min\n",
      "[CV] n_estimators=100, scale_pos_weight=3.5 ..........................\n"
     ]
    },
    {
     "name": "stderr",
     "output_type": "stream",
     "text": [
      "[Parallel(n_jobs=5)]: Done   5 tasks      | elapsed:  3.9min\n"
     ]
    },
    {
     "name": "stdout",
     "output_type": "stream",
     "text": [
      "[CV] . n_estimators=100, scale_pos_weight=2.5, score=0.895062 - 3.9min\n",
      "[CV] n_estimators=100, scale_pos_weight=3.5 ..........................\n"
     ]
    },
    {
     "name": "stderr",
     "output_type": "stream",
     "text": [
      "[Parallel(n_jobs=5)]: Done   6 tasks      | elapsed:  7.7min\n"
     ]
    },
    {
     "name": "stdout",
     "output_type": "stream",
     "text": [
      "[CV] ... n_estimators=100, scale_pos_weight=3, score=0.877313 - 3.9min\n",
      "[CV] n_estimators=100, scale_pos_weight=3.5 ..........................\n"
     ]
    },
    {
     "name": "stderr",
     "output_type": "stream",
     "text": [
      "[Parallel(n_jobs=5)]: Done   7 tasks      | elapsed:  7.7min\n"
     ]
    },
    {
     "name": "stdout",
     "output_type": "stream",
     "text": [
      "[CV] ... n_estimators=100, scale_pos_weight=3, score=0.897119 - 3.8min\n",
      "[CV] n_estimators=150, scale_pos_weight=2 ............................\n"
     ]
    },
    {
     "name": "stderr",
     "output_type": "stream",
     "text": [
      "[Parallel(n_jobs=5)]: Done   8 tasks      | elapsed:  7.7min\n"
     ]
    },
    {
     "name": "stdout",
     "output_type": "stream",
     "text": [
      "[CV] ... n_estimators=100, scale_pos_weight=3, score=0.896433 - 3.9min\n",
      "[CV] n_estimators=150, scale_pos_weight=2 ............................\n"
     ]
    },
    {
     "name": "stderr",
     "output_type": "stream",
     "text": [
      "[Parallel(n_jobs=5)]: Done   9 tasks      | elapsed:  7.7min\n"
     ]
    },
    {
     "name": "stdout",
     "output_type": "stream",
     "text": [
      "[CV] . n_estimators=100, scale_pos_weight=3.5, score=0.877313 - 3.9min\n",
      "[CV] n_estimators=150, scale_pos_weight=2 ............................\n"
     ]
    },
    {
     "name": "stderr",
     "output_type": "stream",
     "text": [
      "[Parallel(n_jobs=5)]: Done  10 tasks      | elapsed:  7.8min\n"
     ]
    },
    {
     "name": "stdout",
     "output_type": "stream",
     "text": [
      "[CV] . n_estimators=100, scale_pos_weight=3.5, score=0.893690 - 3.9min\n",
      "[CV] n_estimators=150, scale_pos_weight=2.5 ..........................\n"
     ]
    },
    {
     "name": "stderr",
     "output_type": "stream",
     "text": [
      "[Parallel(n_jobs=5)]: Done  11 tasks      | elapsed: 11.6min\n"
     ]
    },
    {
     "name": "stdout",
     "output_type": "stream",
     "text": [
      "[CV] . n_estimators=100, scale_pos_weight=3.5, score=0.898491 - 3.9min\n",
      "[CV] n_estimators=150, scale_pos_weight=2.5 ..........................\n"
     ]
    },
    {
     "name": "stderr",
     "output_type": "stream",
     "text": [
      "[Parallel(n_jobs=5)]: Done  12 tasks      | elapsed: 11.6min\n"
     ]
    },
    {
     "name": "stdout",
     "output_type": "stream",
     "text": [
      "[CV] ... n_estimators=150, scale_pos_weight=2, score=0.896433 - 5.8min\n",
      "[CV] n_estimators=150, scale_pos_weight=2.5 ..........................\n"
     ]
    },
    {
     "name": "stderr",
     "output_type": "stream",
     "text": [
      "[Parallel(n_jobs=5)]: Done  13 tasks      | elapsed: 13.6min\n"
     ]
    },
    {
     "name": "stdout",
     "output_type": "stream",
     "text": [
      "[CV] ... n_estimators=150, scale_pos_weight=2, score=0.882111 - 5.9min\n",
      "[CV] n_estimators=150, scale_pos_weight=3 ............................\n"
     ]
    },
    {
     "name": "stderr",
     "output_type": "stream",
     "text": [
      "[Parallel(n_jobs=5)]: Done  14 tasks      | elapsed: 13.6min\n"
     ]
    },
    {
     "name": "stdout",
     "output_type": "stream",
     "text": [
      "[CV] ... n_estimators=150, scale_pos_weight=2, score=0.895062 - 5.9min\n",
      "[CV] n_estimators=150, scale_pos_weight=3 ............................\n"
     ]
    },
    {
     "name": "stderr",
     "output_type": "stream",
     "text": [
      "[Parallel(n_jobs=5)]: Done  15 tasks      | elapsed: 13.7min\n"
     ]
    },
    {
     "name": "stdout",
     "output_type": "stream",
     "text": [
      "[CV] . n_estimators=150, scale_pos_weight=2.5, score=0.897805 - 6.2min\n",
      "[CV] n_estimators=150, scale_pos_weight=3 ............................\n"
     ]
    },
    {
     "name": "stderr",
     "output_type": "stream",
     "text": [
      "[Parallel(n_jobs=5)]: Done  16 tasks      | elapsed: 17.8min\n"
     ]
    },
    {
     "name": "stdout",
     "output_type": "stream",
     "text": [
      "[CV] . n_estimators=150, scale_pos_weight=2.5, score=0.884167 - 6.3min\n",
      "[CV] n_estimators=150, scale_pos_weight=3.5 ..........................\n"
     ]
    },
    {
     "name": "stderr",
     "output_type": "stream",
     "text": [
      "[Parallel(n_jobs=5)]: Done  17 tasks      | elapsed: 17.8min\n"
     ]
    },
    {
     "name": "stdout",
     "output_type": "stream",
     "text": [
      "[CV] . n_estimators=150, scale_pos_weight=2.5, score=0.898491 - 6.2min\n",
      "[CV] n_estimators=150, scale_pos_weight=3.5 ..........................\n"
     ]
    },
    {
     "name": "stderr",
     "output_type": "stream",
     "text": [
      "[Parallel(n_jobs=5)]: Done  18 tasks      | elapsed: 19.8min\n"
     ]
    },
    {
     "name": "stdout",
     "output_type": "stream",
     "text": [
      "[CV] ... n_estimators=150, scale_pos_weight=3, score=0.898491 - 6.1min\n",
      "[CV] n_estimators=150, scale_pos_weight=3.5 ..........................\n"
     ]
    },
    {
     "name": "stderr",
     "output_type": "stream",
     "text": [
      "[Parallel(n_jobs=5)]: Done  19 tasks      | elapsed: 19.8min\n"
     ]
    },
    {
     "name": "stdout",
     "output_type": "stream",
     "text": [
      "[CV] ... n_estimators=150, scale_pos_weight=3, score=0.880055 - 6.2min\n",
      "[CV] n_estimators=200, scale_pos_weight=2 ............................\n"
     ]
    },
    {
     "name": "stderr",
     "output_type": "stream",
     "text": [
      "[Parallel(n_jobs=5)]: Done  20 tasks      | elapsed: 19.8min\n"
     ]
    },
    {
     "name": "stdout",
     "output_type": "stream",
     "text": [
      "[CV] . n_estimators=150, scale_pos_weight=3.5, score=0.880740 - 6.3min\n",
      "[CV] n_estimators=200, scale_pos_weight=2 ............................\n"
     ]
    },
    {
     "name": "stderr",
     "output_type": "stream",
     "text": [
      "[Parallel(n_jobs=5)]: Done  21 tasks      | elapsed: 24.1min\n"
     ]
    },
    {
     "name": "stdout",
     "output_type": "stream",
     "text": [
      "[CV] ... n_estimators=150, scale_pos_weight=3, score=0.896433 - 6.3min\n",
      "[CV] n_estimators=200, scale_pos_weight=2 ............................\n"
     ]
    },
    {
     "name": "stderr",
     "output_type": "stream",
     "text": [
      "[Parallel(n_jobs=5)]: Done  22 tasks      | elapsed: 24.1min\n"
     ]
    },
    {
     "name": "stdout",
     "output_type": "stream",
     "text": [
      "[CV] . n_estimators=150, scale_pos_weight=3.5, score=0.893004 - 6.4min\n",
      "[CV] n_estimators=200, scale_pos_weight=2.5 ..........................\n"
     ]
    },
    {
     "name": "stderr",
     "output_type": "stream",
     "text": [
      "[Parallel(n_jobs=5)]: Done  23 tasks      | elapsed: 26.1min\n"
     ]
    },
    {
     "name": "stdout",
     "output_type": "stream",
     "text": [
      "[CV] . n_estimators=150, scale_pos_weight=3.5, score=0.899863 - 6.4min\n",
      "[CV] n_estimators=200, scale_pos_weight=2.5 ..........................\n"
     ]
    },
    {
     "name": "stderr",
     "output_type": "stream",
     "text": [
      "[Parallel(n_jobs=5)]: Done  24 tasks      | elapsed: 26.2min\n"
     ]
    },
    {
     "name": "stdout",
     "output_type": "stream",
     "text": [
      "[CV] ... n_estimators=200, scale_pos_weight=2, score=0.884853 - 8.6min\n",
      "[CV] n_estimators=200, scale_pos_weight=2.5 ..........................\n"
     ]
    },
    {
     "name": "stderr",
     "output_type": "stream",
     "text": [
      "[Parallel(n_jobs=5)]: Done  25 tasks      | elapsed: 28.4min\n"
     ]
    },
    {
     "name": "stdout",
     "output_type": "stream",
     "text": [
      "[CV] ... n_estimators=200, scale_pos_weight=2, score=0.895748 - 8.6min\n",
      "[CV] n_estimators=200, scale_pos_weight=3 ............................\n"
     ]
    },
    {
     "name": "stderr",
     "output_type": "stream",
     "text": [
      "[Parallel(n_jobs=5)]: Done  26 tasks      | elapsed: 32.7min\n"
     ]
    },
    {
     "name": "stdout",
     "output_type": "stream",
     "text": [
      "[CV] ... n_estimators=200, scale_pos_weight=2, score=0.900549 - 8.6min\n",
      "[CV] n_estimators=200, scale_pos_weight=3 ............................\n"
     ]
    },
    {
     "name": "stderr",
     "output_type": "stream",
     "text": [
      "[Parallel(n_jobs=5)]: Done  27 tasks      | elapsed: 32.7min\n"
     ]
    },
    {
     "name": "stdout",
     "output_type": "stream",
     "text": [
      "[CV] . n_estimators=200, scale_pos_weight=2.5, score=0.883482 - 8.7min\n",
      "[CV] n_estimators=200, scale_pos_weight=3 ............................\n",
      "[CV] . n_estimators=200, scale_pos_weight=2.5, score=0.897119 - 8.8min\n",
      "[CV] n_estimators=200, scale_pos_weight=3.5 ..........................\n"
     ]
    },
    {
     "name": "stderr",
     "output_type": "stream",
     "text": [
      "[Parallel(n_jobs=5)]: Done  29 out of  36 | elapsed: 34.9min remaining:  8.4min\n"
     ]
    },
    {
     "name": "stdout",
     "output_type": "stream",
     "text": [
      "[CV] . n_estimators=200, scale_pos_weight=2.5, score=0.897119 - 9.0min\n",
      "[CV] n_estimators=200, scale_pos_weight=3.5 ..........................\n",
      "[CV] ... n_estimators=200, scale_pos_weight=3, score=0.897805 - 8.8min\n",
      "[CV] n_estimators=200, scale_pos_weight=3.5 ..........................\n"
     ]
    },
    {
     "name": "stderr",
     "output_type": "stream",
     "text": [
      "[Parallel(n_jobs=5)]: Done  31 out of  36 | elapsed: 41.5min remaining:  6.7min\n"
     ]
    },
    {
     "name": "stdout",
     "output_type": "stream",
     "text": [
      "[CV] ... n_estimators=200, scale_pos_weight=3, score=0.884167 - 8.9min\n",
      "[CV] . n_estimators=200, scale_pos_weight=3.5, score=0.884853 - 8.7min\n"
     ]
    },
    {
     "name": "stderr",
     "output_type": "stream",
     "text": [
      "[Parallel(n_jobs=5)]: Done  33 out of  36 | elapsed: 43.6min remaining:  4.0min\n"
     ]
    },
    {
     "name": "stdout",
     "output_type": "stream",
     "text": [
      "[CV] ... n_estimators=200, scale_pos_weight=3, score=0.897119 - 8.7min\n",
      "[CV] . n_estimators=200, scale_pos_weight=3.5, score=0.892318 - 7.6min\n",
      "[CV] . n_estimators=200, scale_pos_weight=3.5, score=0.898491 - 5.1min\n"
     ]
    },
    {
     "name": "stderr",
     "output_type": "stream",
     "text": [
      "[Parallel(n_jobs=5)]: Done  36 out of  36 | elapsed: 46.6min finished\n"
     ]
    },
    {
     "name": "stdout",
     "output_type": "stream",
     "text": [
      "494\n",
      "Fitting 3 folds for each of 12 candidates, totalling 36 fits\n",
      "[CV] n_estimators=100, scale_pos_weight=2 ............................\n",
      "[CV] n_estimators=100, scale_pos_weight=2 ............................\n",
      "[CV] n_estimators=100, scale_pos_weight=2 ............................\n",
      "[CV] n_estimators=100, scale_pos_weight=2.5 ..........................\n",
      "[CV] n_estimators=100, scale_pos_weight=2.5 ..........................\n",
      "[CV] ... n_estimators=100, scale_pos_weight=2, score=0.963674 - 4.7min\n",
      "[CV] n_estimators=100, scale_pos_weight=2.5 ..........................\n"
     ]
    },
    {
     "name": "stderr",
     "output_type": "stream",
     "text": [
      "[Parallel(n_jobs=5)]: Done   1 tasks      | elapsed:  4.7min\n"
     ]
    },
    {
     "name": "stdout",
     "output_type": "stream",
     "text": [
      "[CV] ... n_estimators=100, scale_pos_weight=2, score=0.964359 - 4.7min\n",
      "[CV] n_estimators=100, scale_pos_weight=3 ............................\n"
     ]
    },
    {
     "name": "stderr",
     "output_type": "stream",
     "text": [
      "[Parallel(n_jobs=5)]: Done   2 tasks      | elapsed:  4.7min\n"
     ]
    },
    {
     "name": "stdout",
     "output_type": "stream",
     "text": [
      "[CV] . n_estimators=100, scale_pos_weight=2.5, score=0.965045 - 4.8min\n",
      "[CV] n_estimators=100, scale_pos_weight=3 ............................\n"
     ]
    },
    {
     "name": "stderr",
     "output_type": "stream",
     "text": [
      "[Parallel(n_jobs=5)]: Done   3 tasks      | elapsed:  4.8min\n"
     ]
    },
    {
     "name": "stdout",
     "output_type": "stream",
     "text": [
      "[CV] . n_estimators=100, scale_pos_weight=2.5, score=0.965730 - 4.8min\n",
      "[CV] n_estimators=100, scale_pos_weight=3 ............................\n"
     ]
    },
    {
     "name": "stderr",
     "output_type": "stream",
     "text": [
      "[Parallel(n_jobs=5)]: Done   4 tasks      | elapsed:  4.8min\n"
     ]
    },
    {
     "name": "stdout",
     "output_type": "stream",
     "text": [
      "[CV] ... n_estimators=100, scale_pos_weight=2, score=0.962251 - 4.8min\n",
      "[CV] n_estimators=100, scale_pos_weight=3.5 ..........................\n"
     ]
    },
    {
     "name": "stderr",
     "output_type": "stream",
     "text": [
      "[Parallel(n_jobs=5)]: Done   5 tasks      | elapsed:  4.8min\n"
     ]
    },
    {
     "name": "stdout",
     "output_type": "stream",
     "text": [
      "[CV] . n_estimators=100, scale_pos_weight=2.5, score=0.962938 - 4.6min\n",
      "[CV] n_estimators=100, scale_pos_weight=3.5 ..........................\n"
     ]
    },
    {
     "name": "stderr",
     "output_type": "stream",
     "text": [
      "[Parallel(n_jobs=5)]: Done   6 tasks      | elapsed:  9.4min\n"
     ]
    },
    {
     "name": "stdout",
     "output_type": "stream",
     "text": [
      "[CV] ... n_estimators=100, scale_pos_weight=3, score=0.960932 - 4.7min\n",
      "[CV] n_estimators=100, scale_pos_weight=3.5 ..........................\n"
     ]
    },
    {
     "name": "stderr",
     "output_type": "stream",
     "text": [
      "[Parallel(n_jobs=5)]: Done   7 tasks      | elapsed:  9.4min\n"
     ]
    },
    {
     "name": "stdout",
     "output_type": "stream",
     "text": [
      "[CV] ... n_estimators=100, scale_pos_weight=3, score=0.960879 - 4.6min\n",
      "[CV] n_estimators=150, scale_pos_weight=2 ............................\n"
     ]
    },
    {
     "name": "stderr",
     "output_type": "stream",
     "text": [
      "[Parallel(n_jobs=5)]: Done   8 tasks      | elapsed:  9.5min\n"
     ]
    },
    {
     "name": "stdout",
     "output_type": "stream",
     "text": [
      "[CV] . n_estimators=100, scale_pos_weight=3.5, score=0.960247 - 4.7min\n",
      "[CV] n_estimators=150, scale_pos_weight=2 ............................\n",
      "[CV] ... n_estimators=100, scale_pos_weight=3, score=0.962303 - 4.7min\n",
      "[CV] n_estimators=150, scale_pos_weight=2 ............................\n"
     ]
    },
    {
     "name": "stderr",
     "output_type": "stream",
     "text": [
      "[Parallel(n_jobs=5)]: Done   9 tasks      | elapsed:  9.5min\n",
      "[Parallel(n_jobs=5)]: Done  10 tasks      | elapsed:  9.5min\n"
     ]
    },
    {
     "name": "stdout",
     "output_type": "stream",
     "text": [
      "[CV] . n_estimators=100, scale_pos_weight=3.5, score=0.965045 - 4.6min\n",
      "[CV] n_estimators=150, scale_pos_weight=2.5 ..........................\n"
     ]
    },
    {
     "name": "stderr",
     "output_type": "stream",
     "text": [
      "[Parallel(n_jobs=5)]: Done  11 tasks      | elapsed: 14.0min\n"
     ]
    },
    {
     "name": "stdout",
     "output_type": "stream",
     "text": [
      "[CV] . n_estimators=100, scale_pos_weight=3.5, score=0.960879 - 4.7min\n",
      "[CV] n_estimators=150, scale_pos_weight=2.5 ..........................\n"
     ]
    },
    {
     "name": "stderr",
     "output_type": "stream",
     "text": [
      "[Parallel(n_jobs=5)]: Done  12 tasks      | elapsed: 14.1min\n"
     ]
    },
    {
     "name": "stdout",
     "output_type": "stream",
     "text": [
      "[CV] ... n_estimators=150, scale_pos_weight=2, score=0.961618 - 6.7min\n",
      "[CV] n_estimators=150, scale_pos_weight=2.5 ..........................\n"
     ]
    },
    {
     "name": "stderr",
     "output_type": "stream",
     "text": [
      "[Parallel(n_jobs=5)]: Done  13 tasks      | elapsed: 16.2min\n"
     ]
    },
    {
     "name": "stdout",
     "output_type": "stream",
     "text": [
      "[CV] ... n_estimators=150, scale_pos_weight=2, score=0.963674 - 6.8min\n",
      "[CV] n_estimators=150, scale_pos_weight=3 ............................\n"
     ]
    },
    {
     "name": "stderr",
     "output_type": "stream",
     "text": [
      "[Parallel(n_jobs=5)]: Done  14 tasks      | elapsed: 16.3min\n"
     ]
    },
    {
     "name": "stdout",
     "output_type": "stream",
     "text": [
      "[CV] ... n_estimators=150, scale_pos_weight=2, score=0.961565 - 6.9min\n",
      "[CV] n_estimators=150, scale_pos_weight=3 ............................\n"
     ]
    },
    {
     "name": "stderr",
     "output_type": "stream",
     "text": [
      "[Parallel(n_jobs=5)]: Done  15 tasks      | elapsed: 16.3min\n"
     ]
    },
    {
     "name": "stdout",
     "output_type": "stream",
     "text": [
      "[CV] . n_estimators=150, scale_pos_weight=2.5, score=0.959561 - 6.6min\n",
      "[CV] n_estimators=150, scale_pos_weight=3 ............................\n"
     ]
    },
    {
     "name": "stderr",
     "output_type": "stream",
     "text": [
      "[Parallel(n_jobs=5)]: Done  16 tasks      | elapsed: 20.7min\n"
     ]
    },
    {
     "name": "stdout",
     "output_type": "stream",
     "text": [
      "[CV] . n_estimators=150, scale_pos_weight=2.5, score=0.963674 - 6.7min\n",
      "[CV] n_estimators=150, scale_pos_weight=3.5 ..........................\n"
     ]
    },
    {
     "name": "stderr",
     "output_type": "stream",
     "text": [
      "[Parallel(n_jobs=5)]: Done  17 tasks      | elapsed: 20.8min\n"
     ]
    },
    {
     "name": "stdout",
     "output_type": "stream",
     "text": [
      "[CV] . n_estimators=150, scale_pos_weight=2.5, score=0.962938 - 6.8min\n",
      "[CV] n_estimators=150, scale_pos_weight=3.5 ..........................\n"
     ]
    },
    {
     "name": "stderr",
     "output_type": "stream",
     "text": [
      "[Parallel(n_jobs=5)]: Done  18 tasks      | elapsed: 23.0min\n"
     ]
    },
    {
     "name": "stdout",
     "output_type": "stream",
     "text": [
      "[CV] ... n_estimators=150, scale_pos_weight=3, score=0.959561 - 6.8min\n",
      "[CV] n_estimators=150, scale_pos_weight=3.5 ..........................\n"
     ]
    },
    {
     "name": "stderr",
     "output_type": "stream",
     "text": [
      "[Parallel(n_jobs=5)]: Done  19 tasks      | elapsed: 23.1min\n"
     ]
    },
    {
     "name": "stdout",
     "output_type": "stream",
     "text": [
      "[CV] ... n_estimators=150, scale_pos_weight=3, score=0.961618 - 6.9min\n",
      "[CV] n_estimators=200, scale_pos_weight=2 ............................\n"
     ]
    },
    {
     "name": "stderr",
     "output_type": "stream",
     "text": [
      "[Parallel(n_jobs=5)]: Done  20 tasks      | elapsed: 23.2min\n"
     ]
    },
    {
     "name": "stdout",
     "output_type": "stream",
     "text": [
      "[CV] ... n_estimators=150, scale_pos_weight=3, score=0.962251 - 6.7min\n",
      "[CV] n_estimators=200, scale_pos_weight=2 ............................\n"
     ]
    },
    {
     "name": "stderr",
     "output_type": "stream",
     "text": [
      "[Parallel(n_jobs=5)]: Done  21 tasks      | elapsed: 27.4min\n"
     ]
    },
    {
     "name": "stdout",
     "output_type": "stream",
     "text": [
      "[CV] . n_estimators=150, scale_pos_weight=3.5, score=0.960932 - 6.8min\n",
      "[CV] n_estimators=200, scale_pos_weight=2 ............................\n"
     ]
    },
    {
     "name": "stderr",
     "output_type": "stream",
     "text": [
      "[Parallel(n_jobs=5)]: Done  22 tasks      | elapsed: 27.6min\n"
     ]
    },
    {
     "name": "stdout",
     "output_type": "stream",
     "text": [
      "[CV] . n_estimators=150, scale_pos_weight=3.5, score=0.961618 - 6.8min\n",
      "[CV] n_estimators=200, scale_pos_weight=2.5 ..........................\n"
     ]
    },
    {
     "name": "stderr",
     "output_type": "stream",
     "text": [
      "[Parallel(n_jobs=5)]: Done  23 tasks      | elapsed: 29.8min\n"
     ]
    },
    {
     "name": "stdout",
     "output_type": "stream",
     "text": [
      "[CV] . n_estimators=150, scale_pos_weight=3.5, score=0.961565 - 6.9min\n",
      "[CV] n_estimators=200, scale_pos_weight=2.5 ..........................\n"
     ]
    },
    {
     "name": "stderr",
     "output_type": "stream",
     "text": [
      "[Parallel(n_jobs=5)]: Done  24 tasks      | elapsed: 30.0min\n"
     ]
    },
    {
     "name": "stdout",
     "output_type": "stream",
     "text": [
      "[CV] ... n_estimators=200, scale_pos_weight=2, score=0.962988 - 8.9min\n",
      "[CV] n_estimators=200, scale_pos_weight=2.5 ..........................\n"
     ]
    },
    {
     "name": "stderr",
     "output_type": "stream",
     "text": [
      "[Parallel(n_jobs=5)]: Done  25 tasks      | elapsed: 32.2min\n"
     ]
    },
    {
     "name": "stdout",
     "output_type": "stream",
     "text": [
      "[CV] ... n_estimators=200, scale_pos_weight=2, score=0.963674 - 8.9min\n",
      "[CV] n_estimators=200, scale_pos_weight=3 ............................\n"
     ]
    },
    {
     "name": "stderr",
     "output_type": "stream",
     "text": [
      "[Parallel(n_jobs=5)]: Done  26 tasks      | elapsed: 36.3min\n"
     ]
    },
    {
     "name": "stdout",
     "output_type": "stream",
     "text": [
      "[CV] ... n_estimators=200, scale_pos_weight=2, score=0.961565 - 9.1min\n",
      "[CV] n_estimators=200, scale_pos_weight=3 ............................\n"
     ]
    },
    {
     "name": "stderr",
     "output_type": "stream",
     "text": [
      "[Parallel(n_jobs=5)]: Done  27 tasks      | elapsed: 36.6min\n"
     ]
    },
    {
     "name": "stdout",
     "output_type": "stream",
     "text": [
      "[CV] . n_estimators=200, scale_pos_weight=2.5, score=0.962988 - 9.1min\n",
      "[CV] n_estimators=200, scale_pos_weight=3 ............................\n",
      "[CV] . n_estimators=200, scale_pos_weight=2.5, score=0.962303 - 8.9min\n",
      "[CV] n_estimators=200, scale_pos_weight=3.5 ..........................\n"
     ]
    },
    {
     "name": "stderr",
     "output_type": "stream",
     "text": [
      "[Parallel(n_jobs=5)]: Done  29 out of  36 | elapsed: 38.9min remaining:  9.4min\n"
     ]
    },
    {
     "name": "stdout",
     "output_type": "stream",
     "text": [
      "[CV] . n_estimators=200, scale_pos_weight=2.5, score=0.961565 - 9.0min\n",
      "[CV] n_estimators=200, scale_pos_weight=3.5 ..........................\n",
      "[CV] ... n_estimators=200, scale_pos_weight=3, score=0.961618 - 9.0min\n",
      "[CV] n_estimators=200, scale_pos_weight=3.5 ..........................\n"
     ]
    },
    {
     "name": "stderr",
     "output_type": "stream",
     "text": [
      "[Parallel(n_jobs=5)]: Done  31 out of  36 | elapsed: 45.2min remaining:  7.3min\n"
     ]
    },
    {
     "name": "stdout",
     "output_type": "stream",
     "text": [
      "[CV] ... n_estimators=200, scale_pos_weight=3, score=0.962988 - 8.9min\n",
      "[CV] ... n_estimators=200, scale_pos_weight=3, score=0.961565 - 8.6min\n"
     ]
    },
    {
     "name": "stderr",
     "output_type": "stream",
     "text": [
      "[Parallel(n_jobs=5)]: Done  33 out of  36 | elapsed: 47.5min remaining:  4.3min\n"
     ]
    },
    {
     "name": "stdout",
     "output_type": "stream",
     "text": [
      "[CV] . n_estimators=200, scale_pos_weight=3.5, score=0.961618 - 8.6min\n",
      "[CV] . n_estimators=200, scale_pos_weight=3.5, score=0.962988 - 7.6min\n",
      "[CV] . n_estimators=200, scale_pos_weight=3.5, score=0.961565 - 5.2min\n"
     ]
    },
    {
     "name": "stderr",
     "output_type": "stream",
     "text": [
      "[Parallel(n_jobs=5)]: Done  36 out of  36 | elapsed: 50.4min finished\n"
     ]
    },
    {
     "name": "stdout",
     "output_type": "stream",
     "text": [
      "78\n",
      "Fitting 3 folds for each of 12 candidates, totalling 36 fits\n",
      "[CV] n_estimators=100, scale_pos_weight=2 ............................\n",
      "[CV] n_estimators=100, scale_pos_weight=2 ............................\n",
      "[CV] n_estimators=100, scale_pos_weight=2 ............................\n",
      "[CV] n_estimators=100, scale_pos_weight=2.5 ..........................\n",
      "[CV] n_estimators=100, scale_pos_weight=2.5 ..........................\n",
      "[CV] ... n_estimators=100, scale_pos_weight=2, score=0.934156 - 4.3min\n",
      "[CV] n_estimators=100, scale_pos_weight=2.5 ..........................\n"
     ]
    },
    {
     "name": "stderr",
     "output_type": "stream",
     "text": [
      "[Parallel(n_jobs=5)]: Done   1 tasks      | elapsed:  4.3min\n"
     ]
    },
    {
     "name": "stdout",
     "output_type": "stream",
     "text": [
      "[CV] . n_estimators=100, scale_pos_weight=2.5, score=0.925291 - 4.3min\n",
      "[CV] n_estimators=100, scale_pos_weight=3 ............................\n"
     ]
    },
    {
     "name": "stderr",
     "output_type": "stream",
     "text": [
      "[Parallel(n_jobs=5)]: Done   2 tasks      | elapsed:  4.3min\n"
     ]
    },
    {
     "name": "stdout",
     "output_type": "stream",
     "text": [
      "[CV] . n_estimators=100, scale_pos_weight=2.5, score=0.927984 - 4.3min\n",
      "[CV] n_estimators=100, scale_pos_weight=3 ............................\n"
     ]
    },
    {
     "name": "stderr",
     "output_type": "stream",
     "text": [
      "[Parallel(n_jobs=5)]: Done   3 tasks      | elapsed:  4.3min\n"
     ]
    },
    {
     "name": "stdout",
     "output_type": "stream",
     "text": [
      "[CV] ... n_estimators=100, scale_pos_weight=2, score=0.925977 - 4.3min\n",
      "[CV] n_estimators=100, scale_pos_weight=3 ............................\n"
     ]
    },
    {
     "name": "stderr",
     "output_type": "stream",
     "text": [
      "[Parallel(n_jobs=5)]: Done   4 tasks      | elapsed:  4.4min\n"
     ]
    },
    {
     "name": "stdout",
     "output_type": "stream",
     "text": [
      "[CV] ... n_estimators=100, scale_pos_weight=2, score=0.930041 - 4.4min\n",
      "[CV] n_estimators=100, scale_pos_weight=3.5 ..........................\n"
     ]
    },
    {
     "name": "stderr",
     "output_type": "stream",
     "text": [
      "[Parallel(n_jobs=5)]: Done   5 tasks      | elapsed:  4.4min\n"
     ]
    },
    {
     "name": "stdout",
     "output_type": "stream",
     "text": [
      "[CV] . n_estimators=100, scale_pos_weight=2.5, score=0.931413 - 4.6min\n",
      "[CV] n_estimators=100, scale_pos_weight=3.5 ..........................\n"
     ]
    },
    {
     "name": "stderr",
     "output_type": "stream",
     "text": [
      "[Parallel(n_jobs=5)]: Done   6 tasks      | elapsed:  8.9min\n"
     ]
    },
    {
     "name": "stdout",
     "output_type": "stream",
     "text": [
      "[CV] ... n_estimators=100, scale_pos_weight=3, score=0.927298 - 4.6min\n",
      "[CV] n_estimators=100, scale_pos_weight=3.5 ..........................\n"
     ]
    },
    {
     "name": "stderr",
     "output_type": "stream",
     "text": [
      "[Parallel(n_jobs=5)]: Done   7 tasks      | elapsed:  8.9min\n"
     ]
    },
    {
     "name": "stdout",
     "output_type": "stream",
     "text": [
      "[CV] ... n_estimators=100, scale_pos_weight=3, score=0.920493 - 4.6min\n",
      "[CV] n_estimators=150, scale_pos_weight=2 ............................\n"
     ]
    },
    {
     "name": "stderr",
     "output_type": "stream",
     "text": [
      "[Parallel(n_jobs=5)]: Done   8 tasks      | elapsed:  8.9min\n"
     ]
    },
    {
     "name": "stdout",
     "output_type": "stream",
     "text": [
      "[CV] . n_estimators=100, scale_pos_weight=3.5, score=0.919123 - 4.6min\n",
      "[CV] ... n_estimators=100, scale_pos_weight=3, score=0.927984 - 4.6min\n",
      "[CV] n_estimators=150, scale_pos_weight=2 ............................\n",
      "[CV] n_estimators=150, scale_pos_weight=2 ............................\n"
     ]
    },
    {
     "name": "stderr",
     "output_type": "stream",
     "text": [
      "[Parallel(n_jobs=5)]: Done   9 tasks      | elapsed:  9.0min\n",
      "[Parallel(n_jobs=5)]: Done  10 tasks      | elapsed:  9.0min\n"
     ]
    },
    {
     "name": "stdout",
     "output_type": "stream",
     "text": [
      "[CV] . n_estimators=100, scale_pos_weight=3.5, score=0.923868 - 4.7min\n",
      "[CV] n_estimators=150, scale_pos_weight=2.5 ..........................\n"
     ]
    },
    {
     "name": "stderr",
     "output_type": "stream",
     "text": [
      "[Parallel(n_jobs=5)]: Done  11 tasks      | elapsed: 13.5min\n"
     ]
    },
    {
     "name": "stdout",
     "output_type": "stream",
     "text": [
      "[CV] . n_estimators=100, scale_pos_weight=3.5, score=0.927984 - 4.7min\n",
      "[CV] n_estimators=150, scale_pos_weight=2.5 ..........................\n"
     ]
    },
    {
     "name": "stderr",
     "output_type": "stream",
     "text": [
      "[Parallel(n_jobs=5)]: Done  12 tasks      | elapsed: 13.6min\n"
     ]
    },
    {
     "name": "stdout",
     "output_type": "stream",
     "text": [
      "[CV] ... n_estimators=150, scale_pos_weight=2, score=0.926662 - 6.8min\n",
      "[CV] n_estimators=150, scale_pos_weight=2.5 ..........................\n"
     ]
    },
    {
     "name": "stderr",
     "output_type": "stream",
     "text": [
      "[Parallel(n_jobs=5)]: Done  13 tasks      | elapsed: 15.7min\n"
     ]
    },
    {
     "name": "stdout",
     "output_type": "stream",
     "text": [
      "[CV] ... n_estimators=150, scale_pos_weight=2, score=0.930727 - 6.8min\n",
      "[CV] n_estimators=150, scale_pos_weight=3 ............................\n"
     ]
    },
    {
     "name": "stderr",
     "output_type": "stream",
     "text": [
      "[Parallel(n_jobs=5)]: Done  14 tasks      | elapsed: 15.8min\n"
     ]
    },
    {
     "name": "stdout",
     "output_type": "stream",
     "text": [
      "[CV] ... n_estimators=150, scale_pos_weight=2, score=0.930727 - 6.9min\n",
      "[CV] n_estimators=150, scale_pos_weight=3 ............................\n"
     ]
    },
    {
     "name": "stderr",
     "output_type": "stream",
     "text": [
      "[Parallel(n_jobs=5)]: Done  15 tasks      | elapsed: 15.9min\n"
     ]
    },
    {
     "name": "stdout",
     "output_type": "stream",
     "text": [
      "[CV] . n_estimators=150, scale_pos_weight=2.5, score=0.925291 - 6.9min\n",
      "[CV] n_estimators=150, scale_pos_weight=3 ............................\n"
     ]
    },
    {
     "name": "stderr",
     "output_type": "stream",
     "text": [
      "[Parallel(n_jobs=5)]: Done  16 tasks      | elapsed: 20.4min\n"
     ]
    },
    {
     "name": "stdout",
     "output_type": "stream",
     "text": [
      "[CV] . n_estimators=150, scale_pos_weight=2.5, score=0.927298 - 6.8min\n",
      "[CV] n_estimators=150, scale_pos_weight=3.5 ..........................\n"
     ]
    },
    {
     "name": "stderr",
     "output_type": "stream",
     "text": [
      "[Parallel(n_jobs=5)]: Done  17 tasks      | elapsed: 20.5min\n"
     ]
    },
    {
     "name": "stdout",
     "output_type": "stream",
     "text": [
      "[CV] . n_estimators=150, scale_pos_weight=2.5, score=0.933471 - 6.9min\n",
      "[CV] n_estimators=150, scale_pos_weight=3.5 ..........................\n"
     ]
    },
    {
     "name": "stderr",
     "output_type": "stream",
     "text": [
      "[Parallel(n_jobs=5)]: Done  18 tasks      | elapsed: 22.6min\n"
     ]
    },
    {
     "name": "stdout",
     "output_type": "stream",
     "text": [
      "[CV] ... n_estimators=150, scale_pos_weight=3, score=0.924606 - 6.8min\n",
      "[CV] n_estimators=150, scale_pos_weight=3.5 ..........................\n"
     ]
    },
    {
     "name": "stderr",
     "output_type": "stream",
     "text": [
      "[Parallel(n_jobs=5)]: Done  19 tasks      | elapsed: 22.6min\n"
     ]
    },
    {
     "name": "stdout",
     "output_type": "stream",
     "text": [
      "[CV] ... n_estimators=150, scale_pos_weight=3, score=0.930727 - 6.8min\n",
      "[CV] n_estimators=200, scale_pos_weight=2 ............................\n"
     ]
    },
    {
     "name": "stderr",
     "output_type": "stream",
     "text": [
      "[Parallel(n_jobs=5)]: Done  20 tasks      | elapsed: 22.6min\n"
     ]
    },
    {
     "name": "stdout",
     "output_type": "stream",
     "text": [
      "[CV] ... n_estimators=150, scale_pos_weight=3, score=0.935528 - 6.9min\n",
      "[CV] n_estimators=200, scale_pos_weight=2 ............................\n"
     ]
    },
    {
     "name": "stderr",
     "output_type": "stream",
     "text": [
      "[Parallel(n_jobs=5)]: Done  21 tasks      | elapsed: 27.3min\n"
     ]
    },
    {
     "name": "stdout",
     "output_type": "stream",
     "text": [
      "[CV] . n_estimators=150, scale_pos_weight=3.5, score=0.923235 - 6.9min\n",
      "[CV] n_estimators=200, scale_pos_weight=2 ............................\n"
     ]
    },
    {
     "name": "stderr",
     "output_type": "stream",
     "text": [
      "[Parallel(n_jobs=5)]: Done  22 tasks      | elapsed: 27.4min\n"
     ]
    },
    {
     "name": "stdout",
     "output_type": "stream",
     "text": [
      "[CV] . n_estimators=150, scale_pos_weight=3.5, score=0.929355 - 6.8min\n",
      "[CV] n_estimators=200, scale_pos_weight=2.5 ..........................\n"
     ]
    },
    {
     "name": "stderr",
     "output_type": "stream",
     "text": [
      "[Parallel(n_jobs=5)]: Done  23 tasks      | elapsed: 29.4min\n"
     ]
    },
    {
     "name": "stdout",
     "output_type": "stream",
     "text": [
      "[CV] . n_estimators=150, scale_pos_weight=3.5, score=0.929355 - 7.0min\n",
      "[CV] n_estimators=200, scale_pos_weight=2.5 ..........................\n"
     ]
    },
    {
     "name": "stderr",
     "output_type": "stream",
     "text": [
      "[Parallel(n_jobs=5)]: Done  24 tasks      | elapsed: 29.6min\n"
     ]
    },
    {
     "name": "stdout",
     "output_type": "stream",
     "text": [
      "[CV] ... n_estimators=200, scale_pos_weight=2, score=0.927347 - 9.2min\n",
      "[CV] n_estimators=200, scale_pos_weight=2.5 ..........................\n"
     ]
    },
    {
     "name": "stderr",
     "output_type": "stream",
     "text": [
      "[Parallel(n_jobs=5)]: Done  25 tasks      | elapsed: 31.9min\n"
     ]
    },
    {
     "name": "stdout",
     "output_type": "stream",
     "text": [
      "[CV] ... n_estimators=200, scale_pos_weight=2, score=0.930727 - 9.0min\n",
      "[CV] n_estimators=200, scale_pos_weight=3 ............................\n"
     ]
    },
    {
     "name": "stderr",
     "output_type": "stream",
     "text": [
      "[Parallel(n_jobs=5)]: Done  26 tasks      | elapsed: 36.4min\n"
     ]
    },
    {
     "name": "stdout",
     "output_type": "stream",
     "text": [
      "[CV] ... n_estimators=200, scale_pos_weight=2, score=0.936214 - 9.0min\n",
      "[CV] n_estimators=200, scale_pos_weight=3 ............................\n"
     ]
    },
    {
     "name": "stderr",
     "output_type": "stream",
     "text": [
      "[Parallel(n_jobs=5)]: Done  27 tasks      | elapsed: 36.4min\n"
     ]
    },
    {
     "name": "stdout",
     "output_type": "stream",
     "text": [
      "[CV] . n_estimators=200, scale_pos_weight=2.5, score=0.927347 - 9.1min\n",
      "[CV] n_estimators=200, scale_pos_weight=3 ............................\n",
      "[CV] . n_estimators=200, scale_pos_weight=2.5, score=0.927298 - 9.1min\n",
      "[CV] n_estimators=200, scale_pos_weight=3.5 ..........................\n"
     ]
    },
    {
     "name": "stderr",
     "output_type": "stream",
     "text": [
      "[Parallel(n_jobs=5)]: Done  29 out of  36 | elapsed: 38.8min remaining:  9.4min\n"
     ]
    },
    {
     "name": "stdout",
     "output_type": "stream",
     "text": [
      "[CV] . n_estimators=200, scale_pos_weight=2.5, score=0.938272 - 9.1min\n",
      "[CV] n_estimators=200, scale_pos_weight=3.5 ..........................\n",
      "[CV] ... n_estimators=200, scale_pos_weight=3, score=0.927347 - 9.2min\n",
      "[CV] n_estimators=200, scale_pos_weight=3.5 ..........................\n"
     ]
    },
    {
     "name": "stderr",
     "output_type": "stream",
     "text": [
      "[Parallel(n_jobs=5)]: Done  31 out of  36 | elapsed: 45.5min remaining:  7.3min\n"
     ]
    },
    {
     "name": "stdout",
     "output_type": "stream",
     "text": [
      "[CV] ... n_estimators=200, scale_pos_weight=3, score=0.928669 - 9.2min\n",
      "[CV] ... n_estimators=200, scale_pos_weight=3, score=0.934842 - 8.8min\n"
     ]
    },
    {
     "name": "stderr",
     "output_type": "stream",
     "text": [
      "[Parallel(n_jobs=5)]: Done  33 out of  36 | elapsed: 47.4min remaining:  4.3min\n"
     ]
    },
    {
     "name": "stdout",
     "output_type": "stream",
     "text": [
      "[CV] . n_estimators=200, scale_pos_weight=3.5, score=0.923235 - 9.0min\n",
      "[CV] . n_estimators=200, scale_pos_weight=3.5, score=0.929355 - 7.9min\n",
      "[CV] . n_estimators=200, scale_pos_weight=3.5, score=0.933471 - 5.1min\n"
     ]
    },
    {
     "name": "stderr",
     "output_type": "stream",
     "text": [
      "[Parallel(n_jobs=5)]: Done  36 out of  36 | elapsed: 50.6min finished\n"
     ]
    },
    {
     "name": "stdout",
     "output_type": "stream",
     "text": [
      "682\n",
      "Fitting 3 folds for each of 12 candidates, totalling 36 fits\n",
      "[CV] n_estimators=100, scale_pos_weight=2 ............................\n",
      "[CV] n_estimators=100, scale_pos_weight=2 ............................\n",
      "[CV] n_estimators=100, scale_pos_weight=2 ............................\n",
      "[CV] n_estimators=100, scale_pos_weight=2.5 ..........................\n",
      "[CV] n_estimators=100, scale_pos_weight=2.5 ..........................\n",
      "[CV] . n_estimators=100, scale_pos_weight=2.5, score=0.982865 - 4.6min\n",
      "[CV] n_estimators=100, scale_pos_weight=2.5 ..........................\n"
     ]
    },
    {
     "name": "stderr",
     "output_type": "stream",
     "text": [
      "[Parallel(n_jobs=5)]: Done   1 tasks      | elapsed:  4.6min\n"
     ]
    },
    {
     "name": "stdout",
     "output_type": "stream",
     "text": [
      "[CV] ... n_estimators=100, scale_pos_weight=2, score=0.983550 - 4.6min\n",
      "[CV] n_estimators=100, scale_pos_weight=3 ............................\n"
     ]
    },
    {
     "name": "stderr",
     "output_type": "stream",
     "text": [
      "[Parallel(n_jobs=5)]: Done   2 tasks      | elapsed:  4.6min\n"
     ]
    },
    {
     "name": "stdout",
     "output_type": "stream",
     "text": [
      "[CV] ... n_estimators=100, scale_pos_weight=2, score=0.984214 - 4.6min\n",
      "[CV] n_estimators=100, scale_pos_weight=3 ............................\n"
     ]
    },
    {
     "name": "stderr",
     "output_type": "stream",
     "text": [
      "[Parallel(n_jobs=5)]: Done   3 tasks      | elapsed:  4.6min\n"
     ]
    },
    {
     "name": "stdout",
     "output_type": "stream",
     "text": [
      "[CV] . n_estimators=100, scale_pos_weight=2.5, score=0.985607 - 4.6min\n",
      "[CV] n_estimators=100, scale_pos_weight=3 ............................\n"
     ]
    },
    {
     "name": "stderr",
     "output_type": "stream",
     "text": [
      "[Parallel(n_jobs=5)]: Done   4 tasks      | elapsed:  4.7min\n"
     ]
    },
    {
     "name": "stdout",
     "output_type": "stream",
     "text": [
      "[CV] ... n_estimators=100, scale_pos_weight=2, score=0.982865 - 4.7min\n",
      "[CV] n_estimators=100, scale_pos_weight=3.5 ..........................\n"
     ]
    },
    {
     "name": "stderr",
     "output_type": "stream",
     "text": [
      "[Parallel(n_jobs=5)]: Done   5 tasks      | elapsed:  4.7min\n"
     ]
    },
    {
     "name": "stdout",
     "output_type": "stream",
     "text": [
      "[CV] ... n_estimators=100, scale_pos_weight=3, score=0.984921 - 4.6min\n",
      "[CV] n_estimators=100, scale_pos_weight=3.5 ..........................\n"
     ]
    },
    {
     "name": "stderr",
     "output_type": "stream",
     "text": [
      "[Parallel(n_jobs=5)]: Done   6 tasks      | elapsed:  9.2min\n"
     ]
    },
    {
     "name": "stdout",
     "output_type": "stream",
     "text": [
      "[CV] ... n_estimators=100, scale_pos_weight=3, score=0.984214 - 4.6min\n",
      "[CV] n_estimators=100, scale_pos_weight=3.5 ..........................\n"
     ]
    },
    {
     "name": "stderr",
     "output_type": "stream",
     "text": [
      "[Parallel(n_jobs=5)]: Done   7 tasks      | elapsed:  9.2min\n"
     ]
    },
    {
     "name": "stdout",
     "output_type": "stream",
     "text": [
      "[CV] . n_estimators=100, scale_pos_weight=2.5, score=0.984900 - 4.7min\n",
      "[CV] n_estimators=150, scale_pos_weight=2 ............................\n"
     ]
    },
    {
     "name": "stderr",
     "output_type": "stream",
     "text": [
      "[Parallel(n_jobs=5)]: Done   8 tasks      | elapsed:  9.3min\n"
     ]
    },
    {
     "name": "stdout",
     "output_type": "stream",
     "text": [
      "[CV] ... n_estimators=100, scale_pos_weight=3, score=0.982180 - 4.6min\n",
      "[CV] n_estimators=150, scale_pos_weight=2 ............................\n",
      "[CV] . n_estimators=100, scale_pos_weight=3.5, score=0.986292 - 4.6min\n"
     ]
    },
    {
     "name": "stderr",
     "output_type": "stream",
     "text": [
      "[Parallel(n_jobs=5)]: Done   9 tasks      | elapsed:  9.3min\n",
      "[Parallel(n_jobs=5)]: Done  10 tasks      | elapsed:  9.3min\n"
     ]
    },
    {
     "name": "stdout",
     "output_type": "stream",
     "text": [
      "[CV] n_estimators=150, scale_pos_weight=2 ............................\n",
      "[CV] . n_estimators=100, scale_pos_weight=3.5, score=0.982865 - 4.7min\n",
      "[CV] n_estimators=150, scale_pos_weight=2.5 ..........................\n"
     ]
    },
    {
     "name": "stderr",
     "output_type": "stream",
     "text": [
      "[Parallel(n_jobs=5)]: Done  11 tasks      | elapsed: 14.0min\n"
     ]
    },
    {
     "name": "stdout",
     "output_type": "stream",
     "text": [
      "[CV] . n_estimators=100, scale_pos_weight=3.5, score=0.983528 - 4.8min\n",
      "[CV] n_estimators=150, scale_pos_weight=2.5 ..........................\n"
     ]
    },
    {
     "name": "stderr",
     "output_type": "stream",
     "text": [
      "[Parallel(n_jobs=5)]: Done  12 tasks      | elapsed: 14.0min\n"
     ]
    },
    {
     "name": "stdout",
     "output_type": "stream",
     "text": [
      "[CV] ... n_estimators=150, scale_pos_weight=2, score=0.982865 - 6.9min\n",
      "[CV] n_estimators=150, scale_pos_weight=2.5 ..........................\n"
     ]
    },
    {
     "name": "stderr",
     "output_type": "stream",
     "text": [
      "[Parallel(n_jobs=5)]: Done  13 tasks      | elapsed: 16.2min\n"
     ]
    },
    {
     "name": "stdout",
     "output_type": "stream",
     "text": [
      "[CV] ... n_estimators=150, scale_pos_weight=2, score=0.984214 - 7.0min\n",
      "[CV] n_estimators=150, scale_pos_weight=3 ............................\n"
     ]
    },
    {
     "name": "stderr",
     "output_type": "stream",
     "text": [
      "[Parallel(n_jobs=5)]: Done  14 tasks      | elapsed: 16.2min\n"
     ]
    },
    {
     "name": "stdout",
     "output_type": "stream",
     "text": [
      "[CV] ... n_estimators=150, scale_pos_weight=2, score=0.982865 - 7.0min\n",
      "[CV] n_estimators=150, scale_pos_weight=3 ............................\n"
     ]
    },
    {
     "name": "stderr",
     "output_type": "stream",
     "text": [
      "[Parallel(n_jobs=5)]: Done  15 tasks      | elapsed: 16.3min\n"
     ]
    },
    {
     "name": "stdout",
     "output_type": "stream",
     "text": [
      "[CV] . n_estimators=150, scale_pos_weight=2.5, score=0.982865 - 6.8min\n",
      "[CV] n_estimators=150, scale_pos_weight=3 ............................\n"
     ]
    },
    {
     "name": "stderr",
     "output_type": "stream",
     "text": [
      "[Parallel(n_jobs=5)]: Done  16 tasks      | elapsed: 20.8min\n"
     ]
    },
    {
     "name": "stdout",
     "output_type": "stream",
     "text": [
      "[CV] . n_estimators=150, scale_pos_weight=2.5, score=0.982865 - 6.9min\n",
      "[CV] n_estimators=150, scale_pos_weight=3.5 ..........................\n"
     ]
    },
    {
     "name": "stderr",
     "output_type": "stream",
     "text": [
      "[Parallel(n_jobs=5)]: Done  17 tasks      | elapsed: 20.9min\n"
     ]
    },
    {
     "name": "stdout",
     "output_type": "stream",
     "text": [
      "[CV] ... n_estimators=150, scale_pos_weight=3, score=0.983550 - 6.8min\n",
      "[CV] n_estimators=150, scale_pos_weight=3.5 ..........................\n"
     ]
    },
    {
     "name": "stderr",
     "output_type": "stream",
     "text": [
      "[Parallel(n_jobs=5)]: Done  18 tasks      | elapsed: 23.0min\n"
     ]
    },
    {
     "name": "stdout",
     "output_type": "stream",
     "text": [
      "[CV] . n_estimators=150, scale_pos_weight=2.5, score=0.983528 - 6.9min\n",
      "[CV] n_estimators=150, scale_pos_weight=3.5 ..........................\n"
     ]
    },
    {
     "name": "stderr",
     "output_type": "stream",
     "text": [
      "[Parallel(n_jobs=5)]: Done  19 tasks      | elapsed: 23.1min\n"
     ]
    },
    {
     "name": "stdout",
     "output_type": "stream",
     "text": [
      "[CV] ... n_estimators=150, scale_pos_weight=3, score=0.984236 - 6.9min\n",
      "[CV] n_estimators=200, scale_pos_weight=2 ............................\n"
     ]
    },
    {
     "name": "stderr",
     "output_type": "stream",
     "text": [
      "[Parallel(n_jobs=5)]: Done  20 tasks      | elapsed: 23.1min\n"
     ]
    },
    {
     "name": "stdout",
     "output_type": "stream",
     "text": [
      "[CV] ... n_estimators=150, scale_pos_weight=3, score=0.984214 - 6.9min\n",
      "[CV] n_estimators=200, scale_pos_weight=2 ............................\n"
     ]
    },
    {
     "name": "stderr",
     "output_type": "stream",
     "text": [
      "[Parallel(n_jobs=5)]: Done  21 tasks      | elapsed: 27.7min\n"
     ]
    },
    {
     "name": "stdout",
     "output_type": "stream",
     "text": [
      "[CV] . n_estimators=150, scale_pos_weight=3.5, score=0.984236 - 6.9min\n",
      "[CV] n_estimators=200, scale_pos_weight=2 ............................\n"
     ]
    },
    {
     "name": "stderr",
     "output_type": "stream",
     "text": [
      "[Parallel(n_jobs=5)]: Done  22 tasks      | elapsed: 27.8min\n"
     ]
    },
    {
     "name": "stdout",
     "output_type": "stream",
     "text": [
      "[CV] . n_estimators=150, scale_pos_weight=3.5, score=0.983550 - 6.8min\n",
      "[CV] n_estimators=200, scale_pos_weight=2.5 ..........................\n"
     ]
    },
    {
     "name": "stderr",
     "output_type": "stream",
     "text": [
      "[Parallel(n_jobs=5)]: Done  23 tasks      | elapsed: 29.8min\n"
     ]
    },
    {
     "name": "stdout",
     "output_type": "stream",
     "text": [
      "[CV] . n_estimators=150, scale_pos_weight=3.5, score=0.983528 - 7.0min\n",
      "[CV] n_estimators=200, scale_pos_weight=2.5 ..........................\n"
     ]
    },
    {
     "name": "stderr",
     "output_type": "stream",
     "text": [
      "[Parallel(n_jobs=5)]: Done  24 tasks      | elapsed: 30.1min\n"
     ]
    },
    {
     "name": "stdout",
     "output_type": "stream",
     "text": [
      "[CV] ... n_estimators=200, scale_pos_weight=2, score=0.982865 - 9.2min\n",
      "[CV] n_estimators=200, scale_pos_weight=2.5 ..........................\n"
     ]
    },
    {
     "name": "stderr",
     "output_type": "stream",
     "text": [
      "[Parallel(n_jobs=5)]: Done  25 tasks      | elapsed: 32.3min\n"
     ]
    },
    {
     "name": "stdout",
     "output_type": "stream",
     "text": [
      "[CV] ... n_estimators=200, scale_pos_weight=2, score=0.983550 - 8.8min\n",
      "[CV] n_estimators=200, scale_pos_weight=3 ............................\n"
     ]
    },
    {
     "name": "stderr",
     "output_type": "stream",
     "text": [
      "[Parallel(n_jobs=5)]: Done  26 tasks      | elapsed: 36.5min\n"
     ]
    },
    {
     "name": "stdout",
     "output_type": "stream",
     "text": [
      "[CV] ... n_estimators=200, scale_pos_weight=2, score=0.984214 - 8.7min\n",
      "[CV] n_estimators=200, scale_pos_weight=3 ............................\n"
     ]
    },
    {
     "name": "stderr",
     "output_type": "stream",
     "text": [
      "[Parallel(n_jobs=5)]: Done  27 tasks      | elapsed: 36.5min\n"
     ]
    },
    {
     "name": "stdout",
     "output_type": "stream",
     "text": [
      "[CV] . n_estimators=200, scale_pos_weight=2.5, score=0.982865 - 8.5min\n",
      "[CV] n_estimators=200, scale_pos_weight=3 ............................\n",
      "[CV] . n_estimators=200, scale_pos_weight=2.5, score=0.984236 - 8.7min\n",
      "[CV] n_estimators=200, scale_pos_weight=3.5 ..........................\n"
     ]
    },
    {
     "name": "stderr",
     "output_type": "stream",
     "text": [
      "[Parallel(n_jobs=5)]: Done  29 out of  36 | elapsed: 38.8min remaining:  9.4min\n"
     ]
    },
    {
     "name": "stdout",
     "output_type": "stream",
     "text": [
      "[CV] . n_estimators=200, scale_pos_weight=2.5, score=0.983528 - 8.9min\n",
      "[CV] n_estimators=200, scale_pos_weight=3.5 ..........................\n",
      "[CV] ... n_estimators=200, scale_pos_weight=3, score=0.983550 - 8.9min\n",
      "[CV] n_estimators=200, scale_pos_weight=3.5 ..........................\n"
     ]
    },
    {
     "name": "stderr",
     "output_type": "stream",
     "text": [
      "[Parallel(n_jobs=5)]: Done  31 out of  36 | elapsed: 45.4min remaining:  7.3min\n"
     ]
    },
    {
     "name": "stdout",
     "output_type": "stream",
     "text": [
      "[CV] ... n_estimators=200, scale_pos_weight=3, score=0.984236 - 9.0min\n",
      "[CV] ... n_estimators=200, scale_pos_weight=3, score=0.984214 - 8.6min\n"
     ]
    },
    {
     "name": "stderr",
     "output_type": "stream",
     "text": [
      "[Parallel(n_jobs=5)]: Done  33 out of  36 | elapsed: 46.9min remaining:  4.3min\n"
     ]
    },
    {
     "name": "stdout",
     "output_type": "stream",
     "text": [
      "[CV] . n_estimators=200, scale_pos_weight=3.5, score=0.984236 - 8.5min\n",
      "[CV] . n_estimators=200, scale_pos_weight=3.5, score=0.983550 - 7.6min\n",
      "[CV] . n_estimators=200, scale_pos_weight=3.5, score=0.983528 - 5.1min\n"
     ]
    },
    {
     "name": "stderr",
     "output_type": "stream",
     "text": [
      "[Parallel(n_jobs=5)]: Done  36 out of  36 | elapsed: 50.5min finished\n"
     ]
    },
    {
     "name": "stdout",
     "output_type": "stream",
     "text": [
      "14\n",
      "Fitting 3 folds for each of 12 candidates, totalling 36 fits\n",
      "[CV] n_estimators=100, scale_pos_weight=2 ............................\n",
      "[CV] n_estimators=100, scale_pos_weight=2 ............................\n",
      "[CV] n_estimators=100, scale_pos_weight=2 ............................\n",
      "[CV] n_estimators=100, scale_pos_weight=2.5 ..........................\n",
      "[CV] n_estimators=100, scale_pos_weight=2.5 ..........................\n",
      "[CV] ... n_estimators=100, scale_pos_weight=2, score=0.898421 - 4.5min\n",
      "[CV] n_estimators=100, scale_pos_weight=2.5 ..........................\n"
     ]
    },
    {
     "name": "stderr",
     "output_type": "stream",
     "text": [
      "[Parallel(n_jobs=5)]: Done   1 tasks      | elapsed:  4.5min\n"
     ]
    },
    {
     "name": "stdout",
     "output_type": "stream",
     "text": [
      "[CV] . n_estimators=100, scale_pos_weight=2.5, score=0.911583 - 4.6min\n",
      "[CV] n_estimators=100, scale_pos_weight=3 ............................\n"
     ]
    },
    {
     "name": "stderr",
     "output_type": "stream",
     "text": [
      "[Parallel(n_jobs=5)]: Done   2 tasks      | elapsed:  4.6min\n"
     ]
    },
    {
     "name": "stdout",
     "output_type": "stream",
     "text": [
      "[CV] ... n_estimators=100, scale_pos_weight=2, score=0.909527 - 4.6min\n",
      "[CV] n_estimators=100, scale_pos_weight=3 ............................\n"
     ]
    },
    {
     "name": "stderr",
     "output_type": "stream",
     "text": [
      "[Parallel(n_jobs=5)]: Done   3 tasks      | elapsed:  4.6min\n"
     ]
    },
    {
     "name": "stdout",
     "output_type": "stream",
     "text": [
      "[CV] ... n_estimators=100, scale_pos_weight=2, score=0.906100 - 4.6min\n",
      "[CV] n_estimators=100, scale_pos_weight=3 ............................\n"
     ]
    },
    {
     "name": "stderr",
     "output_type": "stream",
     "text": [
      "[Parallel(n_jobs=5)]: Done   4 tasks      | elapsed:  4.6min\n"
     ]
    },
    {
     "name": "stdout",
     "output_type": "stream",
     "text": [
      "[CV] . n_estimators=100, scale_pos_weight=2.5, score=0.908156 - 4.6min\n",
      "[CV] n_estimators=100, scale_pos_weight=3.5 ..........................\n"
     ]
    },
    {
     "name": "stderr",
     "output_type": "stream",
     "text": [
      "[Parallel(n_jobs=5)]: Done   5 tasks      | elapsed:  4.6min\n"
     ]
    },
    {
     "name": "stdout",
     "output_type": "stream",
     "text": [
      "[CV] . n_estimators=100, scale_pos_weight=2.5, score=0.897049 - 4.6min\n",
      "[CV] n_estimators=100, scale_pos_weight=3.5 ..........................\n"
     ]
    },
    {
     "name": "stderr",
     "output_type": "stream",
     "text": [
      "[Parallel(n_jobs=5)]: Done   6 tasks      | elapsed:  9.2min\n"
     ]
    },
    {
     "name": "stdout",
     "output_type": "stream",
     "text": [
      "[CV] ... n_estimators=100, scale_pos_weight=3, score=0.903358 - 4.7min\n",
      "[CV] . n_estimators=100, scale_pos_weight=3.5, score=0.897875 - 4.7min\n",
      "[CV] n_estimators=100, scale_pos_weight=3.5 ..........................\n",
      "[CV] n_estimators=150, scale_pos_weight=2 ............................\n"
     ]
    },
    {
     "name": "stderr",
     "output_type": "stream",
     "text": [
      "[Parallel(n_jobs=5)]: Done   7 tasks      | elapsed:  9.3min\n",
      "[Parallel(n_jobs=5)]: Done   8 tasks      | elapsed:  9.3min\n"
     ]
    },
    {
     "name": "stdout",
     "output_type": "stream",
     "text": [
      "[CV] ... n_estimators=100, scale_pos_weight=3, score=0.908842 - 4.7min\n",
      "[CV] n_estimators=150, scale_pos_weight=2 ............................\n"
     ]
    },
    {
     "name": "stderr",
     "output_type": "stream",
     "text": [
      "[Parallel(n_jobs=5)]: Done   9 tasks      | elapsed:  9.3min\n"
     ]
    },
    {
     "name": "stdout",
     "output_type": "stream",
     "text": [
      "[CV] ... n_estimators=100, scale_pos_weight=3, score=0.889499 - 4.7min\n",
      "[CV] n_estimators=150, scale_pos_weight=2 ............................\n"
     ]
    },
    {
     "name": "stderr",
     "output_type": "stream",
     "text": [
      "[Parallel(n_jobs=5)]: Done  10 tasks      | elapsed:  9.3min\n"
     ]
    },
    {
     "name": "stdout",
     "output_type": "stream",
     "text": [
      "[CV] . n_estimators=100, scale_pos_weight=3.5, score=0.910898 - 4.7min\n",
      "[CV] n_estimators=150, scale_pos_weight=2.5 ..........................\n"
     ]
    },
    {
     "name": "stderr",
     "output_type": "stream",
     "text": [
      "[Parallel(n_jobs=5)]: Done  11 tasks      | elapsed: 13.9min\n"
     ]
    },
    {
     "name": "stdout",
     "output_type": "stream",
     "text": [
      "[CV] . n_estimators=100, scale_pos_weight=3.5, score=0.886754 - 4.7min\n",
      "[CV] n_estimators=150, scale_pos_weight=2.5 ..........................\n"
     ]
    },
    {
     "name": "stderr",
     "output_type": "stream",
     "text": [
      "[Parallel(n_jobs=5)]: Done  12 tasks      | elapsed: 14.0min\n"
     ]
    },
    {
     "name": "stdout",
     "output_type": "stream",
     "text": [
      "[CV] ... n_estimators=150, scale_pos_weight=2, score=0.906785 - 6.7min\n",
      "[CV] n_estimators=150, scale_pos_weight=2.5 ..........................\n"
     ]
    },
    {
     "name": "stderr",
     "output_type": "stream",
     "text": [
      "[Parallel(n_jobs=5)]: Done  13 tasks      | elapsed: 16.0min\n"
     ]
    },
    {
     "name": "stdout",
     "output_type": "stream",
     "text": [
      "[CV] ... n_estimators=150, scale_pos_weight=2, score=0.908842 - 6.8min\n",
      "[CV] n_estimators=150, scale_pos_weight=3 ............................\n"
     ]
    },
    {
     "name": "stderr",
     "output_type": "stream",
     "text": [
      "[Parallel(n_jobs=5)]: Done  14 tasks      | elapsed: 16.1min\n"
     ]
    },
    {
     "name": "stdout",
     "output_type": "stream",
     "text": [
      "[CV] ... n_estimators=150, scale_pos_weight=2, score=0.894990 - 6.9min\n",
      "[CV] n_estimators=150, scale_pos_weight=3 ............................\n"
     ]
    },
    {
     "name": "stderr",
     "output_type": "stream",
     "text": [
      "[Parallel(n_jobs=5)]: Done  15 tasks      | elapsed: 16.2min\n"
     ]
    },
    {
     "name": "stdout",
     "output_type": "stream",
     "text": [
      "[CV] . n_estimators=150, scale_pos_weight=2.5, score=0.906785 - 6.6min\n",
      "[CV] n_estimators=150, scale_pos_weight=3 ............................\n"
     ]
    },
    {
     "name": "stderr",
     "output_type": "stream",
     "text": [
      "[Parallel(n_jobs=5)]: Done  16 tasks      | elapsed: 20.5min\n"
     ]
    },
    {
     "name": "stdout",
     "output_type": "stream",
     "text": [
      "[CV] . n_estimators=150, scale_pos_weight=2.5, score=0.911583 - 6.7min\n",
      "[CV] n_estimators=150, scale_pos_weight=3.5 ..........................\n"
     ]
    },
    {
     "name": "stderr",
     "output_type": "stream",
     "text": [
      "[Parallel(n_jobs=5)]: Done  17 tasks      | elapsed: 20.7min\n"
     ]
    },
    {
     "name": "stdout",
     "output_type": "stream",
     "text": [
      "[CV] . n_estimators=150, scale_pos_weight=2.5, score=0.894303 - 6.8min\n",
      "[CV] n_estimators=150, scale_pos_weight=3.5 ..........................\n"
     ]
    },
    {
     "name": "stderr",
     "output_type": "stream",
     "text": [
      "[Parallel(n_jobs=5)]: Done  18 tasks      | elapsed: 22.8min\n"
     ]
    },
    {
     "name": "stdout",
     "output_type": "stream",
     "text": [
      "[CV] ... n_estimators=150, scale_pos_weight=3, score=0.907471 - 6.8min\n",
      "[CV] n_estimators=150, scale_pos_weight=3.5 ..........................\n"
     ]
    },
    {
     "name": "stderr",
     "output_type": "stream",
     "text": [
      "[Parallel(n_jobs=5)]: Done  19 tasks      | elapsed: 23.0min\n"
     ]
    },
    {
     "name": "stdout",
     "output_type": "stream",
     "text": [
      "[CV] ... n_estimators=150, scale_pos_weight=3, score=0.898561 - 7.0min\n",
      "[CV] n_estimators=200, scale_pos_weight=2 ............................\n"
     ]
    },
    {
     "name": "stderr",
     "output_type": "stream",
     "text": [
      "[Parallel(n_jobs=5)]: Done  20 tasks      | elapsed: 23.1min\n"
     ]
    },
    {
     "name": "stdout",
     "output_type": "stream",
     "text": [
      "[CV] ... n_estimators=150, scale_pos_weight=3, score=0.890872 - 6.8min\n",
      "[CV] n_estimators=200, scale_pos_weight=2 ............................\n"
     ]
    },
    {
     "name": "stderr",
     "output_type": "stream",
     "text": [
      "[Parallel(n_jobs=5)]: Done  21 tasks      | elapsed: 27.3min\n"
     ]
    },
    {
     "name": "stdout",
     "output_type": "stream",
     "text": [
      "[CV] . n_estimators=150, scale_pos_weight=3.5, score=0.899246 - 6.9min\n",
      "[CV] n_estimators=200, scale_pos_weight=2 ............................\n"
     ]
    },
    {
     "name": "stderr",
     "output_type": "stream",
     "text": [
      "[Parallel(n_jobs=5)]: Done  22 tasks      | elapsed: 27.6min\n"
     ]
    },
    {
     "name": "stdout",
     "output_type": "stream",
     "text": [
      "[CV] . n_estimators=150, scale_pos_weight=3.5, score=0.912954 - 6.9min\n",
      "[CV] n_estimators=200, scale_pos_weight=2.5 ..........................\n"
     ]
    },
    {
     "name": "stderr",
     "output_type": "stream",
     "text": [
      "[Parallel(n_jobs=5)]: Done  23 tasks      | elapsed: 29.7min\n"
     ]
    },
    {
     "name": "stdout",
     "output_type": "stream",
     "text": [
      "[CV] . n_estimators=150, scale_pos_weight=3.5, score=0.887440 - 6.9min\n",
      "[CV] n_estimators=200, scale_pos_weight=2.5 ..........................\n"
     ]
    },
    {
     "name": "stderr",
     "output_type": "stream",
     "text": [
      "[Parallel(n_jobs=5)]: Done  24 tasks      | elapsed: 29.9min\n"
     ]
    },
    {
     "name": "stdout",
     "output_type": "stream",
     "text": [
      "[CV] ... n_estimators=200, scale_pos_weight=2, score=0.906785 - 9.1min\n",
      "[CV] n_estimators=200, scale_pos_weight=2.5 ..........................\n"
     ]
    },
    {
     "name": "stderr",
     "output_type": "stream",
     "text": [
      "[Parallel(n_jobs=5)]: Done  25 tasks      | elapsed: 32.2min\n"
     ]
    },
    {
     "name": "stdout",
     "output_type": "stream",
     "text": [
      "[CV] ... n_estimators=200, scale_pos_weight=2, score=0.912269 - 9.0min\n",
      "[CV] n_estimators=200, scale_pos_weight=3 ............................\n"
     ]
    },
    {
     "name": "stderr",
     "output_type": "stream",
     "text": [
      "[Parallel(n_jobs=5)]: Done  26 tasks      | elapsed: 36.4min\n"
     ]
    },
    {
     "name": "stdout",
     "output_type": "stream",
     "text": [
      "[CV] ... n_estimators=200, scale_pos_weight=2, score=0.896362 - 9.0min\n",
      "[CV] n_estimators=200, scale_pos_weight=3 ............................\n"
     ]
    },
    {
     "name": "stderr",
     "output_type": "stream",
     "text": [
      "[Parallel(n_jobs=5)]: Done  27 tasks      | elapsed: 36.6min\n"
     ]
    },
    {
     "name": "stdout",
     "output_type": "stream",
     "text": [
      "[CV] . n_estimators=200, scale_pos_weight=2.5, score=0.905415 - 8.9min\n",
      "[CV] n_estimators=200, scale_pos_weight=3 ............................\n",
      "[CV] . n_estimators=200, scale_pos_weight=2.5, score=0.907471 - 9.1min\n",
      "[CV] n_estimators=200, scale_pos_weight=3.5 ..........................\n"
     ]
    },
    {
     "name": "stderr",
     "output_type": "stream",
     "text": [
      "[Parallel(n_jobs=5)]: Done  29 out of  36 | elapsed: 39.0min remaining:  9.4min\n"
     ]
    },
    {
     "name": "stdout",
     "output_type": "stream",
     "text": [
      "[CV] . n_estimators=200, scale_pos_weight=2.5, score=0.892244 - 9.1min\n",
      "[CV] n_estimators=200, scale_pos_weight=3.5 ..........................\n",
      "[CV] ... n_estimators=200, scale_pos_weight=3, score=0.900617 - 9.1min\n",
      "[CV] n_estimators=200, scale_pos_weight=3.5 ..........................\n"
     ]
    },
    {
     "name": "stderr",
     "output_type": "stream",
     "text": [
      "[Parallel(n_jobs=5)]: Done  31 out of  36 | elapsed: 45.5min remaining:  7.3min\n"
     ]
    },
    {
     "name": "stdout",
     "output_type": "stream",
     "text": [
      "[CV] ... n_estimators=200, scale_pos_weight=3, score=0.907471 - 9.1min\n",
      "[CV] ... n_estimators=200, scale_pos_weight=3, score=0.888813 - 9.0min\n"
     ]
    },
    {
     "name": "stderr",
     "output_type": "stream",
     "text": [
      "[Parallel(n_jobs=5)]: Done  33 out of  36 | elapsed: 47.6min remaining:  4.3min\n"
     ]
    },
    {
     "name": "stdout",
     "output_type": "stream",
     "text": [
      "[CV] . n_estimators=200, scale_pos_weight=3.5, score=0.897875 - 8.8min\n",
      "[CV] . n_estimators=200, scale_pos_weight=3.5, score=0.909527 - 7.8min\n",
      "[CV] . n_estimators=200, scale_pos_weight=3.5, score=0.890185 - 5.4min\n"
     ]
    },
    {
     "name": "stderr",
     "output_type": "stream",
     "text": [
      "[Parallel(n_jobs=5)]: Done  36 out of  36 | elapsed: 50.9min finished\n"
     ]
    },
    {
     "name": "stdout",
     "output_type": "stream",
     "text": [
      "325\n",
      "Fitting 3 folds for each of 12 candidates, totalling 36 fits\n",
      "[CV] n_estimators=100, scale_pos_weight=2 ............................\n",
      "[CV] n_estimators=100, scale_pos_weight=2 ............................\n",
      "[CV] n_estimators=100, scale_pos_weight=2 ............................\n",
      "[CV] n_estimators=100, scale_pos_weight=2.5 ..........................\n",
      "[CV] n_estimators=100, scale_pos_weight=2.5 ..........................\n",
      "[CV] . n_estimators=100, scale_pos_weight=2.5, score=0.943797 - 4.3min\n",
      "[CV] n_estimators=100, scale_pos_weight=2.5 ..........................\n"
     ]
    },
    {
     "name": "stderr",
     "output_type": "stream",
     "text": [
      "[Parallel(n_jobs=5)]: Done   1 tasks      | elapsed:  4.3min\n"
     ]
    },
    {
     "name": "stdout",
     "output_type": "stream",
     "text": [
      "[CV] ... n_estimators=100, scale_pos_weight=2, score=0.945816 - 4.4min\n",
      "[CV] n_estimators=100, scale_pos_weight=3 ............................\n"
     ]
    },
    {
     "name": "stderr",
     "output_type": "stream",
     "text": [
      "[Parallel(n_jobs=5)]: Done   2 tasks      | elapsed:  4.4min\n"
     ]
    },
    {
     "name": "stdout",
     "output_type": "stream",
     "text": [
      "[CV] ... n_estimators=100, scale_pos_weight=2, score=0.943112 - 4.4min\n",
      "[CV] n_estimators=100, scale_pos_weight=3 ............................\n"
     ]
    },
    {
     "name": "stderr",
     "output_type": "stream",
     "text": [
      "[Parallel(n_jobs=5)]: Done   3 tasks      | elapsed:  4.4min\n"
     ]
    },
    {
     "name": "stdout",
     "output_type": "stream",
     "text": [
      "[CV] . n_estimators=100, scale_pos_weight=2.5, score=0.947874 - 4.4min\n",
      "[CV] n_estimators=100, scale_pos_weight=3 ............................\n"
     ]
    },
    {
     "name": "stderr",
     "output_type": "stream",
     "text": [
      "[Parallel(n_jobs=5)]: Done   4 tasks      | elapsed:  4.4min\n"
     ]
    },
    {
     "name": "stdout",
     "output_type": "stream",
     "text": [
      "[CV] ... n_estimators=100, scale_pos_weight=2, score=0.948560 - 4.4min\n",
      "[CV] n_estimators=100, scale_pos_weight=3.5 ..........................\n"
     ]
    },
    {
     "name": "stderr",
     "output_type": "stream",
     "text": [
      "[Parallel(n_jobs=5)]: Done   5 tasks      | elapsed:  4.4min\n"
     ]
    },
    {
     "name": "stdout",
     "output_type": "stream",
     "text": [
      "[CV] . n_estimators=100, scale_pos_weight=2.5, score=0.946502 - 4.5min\n",
      "[CV] n_estimators=100, scale_pos_weight=3.5 ..........................\n"
     ]
    },
    {
     "name": "stderr",
     "output_type": "stream",
     "text": [
      "[Parallel(n_jobs=5)]: Done   6 tasks      | elapsed:  8.9min\n"
     ]
    },
    {
     "name": "stdout",
     "output_type": "stream",
     "text": [
      "[CV] ... n_estimators=100, scale_pos_weight=3, score=0.945168 - 4.6min\n",
      "[CV] ... n_estimators=100, scale_pos_weight=3, score=0.950617 - 4.6min\n",
      "[CV] n_estimators=100, scale_pos_weight=3.5 ..........................\n",
      "[CV] n_estimators=150, scale_pos_weight=2 ............................\n"
     ]
    },
    {
     "name": "stderr",
     "output_type": "stream",
     "text": [
      "[Parallel(n_jobs=5)]: Done   7 tasks      | elapsed:  9.0min\n",
      "[Parallel(n_jobs=5)]: Done   8 tasks      | elapsed:  9.0min\n"
     ]
    },
    {
     "name": "stdout",
     "output_type": "stream",
     "text": [
      "[CV] . n_estimators=100, scale_pos_weight=3.5, score=0.942426 - 4.6min\n",
      "[CV] n_estimators=150, scale_pos_weight=2 ............................\n"
     ]
    },
    {
     "name": "stderr",
     "output_type": "stream",
     "text": [
      "[Parallel(n_jobs=5)]: Done   9 tasks      | elapsed:  9.0min\n"
     ]
    },
    {
     "name": "stdout",
     "output_type": "stream",
     "text": [
      "[CV] ... n_estimators=100, scale_pos_weight=3, score=0.946502 - 4.6min\n",
      "[CV] n_estimators=150, scale_pos_weight=2 ............................\n"
     ]
    },
    {
     "name": "stderr",
     "output_type": "stream",
     "text": [
      "[Parallel(n_jobs=5)]: Done  10 tasks      | elapsed:  9.0min\n"
     ]
    },
    {
     "name": "stdout",
     "output_type": "stream",
     "text": [
      "[CV] . n_estimators=100, scale_pos_weight=3.5, score=0.949246 - 4.6min\n",
      "[CV] n_estimators=150, scale_pos_weight=2.5 ..........................\n"
     ]
    },
    {
     "name": "stderr",
     "output_type": "stream",
     "text": [
      "[Parallel(n_jobs=5)]: Done  11 tasks      | elapsed: 13.4min\n"
     ]
    },
    {
     "name": "stdout",
     "output_type": "stream",
     "text": [
      "[CV] . n_estimators=100, scale_pos_weight=3.5, score=0.945816 - 4.5min\n",
      "[CV] n_estimators=150, scale_pos_weight=2.5 ..........................\n"
     ]
    },
    {
     "name": "stderr",
     "output_type": "stream",
     "text": [
      "[Parallel(n_jobs=5)]: Done  12 tasks      | elapsed: 13.4min\n"
     ]
    },
    {
     "name": "stdout",
     "output_type": "stream",
     "text": [
      "[CV] ... n_estimators=150, scale_pos_weight=2, score=0.949931 - 6.7min\n",
      "[CV] n_estimators=150, scale_pos_weight=2.5 ..........................\n"
     ]
    },
    {
     "name": "stderr",
     "output_type": "stream",
     "text": [
      "[Parallel(n_jobs=5)]: Done  13 tasks      | elapsed: 15.7min\n"
     ]
    },
    {
     "name": "stdout",
     "output_type": "stream",
     "text": [
      "[CV] ... n_estimators=150, scale_pos_weight=2, score=0.944483 - 6.7min\n",
      "[CV] n_estimators=150, scale_pos_weight=3 ............................\n"
     ]
    },
    {
     "name": "stderr",
     "output_type": "stream",
     "text": [
      "[Parallel(n_jobs=5)]: Done  14 tasks      | elapsed: 15.7min\n"
     ]
    },
    {
     "name": "stdout",
     "output_type": "stream",
     "text": [
      "[CV] ... n_estimators=150, scale_pos_weight=2, score=0.943073 - 6.8min\n",
      "[CV] n_estimators=150, scale_pos_weight=3 ............................\n"
     ]
    },
    {
     "name": "stderr",
     "output_type": "stream",
     "text": [
      "[Parallel(n_jobs=5)]: Done  15 tasks      | elapsed: 15.7min\n"
     ]
    },
    {
     "name": "stdout",
     "output_type": "stream",
     "text": [
      "[CV] . n_estimators=150, scale_pos_weight=2.5, score=0.949931 - 6.7min\n",
      "[CV] n_estimators=150, scale_pos_weight=3 ............................\n"
     ]
    },
    {
     "name": "stderr",
     "output_type": "stream",
     "text": [
      "[Parallel(n_jobs=5)]: Done  16 tasks      | elapsed: 20.2min\n"
     ]
    },
    {
     "name": "stdout",
     "output_type": "stream",
     "text": [
      "[CV] . n_estimators=150, scale_pos_weight=2.5, score=0.945853 - 6.8min\n",
      "[CV] n_estimators=150, scale_pos_weight=3.5 ..........................\n"
     ]
    },
    {
     "name": "stderr",
     "output_type": "stream",
     "text": [
      "[Parallel(n_jobs=5)]: Done  17 tasks      | elapsed: 20.2min\n"
     ]
    },
    {
     "name": "stdout",
     "output_type": "stream",
     "text": [
      "[CV] . n_estimators=150, scale_pos_weight=2.5, score=0.950617 - 7.1min\n",
      "[CV] ... n_estimators=150, scale_pos_weight=3, score=0.946539 - 7.1min\n",
      "[CV] ... n_estimators=150, scale_pos_weight=3, score=0.949246 - 7.0min\n",
      "[CV] n_estimators=150, scale_pos_weight=3.5 ..........................\n",
      "[CV] n_estimators=150, scale_pos_weight=3.5 ..........................\n"
     ]
    },
    {
     "name": "stderr",
     "output_type": "stream",
     "text": [
      "[Parallel(n_jobs=5)]: Done  18 tasks      | elapsed: 22.8min\n",
      "[Parallel(n_jobs=5)]: Done  19 tasks      | elapsed: 22.8min\n",
      "[Parallel(n_jobs=5)]: Done  20 tasks      | elapsed: 22.8min\n"
     ]
    },
    {
     "name": "stdout",
     "output_type": "stream",
     "text": [
      "[CV] n_estimators=200, scale_pos_weight=2 ............................\n",
      "[CV] ... n_estimators=150, scale_pos_weight=3, score=0.954047 - 7.7min\n",
      "[CV] n_estimators=200, scale_pos_weight=2 ............................\n"
     ]
    },
    {
     "name": "stderr",
     "output_type": "stream",
     "text": [
      "[Parallel(n_jobs=5)]: Done  21 tasks      | elapsed: 27.8min\n"
     ]
    },
    {
     "name": "stdout",
     "output_type": "stream",
     "text": [
      "[CV] . n_estimators=150, scale_pos_weight=3.5, score=0.945168 - 7.6min\n",
      "[CV] n_estimators=200, scale_pos_weight=2 ............................\n"
     ]
    },
    {
     "name": "stderr",
     "output_type": "stream",
     "text": [
      "[Parallel(n_jobs=5)]: Done  22 tasks      | elapsed: 27.9min\n"
     ]
    },
    {
     "name": "stdout",
     "output_type": "stream",
     "text": [
      "[CV] . n_estimators=150, scale_pos_weight=3.5, score=0.948560 - 7.4min\n",
      "[CV] n_estimators=200, scale_pos_weight=2.5 ..........................\n"
     ]
    },
    {
     "name": "stderr",
     "output_type": "stream",
     "text": [
      "[Parallel(n_jobs=5)]: Done  23 tasks      | elapsed: 30.2min\n"
     ]
    },
    {
     "name": "stdout",
     "output_type": "stream",
     "text": [
      "[CV] . n_estimators=150, scale_pos_weight=3.5, score=0.948560 - 7.4min\n",
      "[CV] n_estimators=200, scale_pos_weight=2.5 ..........................\n"
     ]
    },
    {
     "name": "stderr",
     "output_type": "stream",
     "text": [
      "[Parallel(n_jobs=5)]: Done  24 tasks      | elapsed: 30.2min\n"
     ]
    },
    {
     "name": "stdout",
     "output_type": "stream",
     "text": [
      "[CV] ... n_estimators=200, scale_pos_weight=2, score=0.944483 - 9.7min\n",
      "[CV] n_estimators=200, scale_pos_weight=2.5 ..........................\n"
     ]
    },
    {
     "name": "stderr",
     "output_type": "stream",
     "text": [
      "[Parallel(n_jobs=5)]: Done  25 tasks      | elapsed: 32.5min\n"
     ]
    },
    {
     "name": "stdout",
     "output_type": "stream",
     "text": [
      "[CV] ... n_estimators=200, scale_pos_weight=2, score=0.943759 - 8.9min\n",
      "[CV] n_estimators=200, scale_pos_weight=3 ............................\n"
     ]
    },
    {
     "name": "stderr",
     "output_type": "stream",
     "text": [
      "[Parallel(n_jobs=5)]: Done  26 tasks      | elapsed: 36.8min\n"
     ]
    },
    {
     "name": "stdout",
     "output_type": "stream",
     "text": [
      "[CV] ... n_estimators=200, scale_pos_weight=2, score=0.949931 - 9.0min\n",
      "[CV] n_estimators=200, scale_pos_weight=3 ............................\n"
     ]
    },
    {
     "name": "stderr",
     "output_type": "stream",
     "text": [
      "[Parallel(n_jobs=5)]: Done  27 tasks      | elapsed: 36.9min\n"
     ]
    },
    {
     "name": "stdout",
     "output_type": "stream",
     "text": [
      "[CV] . n_estimators=200, scale_pos_weight=2.5, score=0.944483 - 8.9min\n",
      "[CV] n_estimators=200, scale_pos_weight=3 ............................\n",
      "[CV] . n_estimators=200, scale_pos_weight=2.5, score=0.948560 - 9.0min\n",
      "[CV] n_estimators=200, scale_pos_weight=3.5 ..........................\n"
     ]
    },
    {
     "name": "stderr",
     "output_type": "stream",
     "text": [
      "[Parallel(n_jobs=5)]: Done  29 out of  36 | elapsed: 39.2min remaining:  9.5min\n"
     ]
    },
    {
     "name": "stdout",
     "output_type": "stream",
     "text": [
      "[CV] . n_estimators=200, scale_pos_weight=2.5, score=0.952675 - 9.1min\n",
      "[CV] n_estimators=200, scale_pos_weight=3.5 ..........................\n",
      "[CV] ... n_estimators=200, scale_pos_weight=3, score=0.943797 - 9.2min\n",
      "[CV] n_estimators=200, scale_pos_weight=3.5 ..........................\n"
     ]
    },
    {
     "name": "stderr",
     "output_type": "stream",
     "text": [
      "[Parallel(n_jobs=5)]: Done  31 out of  36 | elapsed: 45.9min remaining:  7.4min\n"
     ]
    },
    {
     "name": "stdout",
     "output_type": "stream",
     "text": [
      "[CV] ... n_estimators=200, scale_pos_weight=3, score=0.951303 - 9.2min\n",
      "[CV] ... n_estimators=200, scale_pos_weight=3, score=0.951989 - 8.7min\n"
     ]
    },
    {
     "name": "stderr",
     "output_type": "stream",
     "text": [
      "[Parallel(n_jobs=5)]: Done  33 out of  36 | elapsed: 47.9min remaining:  4.4min\n"
     ]
    },
    {
     "name": "stdout",
     "output_type": "stream",
     "text": [
      "[CV] . n_estimators=200, scale_pos_weight=3.5, score=0.945853 - 8.7min\n",
      "[CV] . n_estimators=200, scale_pos_weight=3.5, score=0.950617 - 7.4min\n",
      "[CV] . n_estimators=200, scale_pos_weight=3.5, score=0.950617 - 4.7min\n"
     ]
    },
    {
     "name": "stderr",
     "output_type": "stream",
     "text": [
      "[Parallel(n_jobs=5)]: Done  36 out of  36 | elapsed: 50.6min finished\n"
     ]
    },
    {
     "name": "stdout",
     "output_type": "stream",
     "text": [
      "220\n",
      "Fitting 3 folds for each of 12 candidates, totalling 36 fits\n",
      "[CV] n_estimators=100, scale_pos_weight=2 ............................\n",
      "[CV] n_estimators=100, scale_pos_weight=2 ............................\n",
      "[CV] n_estimators=100, scale_pos_weight=2 ............................\n",
      "[CV] n_estimators=100, scale_pos_weight=2.5 ..........................\n",
      "[CV] n_estimators=100, scale_pos_weight=2.5 ..........................\n",
      "[CV] . n_estimators=100, scale_pos_weight=2.5, score=0.876628 - 4.5min\n",
      "[CV] n_estimators=100, scale_pos_weight=2.5 ..........................\n"
     ]
    },
    {
     "name": "stderr",
     "output_type": "stream",
     "text": [
      "[Parallel(n_jobs=5)]: Done   1 tasks      | elapsed:  4.5min\n"
     ]
    },
    {
     "name": "stdout",
     "output_type": "stream",
     "text": [
      "[CV] ... n_estimators=100, scale_pos_weight=2, score=0.883482 - 4.5min\n",
      "[CV] n_estimators=100, scale_pos_weight=3 ............................\n"
     ]
    },
    {
     "name": "stderr",
     "output_type": "stream",
     "text": [
      "[Parallel(n_jobs=5)]: Done   2 tasks      | elapsed:  4.5min\n"
     ]
    },
    {
     "name": "stdout",
     "output_type": "stream",
     "text": [
      "[CV] ... n_estimators=100, scale_pos_weight=2, score=0.888813 - 4.5min\n",
      "[CV] n_estimators=100, scale_pos_weight=3 ............................\n"
     ]
    },
    {
     "name": "stderr",
     "output_type": "stream",
     "text": [
      "[Parallel(n_jobs=5)]: Done   3 tasks      | elapsed:  4.5min\n"
     ]
    },
    {
     "name": "stdout",
     "output_type": "stream",
     "text": [
      "[CV] ... n_estimators=100, scale_pos_weight=2, score=0.875257 - 4.6min\n",
      "[CV] n_estimators=100, scale_pos_weight=3 ............................\n"
     ]
    },
    {
     "name": "stderr",
     "output_type": "stream",
     "text": [
      "[Parallel(n_jobs=5)]: Done   4 tasks      | elapsed:  4.6min\n"
     ]
    },
    {
     "name": "stdout",
     "output_type": "stream",
     "text": [
      "[CV] . n_estimators=100, scale_pos_weight=2.5, score=0.866347 - 4.6min\n",
      "[CV] n_estimators=100, scale_pos_weight=3.5 ..........................\n"
     ]
    },
    {
     "name": "stderr",
     "output_type": "stream",
     "text": [
      "[Parallel(n_jobs=5)]: Done   5 tasks      | elapsed:  4.6min\n"
     ]
    },
    {
     "name": "stdout",
     "output_type": "stream",
     "text": [
      "[CV] . n_estimators=100, scale_pos_weight=2.5, score=0.884695 - 4.5min\n",
      "[CV] n_estimators=100, scale_pos_weight=3.5 ..........................\n"
     ]
    },
    {
     "name": "stderr",
     "output_type": "stream",
     "text": [
      "[Parallel(n_jobs=5)]: Done   6 tasks      | elapsed:  9.0min\n"
     ]
    },
    {
     "name": "stdout",
     "output_type": "stream",
     "text": [
      "[CV] ... n_estimators=100, scale_pos_weight=3, score=0.843729 - 4.5min\n",
      "[CV] n_estimators=100, scale_pos_weight=3.5 ..........................\n"
     ]
    },
    {
     "name": "stderr",
     "output_type": "stream",
     "text": [
      "[Parallel(n_jobs=5)]: Done   7 tasks      | elapsed:  9.0min\n"
     ]
    },
    {
     "name": "stdout",
     "output_type": "stream",
     "text": [
      "[CV] ... n_estimators=100, scale_pos_weight=3, score=0.827279 - 4.5min\n",
      "[CV] n_estimators=150, scale_pos_weight=2 ............................\n"
     ]
    },
    {
     "name": "stderr",
     "output_type": "stream",
     "text": [
      "[Parallel(n_jobs=5)]: Done   8 tasks      | elapsed:  9.0min\n"
     ]
    },
    {
     "name": "stdout",
     "output_type": "stream",
     "text": [
      "[CV] ... n_estimators=100, scale_pos_weight=3, score=0.867536 - 4.5min\n",
      "[CV] n_estimators=150, scale_pos_weight=2 ............................\n"
     ]
    },
    {
     "name": "stderr",
     "output_type": "stream",
     "text": [
      "[Parallel(n_jobs=5)]: Done   9 tasks      | elapsed:  9.1min\n"
     ]
    },
    {
     "name": "stdout",
     "output_type": "stream",
     "text": [
      "[CV] . n_estimators=100, scale_pos_weight=3.5, score=0.818369 - 4.5min\n",
      "[CV] n_estimators=150, scale_pos_weight=2 ............................\n"
     ]
    },
    {
     "name": "stderr",
     "output_type": "stream",
     "text": [
      "[Parallel(n_jobs=5)]: Done  10 tasks      | elapsed:  9.1min\n"
     ]
    },
    {
     "name": "stdout",
     "output_type": "stream",
     "text": [
      "[CV] . n_estimators=100, scale_pos_weight=3.5, score=0.832762 - 4.6min\n",
      "[CV] n_estimators=150, scale_pos_weight=2.5 ..........................\n"
     ]
    },
    {
     "name": "stderr",
     "output_type": "stream",
     "text": [
      "[Parallel(n_jobs=5)]: Done  11 tasks      | elapsed: 13.5min\n"
     ]
    },
    {
     "name": "stdout",
     "output_type": "stream",
     "text": [
      "[CV] . n_estimators=100, scale_pos_weight=3.5, score=0.844887 - 4.6min\n",
      "[CV] n_estimators=150, scale_pos_weight=2.5 ..........................\n"
     ]
    },
    {
     "name": "stderr",
     "output_type": "stream",
     "text": [
      "[Parallel(n_jobs=5)]: Done  12 tasks      | elapsed: 13.6min\n"
     ]
    },
    {
     "name": "stdout",
     "output_type": "stream",
     "text": [
      "[CV] ... n_estimators=150, scale_pos_weight=2, score=0.880055 - 6.7min\n",
      "[CV] n_estimators=150, scale_pos_weight=2.5 ..........................\n"
     ]
    },
    {
     "name": "stderr",
     "output_type": "stream",
     "text": [
      "[Parallel(n_jobs=5)]: Done  13 tasks      | elapsed: 15.7min\n"
     ]
    },
    {
     "name": "stdout",
     "output_type": "stream",
     "text": [
      "[CV] ... n_estimators=150, scale_pos_weight=2, score=0.890336 - 6.7min\n",
      "[CV] n_estimators=150, scale_pos_weight=3 ............................\n"
     ]
    },
    {
     "name": "stderr",
     "output_type": "stream",
     "text": [
      "[Parallel(n_jobs=5)]: Done  14 tasks      | elapsed: 15.8min\n"
     ]
    },
    {
     "name": "stdout",
     "output_type": "stream",
     "text": [
      "[CV] ... n_estimators=150, scale_pos_weight=2, score=0.891558 - 6.8min\n",
      "[CV] n_estimators=150, scale_pos_weight=3 ............................\n"
     ]
    },
    {
     "name": "stderr",
     "output_type": "stream",
     "text": [
      "[Parallel(n_jobs=5)]: Done  15 tasks      | elapsed: 15.9min\n"
     ]
    },
    {
     "name": "stdout",
     "output_type": "stream",
     "text": [
      "[CV] . n_estimators=150, scale_pos_weight=2.5, score=0.880055 - 6.7min\n",
      "[CV] n_estimators=150, scale_pos_weight=3 ............................\n"
     ]
    },
    {
     "name": "stderr",
     "output_type": "stream",
     "text": [
      "[Parallel(n_jobs=5)]: Done  16 tasks      | elapsed: 20.2min\n"
     ]
    },
    {
     "name": "stdout",
     "output_type": "stream",
     "text": [
      "[CV] . n_estimators=150, scale_pos_weight=2.5, score=0.866347 - 6.8min\n",
      "[CV] n_estimators=150, scale_pos_weight=3.5 ..........................\n"
     ]
    },
    {
     "name": "stderr",
     "output_type": "stream",
     "text": [
      "[Parallel(n_jobs=5)]: Done  17 tasks      | elapsed: 20.3min\n"
     ]
    },
    {
     "name": "stdout",
     "output_type": "stream",
     "text": [
      "[CV] . n_estimators=150, scale_pos_weight=2.5, score=0.888126 - 6.8min\n",
      "[CV] n_estimators=150, scale_pos_weight=3.5 ..........................\n"
     ]
    },
    {
     "name": "stderr",
     "output_type": "stream",
     "text": [
      "[Parallel(n_jobs=5)]: Done  18 tasks      | elapsed: 22.6min\n"
     ]
    },
    {
     "name": "stdout",
     "output_type": "stream",
     "text": [
      "[CV] ... n_estimators=150, scale_pos_weight=3, score=0.869774 - 6.9min\n",
      "[CV] n_estimators=150, scale_pos_weight=3.5 ..........................\n"
     ]
    },
    {
     "name": "stderr",
     "output_type": "stream",
     "text": [
      "[Parallel(n_jobs=5)]: Done  19 tasks      | elapsed: 22.7min\n"
     ]
    },
    {
     "name": "stdout",
     "output_type": "stream",
     "text": [
      "[CV] ... n_estimators=150, scale_pos_weight=3, score=0.851953 - 6.9min\n",
      "[CV] n_estimators=200, scale_pos_weight=2 ............................\n"
     ]
    },
    {
     "name": "stderr",
     "output_type": "stream",
     "text": [
      "[Parallel(n_jobs=5)]: Done  20 tasks      | elapsed: 22.7min\n"
     ]
    },
    {
     "name": "stdout",
     "output_type": "stream",
     "text": [
      "[CV] . n_estimators=150, scale_pos_weight=3.5, score=0.845785 - 6.7min\n",
      "[CV] n_estimators=200, scale_pos_weight=2 ............................\n"
     ]
    },
    {
     "name": "stderr",
     "output_type": "stream",
     "text": [
      "[Parallel(n_jobs=5)]: Done  21 tasks      | elapsed: 27.0min\n"
     ]
    },
    {
     "name": "stdout",
     "output_type": "stream",
     "text": [
      "[CV] ... n_estimators=150, scale_pos_weight=3, score=0.875772 - 6.8min\n",
      "[CV] n_estimators=200, scale_pos_weight=2 ............................\n"
     ]
    },
    {
     "name": "stderr",
     "output_type": "stream",
     "text": [
      "[Parallel(n_jobs=5)]: Done  22 tasks      | elapsed: 27.0min\n"
     ]
    },
    {
     "name": "stdout",
     "output_type": "stream",
     "text": [
      "[CV] . n_estimators=150, scale_pos_weight=3.5, score=0.854695 - 6.6min\n",
      "[CV] n_estimators=200, scale_pos_weight=2.5 ..........................\n"
     ]
    },
    {
     "name": "stderr",
     "output_type": "stream",
     "text": [
      "[Parallel(n_jobs=5)]: Done  23 tasks      | elapsed: 29.1min\n"
     ]
    },
    {
     "name": "stdout",
     "output_type": "stream",
     "text": [
      "[CV] . n_estimators=150, scale_pos_weight=3.5, score=0.857241 - 6.6min\n",
      "[CV] n_estimators=200, scale_pos_weight=2.5 ..........................\n"
     ]
    },
    {
     "name": "stderr",
     "output_type": "stream",
     "text": [
      "[Parallel(n_jobs=5)]: Done  24 tasks      | elapsed: 29.3min\n"
     ]
    },
    {
     "name": "stdout",
     "output_type": "stream",
     "text": [
      "[CV] ... n_estimators=200, scale_pos_weight=2, score=0.882796 - 8.8min\n",
      "[CV] n_estimators=200, scale_pos_weight=2.5 ..........................\n"
     ]
    },
    {
     "name": "stderr",
     "output_type": "stream",
     "text": [
      "[Parallel(n_jobs=5)]: Done  25 tasks      | elapsed: 31.5min\n"
     ]
    },
    {
     "name": "stdout",
     "output_type": "stream",
     "text": [
      "[CV] ... n_estimators=200, scale_pos_weight=2, score=0.888280 - 8.5min\n",
      "[CV] n_estimators=200, scale_pos_weight=3 ............................\n"
     ]
    },
    {
     "name": "stderr",
     "output_type": "stream",
     "text": [
      "[Parallel(n_jobs=5)]: Done  26 tasks      | elapsed: 35.6min\n"
     ]
    },
    {
     "name": "stdout",
     "output_type": "stream",
     "text": [
      "[CV] ... n_estimators=200, scale_pos_weight=2, score=0.895676 - 8.6min\n",
      "[CV] n_estimators=200, scale_pos_weight=3 ............................\n"
     ]
    },
    {
     "name": "stderr",
     "output_type": "stream",
     "text": [
      "[Parallel(n_jobs=5)]: Done  27 tasks      | elapsed: 35.6min\n"
     ]
    },
    {
     "name": "stdout",
     "output_type": "stream",
     "text": [
      "[CV] . n_estimators=200, scale_pos_weight=2.5, score=0.878684 - 8.8min\n",
      "[CV] n_estimators=200, scale_pos_weight=3 ............................\n",
      "[CV] . n_estimators=200, scale_pos_weight=2.5, score=0.880055 - 8.9min\n",
      "[CV] n_estimators=200, scale_pos_weight=3.5 ..........................\n"
     ]
    },
    {
     "name": "stderr",
     "output_type": "stream",
     "text": [
      "[Parallel(n_jobs=5)]: Done  29 out of  36 | elapsed: 38.3min remaining:  9.2min\n"
     ]
    },
    {
     "name": "stdout",
     "output_type": "stream",
     "text": [
      "[CV] . n_estimators=200, scale_pos_weight=2.5, score=0.891558 - 8.9min\n",
      "[CV] n_estimators=200, scale_pos_weight=3.5 ..........................\n",
      "[CV] ... n_estimators=200, scale_pos_weight=3, score=0.870459 - 8.7min\n",
      "[CV] n_estimators=200, scale_pos_weight=3.5 ..........................\n"
     ]
    },
    {
     "name": "stderr",
     "output_type": "stream",
     "text": [
      "[Parallel(n_jobs=5)]: Done  31 out of  36 | elapsed: 44.3min remaining:  7.1min\n"
     ]
    },
    {
     "name": "stdout",
     "output_type": "stream",
     "text": [
      "[CV] ... n_estimators=200, scale_pos_weight=3, score=0.862920 - 9.0min\n",
      "[CV] ... n_estimators=200, scale_pos_weight=3, score=0.878518 - 8.5min\n"
     ]
    },
    {
     "name": "stderr",
     "output_type": "stream",
     "text": [
      "[Parallel(n_jobs=5)]: Done  33 out of  36 | elapsed: 46.4min remaining:  4.2min\n"
     ]
    },
    {
     "name": "stdout",
     "output_type": "stream",
     "text": [
      "[CV] . n_estimators=200, scale_pos_weight=3.5, score=0.859493 - 8.5min\n",
      "[CV] . n_estimators=200, scale_pos_weight=3.5, score=0.861549 - 7.5min\n",
      "[CV] . n_estimators=200, scale_pos_weight=3.5, score=0.868222 - 5.3min\n"
     ]
    },
    {
     "name": "stderr",
     "output_type": "stream",
     "text": [
      "[Parallel(n_jobs=5)]: Done  36 out of  36 | elapsed: 49.6min finished\n"
     ]
    },
    {
     "name": "stdout",
     "output_type": "stream",
     "text": [
      "675\n",
      "Fitting 3 folds for each of 12 candidates, totalling 36 fits\n",
      "[CV] n_estimators=100, scale_pos_weight=2 ............................\n",
      "[CV] n_estimators=100, scale_pos_weight=2 ............................\n",
      "[CV] n_estimators=100, scale_pos_weight=2 ............................\n",
      "[CV] n_estimators=100, scale_pos_weight=2.5 ..........................\n",
      "[CV] n_estimators=100, scale_pos_weight=2.5 ..........................\n",
      "[CV] ... n_estimators=100, scale_pos_weight=2, score=0.925240 - 4.7min\n",
      "[CV] n_estimators=100, scale_pos_weight=2.5 ..........................\n"
     ]
    },
    {
     "name": "stderr",
     "output_type": "stream",
     "text": [
      "[Parallel(n_jobs=5)]: Done   1 tasks      | elapsed:  4.7min\n"
     ]
    },
    {
     "name": "stdout",
     "output_type": "stream",
     "text": [
      "[CV] . n_estimators=100, scale_pos_weight=2.5, score=0.926612 - 4.7min\n",
      "[CV] n_estimators=100, scale_pos_weight=3 ............................\n"
     ]
    },
    {
     "name": "stderr",
     "output_type": "stream",
     "text": [
      "[Parallel(n_jobs=5)]: Done   2 tasks      | elapsed:  4.7min\n"
     ]
    },
    {
     "name": "stdout",
     "output_type": "stream",
     "text": [
      "[CV] ... n_estimators=100, scale_pos_weight=2, score=0.932099 - 4.7min\n",
      "[CV] n_estimators=100, scale_pos_weight=3 ............................\n"
     ]
    },
    {
     "name": "stderr",
     "output_type": "stream",
     "text": [
      "[Parallel(n_jobs=5)]: Done   3 tasks      | elapsed:  4.7min\n"
     ]
    },
    {
     "name": "stdout",
     "output_type": "stream",
     "text": [
      "[CV] ... n_estimators=100, scale_pos_weight=2, score=0.908842 - 4.7min\n",
      "[CV] n_estimators=100, scale_pos_weight=3 ............................\n"
     ]
    },
    {
     "name": "stderr",
     "output_type": "stream",
     "text": [
      "[Parallel(n_jobs=5)]: Done   4 tasks      | elapsed:  4.7min\n"
     ]
    },
    {
     "name": "stdout",
     "output_type": "stream",
     "text": [
      "[CV] . n_estimators=100, scale_pos_weight=2.5, score=0.907471 - 4.8min\n",
      "[CV] n_estimators=100, scale_pos_weight=3.5 ..........................\n"
     ]
    },
    {
     "name": "stderr",
     "output_type": "stream",
     "text": [
      "[Parallel(n_jobs=5)]: Done   5 tasks      | elapsed:  4.8min\n"
     ]
    },
    {
     "name": "stdout",
     "output_type": "stream",
     "text": [
      "[CV] ... n_estimators=100, scale_pos_weight=3, score=0.934842 - 4.4min\n",
      "[CV] n_estimators=100, scale_pos_weight=3.5 ..........................\n"
     ]
    },
    {
     "name": "stderr",
     "output_type": "stream",
     "text": [
      "[Parallel(n_jobs=5)]: Done   6 tasks      | elapsed:  9.2min\n"
     ]
    },
    {
     "name": "stdout",
     "output_type": "stream",
     "text": [
      "[CV] . n_estimators=100, scale_pos_weight=2.5, score=0.934156 - 4.5min\n",
      "[CV] n_estimators=100, scale_pos_weight=3.5 ..........................\n"
     ]
    },
    {
     "name": "stderr",
     "output_type": "stream",
     "text": [
      "[Parallel(n_jobs=5)]: Done   7 tasks      | elapsed:  9.2min\n"
     ]
    },
    {
     "name": "stdout",
     "output_type": "stream",
     "text": [
      "[CV] . n_estimators=100, scale_pos_weight=3.5, score=0.899931 - 4.4min\n",
      "[CV] n_estimators=150, scale_pos_weight=2 ............................\n"
     ]
    },
    {
     "name": "stderr",
     "output_type": "stream",
     "text": [
      "[Parallel(n_jobs=5)]: Done   8 tasks      | elapsed:  9.2min\n"
     ]
    },
    {
     "name": "stdout",
     "output_type": "stream",
     "text": [
      "[CV] ... n_estimators=100, scale_pos_weight=3, score=0.904729 - 4.5min\n",
      "[CV] n_estimators=150, scale_pos_weight=2 ............................\n"
     ]
    },
    {
     "name": "stderr",
     "output_type": "stream",
     "text": [
      "[Parallel(n_jobs=5)]: Done   9 tasks      | elapsed:  9.2min\n"
     ]
    },
    {
     "name": "stdout",
     "output_type": "stream",
     "text": [
      "[CV] ... n_estimators=100, scale_pos_weight=3, score=0.927298 - 4.5min\n",
      "[CV] n_estimators=150, scale_pos_weight=2 ............................\n"
     ]
    },
    {
     "name": "stderr",
     "output_type": "stream",
     "text": [
      "[Parallel(n_jobs=5)]: Done  10 tasks      | elapsed:  9.2min\n"
     ]
    },
    {
     "name": "stdout",
     "output_type": "stream",
     "text": [
      "[CV] . n_estimators=100, scale_pos_weight=3.5, score=0.923868 - 4.4min\n",
      "[CV] n_estimators=150, scale_pos_weight=2.5 ..........................\n"
     ]
    },
    {
     "name": "stderr",
     "output_type": "stream",
     "text": [
      "[Parallel(n_jobs=5)]: Done  11 tasks      | elapsed: 13.6min\n"
     ]
    },
    {
     "name": "stdout",
     "output_type": "stream",
     "text": [
      "[CV] . n_estimators=100, scale_pos_weight=3.5, score=0.938957 - 4.4min\n",
      "[CV] n_estimators=150, scale_pos_weight=2.5 ..........................\n"
     ]
    },
    {
     "name": "stderr",
     "output_type": "stream",
     "text": [
      "[Parallel(n_jobs=5)]: Done  12 tasks      | elapsed: 13.7min\n"
     ]
    },
    {
     "name": "stdout",
     "output_type": "stream",
     "text": [
      "[CV] ... n_estimators=150, scale_pos_weight=2, score=0.923868 - 6.5min\n",
      "[CV] n_estimators=150, scale_pos_weight=2.5 ..........................\n"
     ]
    },
    {
     "name": "stderr",
     "output_type": "stream",
     "text": [
      "[Parallel(n_jobs=5)]: Done  13 tasks      | elapsed: 15.8min\n"
     ]
    },
    {
     "name": "stdout",
     "output_type": "stream",
     "text": [
      "[CV] ... n_estimators=150, scale_pos_weight=2, score=0.932099 - 6.6min\n",
      "[CV] n_estimators=150, scale_pos_weight=3 ............................\n"
     ]
    },
    {
     "name": "stderr",
     "output_type": "stream",
     "text": [
      "[Parallel(n_jobs=5)]: Done  14 tasks      | elapsed: 15.8min\n"
     ]
    },
    {
     "name": "stdout",
     "output_type": "stream",
     "text": [
      "[CV] ... n_estimators=150, scale_pos_weight=2, score=0.911583 - 6.6min\n",
      "[CV] n_estimators=150, scale_pos_weight=3 ............................\n"
     ]
    },
    {
     "name": "stderr",
     "output_type": "stream",
     "text": [
      "[Parallel(n_jobs=5)]: Done  15 tasks      | elapsed: 15.8min\n"
     ]
    },
    {
     "name": "stdout",
     "output_type": "stream",
     "text": [
      "[CV] . n_estimators=150, scale_pos_weight=2.5, score=0.930727 - 6.7min\n",
      "[CV] n_estimators=150, scale_pos_weight=3 ............................\n"
     ]
    },
    {
     "name": "stderr",
     "output_type": "stream",
     "text": [
      "[Parallel(n_jobs=5)]: Done  16 tasks      | elapsed: 20.4min\n"
     ]
    },
    {
     "name": "stdout",
     "output_type": "stream",
     "text": [
      "[CV] . n_estimators=150, scale_pos_weight=2.5, score=0.906100 - 6.8min\n",
      "[CV] n_estimators=150, scale_pos_weight=3.5 ..........................\n"
     ]
    },
    {
     "name": "stderr",
     "output_type": "stream",
     "text": [
      "[Parallel(n_jobs=5)]: Done  17 tasks      | elapsed: 20.4min\n"
     ]
    },
    {
     "name": "stdout",
     "output_type": "stream",
     "text": [
      "[CV] . n_estimators=150, scale_pos_weight=2.5, score=0.936900 - 6.8min\n",
      "[CV] n_estimators=150, scale_pos_weight=3.5 ..........................\n"
     ]
    },
    {
     "name": "stderr",
     "output_type": "stream",
     "text": [
      "[Parallel(n_jobs=5)]: Done  18 tasks      | elapsed: 22.5min\n"
     ]
    },
    {
     "name": "stdout",
     "output_type": "stream",
     "text": [
      "[CV] ... n_estimators=150, scale_pos_weight=3, score=0.930727 - 6.7min\n",
      "[CV] n_estimators=150, scale_pos_weight=3.5 ..........................\n"
     ]
    },
    {
     "name": "stderr",
     "output_type": "stream",
     "text": [
      "[Parallel(n_jobs=5)]: Done  19 tasks      | elapsed: 22.6min\n"
     ]
    },
    {
     "name": "stdout",
     "output_type": "stream",
     "text": [
      "[CV] ... n_estimators=150, scale_pos_weight=3, score=0.904729 - 6.8min\n",
      "[CV] n_estimators=200, scale_pos_weight=2 ............................\n"
     ]
    },
    {
     "name": "stderr",
     "output_type": "stream",
     "text": [
      "[Parallel(n_jobs=5)]: Done  20 tasks      | elapsed: 22.6min\n"
     ]
    },
    {
     "name": "stdout",
     "output_type": "stream",
     "text": [
      "[CV] ... n_estimators=150, scale_pos_weight=3, score=0.938272 - 6.7min\n",
      "[CV] n_estimators=200, scale_pos_weight=2 ............................\n"
     ]
    },
    {
     "name": "stderr",
     "output_type": "stream",
     "text": [
      "[Parallel(n_jobs=5)]: Done  21 tasks      | elapsed: 27.1min\n"
     ]
    },
    {
     "name": "stdout",
     "output_type": "stream",
     "text": [
      "[CV] . n_estimators=150, scale_pos_weight=3.5, score=0.906100 - 6.8min\n",
      "[CV] n_estimators=200, scale_pos_weight=2 ............................\n"
     ]
    },
    {
     "name": "stderr",
     "output_type": "stream",
     "text": [
      "[Parallel(n_jobs=5)]: Done  22 tasks      | elapsed: 27.2min\n"
     ]
    },
    {
     "name": "stdout",
     "output_type": "stream",
     "text": [
      "[CV] . n_estimators=150, scale_pos_weight=3.5, score=0.938272 - 6.7min\n",
      "[CV] n_estimators=200, scale_pos_weight=2.5 ..........................\n"
     ]
    },
    {
     "name": "stderr",
     "output_type": "stream",
     "text": [
      "[Parallel(n_jobs=5)]: Done  23 tasks      | elapsed: 29.2min\n"
     ]
    },
    {
     "name": "stdout",
     "output_type": "stream",
     "text": [
      "[CV] . n_estimators=150, scale_pos_weight=3.5, score=0.930041 - 6.7min\n",
      "[CV] n_estimators=200, scale_pos_weight=2.5 ..........................\n"
     ]
    },
    {
     "name": "stderr",
     "output_type": "stream",
     "text": [
      "[Parallel(n_jobs=5)]: Done  24 tasks      | elapsed: 29.2min\n"
     ]
    },
    {
     "name": "stdout",
     "output_type": "stream",
     "text": [
      "[CV] ... n_estimators=200, scale_pos_weight=2, score=0.913639 - 8.8min\n",
      "[CV] n_estimators=200, scale_pos_weight=2.5 ..........................\n"
     ]
    },
    {
     "name": "stderr",
     "output_type": "stream",
     "text": [
      "[Parallel(n_jobs=5)]: Done  25 tasks      | elapsed: 31.5min\n"
     ]
    },
    {
     "name": "stdout",
     "output_type": "stream",
     "text": [
      "[CV] ... n_estimators=200, scale_pos_weight=2, score=0.927298 - 8.9min\n",
      "[CV] n_estimators=200, scale_pos_weight=3 ............................\n"
     ]
    },
    {
     "name": "stderr",
     "output_type": "stream",
     "text": [
      "[Parallel(n_jobs=5)]: Done  26 tasks      | elapsed: 36.0min\n"
     ]
    },
    {
     "name": "stdout",
     "output_type": "stream",
     "text": [
      "[CV] ... n_estimators=200, scale_pos_weight=2, score=0.929355 - 8.8min\n",
      "[CV] n_estimators=200, scale_pos_weight=3 ............................\n"
     ]
    },
    {
     "name": "stderr",
     "output_type": "stream",
     "text": [
      "[Parallel(n_jobs=5)]: Done  27 tasks      | elapsed: 36.0min\n"
     ]
    },
    {
     "name": "stdout",
     "output_type": "stream",
     "text": [
      "[CV] . n_estimators=200, scale_pos_weight=2.5, score=0.905415 - 8.8min\n",
      "[CV] n_estimators=200, scale_pos_weight=3 ............................\n",
      "[CV] . n_estimators=200, scale_pos_weight=2.5, score=0.932785 - 8.9min\n",
      "[CV] n_estimators=200, scale_pos_weight=3.5 ..........................\n"
     ]
    },
    {
     "name": "stderr",
     "output_type": "stream",
     "text": [
      "[Parallel(n_jobs=5)]: Done  29 out of  36 | elapsed: 38.2min remaining:  9.2min\n"
     ]
    },
    {
     "name": "stdout",
     "output_type": "stream",
     "text": [
      "[CV] . n_estimators=200, scale_pos_weight=2.5, score=0.938272 - 8.9min\n",
      "[CV] n_estimators=200, scale_pos_weight=3.5 ..........................\n",
      "[CV] ... n_estimators=200, scale_pos_weight=3, score=0.932099 - 8.8min\n",
      "[CV] n_estimators=200, scale_pos_weight=3.5 ..........................\n"
     ]
    },
    {
     "name": "stderr",
     "output_type": "stream",
     "text": [
      "[Parallel(n_jobs=5)]: Done  31 out of  36 | elapsed: 44.9min remaining:  7.2min\n"
     ]
    },
    {
     "name": "stdout",
     "output_type": "stream",
     "text": [
      "[CV] ... n_estimators=200, scale_pos_weight=3, score=0.908156 - 8.9min\n",
      "[CV] ... n_estimators=200, scale_pos_weight=3, score=0.938957 - 8.7min\n"
     ]
    },
    {
     "name": "stderr",
     "output_type": "stream",
     "text": [
      "[Parallel(n_jobs=5)]: Done  33 out of  36 | elapsed: 46.7min remaining:  4.2min\n"
     ]
    },
    {
     "name": "stdout",
     "output_type": "stream",
     "text": [
      "[CV] . n_estimators=200, scale_pos_weight=3.5, score=0.910212 - 8.7min\n",
      "[CV] . n_estimators=200, scale_pos_weight=3.5, score=0.932785 - 7.6min\n",
      "[CV] . n_estimators=200, scale_pos_weight=3.5, score=0.941701 - 5.2min\n"
     ]
    },
    {
     "name": "stderr",
     "output_type": "stream",
     "text": [
      "[Parallel(n_jobs=5)]: Done  36 out of  36 | elapsed: 50.0min finished\n"
     ]
    },
    {
     "name": "stdout",
     "output_type": "stream",
     "text": [
      "446\n",
      "Fitting 3 folds for each of 12 candidates, totalling 36 fits\n",
      "[CV] n_estimators=100, scale_pos_weight=2 ............................\n",
      "[CV] n_estimators=100, scale_pos_weight=2 ............................\n",
      "[CV] n_estimators=100, scale_pos_weight=2 ............................\n",
      "[CV] n_estimators=100, scale_pos_weight=2.5 ..........................\n",
      "[CV] n_estimators=100, scale_pos_weight=2.5 ..........................\n",
      "[CV] ... n_estimators=100, scale_pos_weight=2, score=0.865569 - 4.5min\n",
      "[CV] n_estimators=100, scale_pos_weight=2.5 ..........................\n"
     ]
    },
    {
     "name": "stderr",
     "output_type": "stream",
     "text": [
      "[Parallel(n_jobs=5)]: Done   1 tasks      | elapsed:  4.5min\n"
     ]
    },
    {
     "name": "stdout",
     "output_type": "stream",
     "text": [
      "[CV] . n_estimators=100, scale_pos_weight=2.5, score=0.860082 - 4.5min\n",
      "[CV] n_estimators=100, scale_pos_weight=3 ............................\n"
     ]
    },
    {
     "name": "stderr",
     "output_type": "stream",
     "text": [
      "[Parallel(n_jobs=5)]: Done   2 tasks      | elapsed:  4.5min\n"
     ]
    },
    {
     "name": "stdout",
     "output_type": "stream",
     "text": [
      "[CV] . n_estimators=100, scale_pos_weight=2.5, score=0.854010 - 4.5min\n",
      "[CV] ... n_estimators=100, scale_pos_weight=2, score=0.856751 - 4.5min\n",
      "[CV] n_estimators=100, scale_pos_weight=3 ............................\n",
      "[CV] n_estimators=100, scale_pos_weight=3 ............................\n"
     ]
    },
    {
     "name": "stderr",
     "output_type": "stream",
     "text": [
      "[Parallel(n_jobs=5)]: Done   3 tasks      | elapsed:  4.5min\n",
      "[Parallel(n_jobs=5)]: Done   4 tasks      | elapsed:  4.5min\n"
     ]
    },
    {
     "name": "stdout",
     "output_type": "stream",
     "text": [
      "[CV] ... n_estimators=100, scale_pos_weight=2, score=0.865569 - 4.5min\n",
      "[CV] n_estimators=100, scale_pos_weight=3.5 ..........................\n"
     ]
    },
    {
     "name": "stderr",
     "output_type": "stream",
     "text": [
      "[Parallel(n_jobs=5)]: Done   5 tasks      | elapsed:  4.6min\n"
     ]
    },
    {
     "name": "stdout",
     "output_type": "stream",
     "text": [
      "[CV] ... n_estimators=100, scale_pos_weight=3, score=0.855967 - 4.5min\n",
      "[CV] n_estimators=100, scale_pos_weight=3.5 ..........................\n"
     ]
    },
    {
     "name": "stderr",
     "output_type": "stream",
     "text": [
      "[Parallel(n_jobs=5)]: Done   6 tasks      | elapsed:  9.0min\n"
     ]
    },
    {
     "name": "stdout",
     "output_type": "stream",
     "text": [
      "[CV] . n_estimators=100, scale_pos_weight=2.5, score=0.865569 - 4.5min\n",
      "[CV] n_estimators=100, scale_pos_weight=3.5 ..........................\n"
     ]
    },
    {
     "name": "stderr",
     "output_type": "stream",
     "text": [
      "[Parallel(n_jobs=5)]: Done   7 tasks      | elapsed:  9.0min\n"
     ]
    },
    {
     "name": "stdout",
     "output_type": "stream",
     "text": [
      "[CV] ... n_estimators=100, scale_pos_weight=3, score=0.846470 - 4.5min\n",
      "[CV] n_estimators=150, scale_pos_weight=2 ............................\n"
     ]
    },
    {
     "name": "stderr",
     "output_type": "stream",
     "text": [
      "[Parallel(n_jobs=5)]: Done   8 tasks      | elapsed:  9.0min\n"
     ]
    },
    {
     "name": "stdout",
     "output_type": "stream",
     "text": [
      "[CV] ... n_estimators=100, scale_pos_weight=3, score=0.859396 - 4.5min\n",
      "[CV] n_estimators=150, scale_pos_weight=2 ............................\n"
     ]
    },
    {
     "name": "stderr",
     "output_type": "stream",
     "text": [
      "[Parallel(n_jobs=5)]: Done   9 tasks      | elapsed:  9.1min\n"
     ]
    },
    {
     "name": "stdout",
     "output_type": "stream",
     "text": [
      "[CV] . n_estimators=100, scale_pos_weight=3.5, score=0.843043 - 4.6min\n",
      "[CV] n_estimators=150, scale_pos_weight=2 ............................\n"
     ]
    },
    {
     "name": "stderr",
     "output_type": "stream",
     "text": [
      "[Parallel(n_jobs=5)]: Done  10 tasks      | elapsed:  9.2min\n"
     ]
    },
    {
     "name": "stdout",
     "output_type": "stream",
     "text": [
      "[CV] . n_estimators=100, scale_pos_weight=3.5, score=0.850480 - 4.5min\n",
      "[CV] n_estimators=150, scale_pos_weight=2.5 ..........................\n"
     ]
    },
    {
     "name": "stderr",
     "output_type": "stream",
     "text": [
      "[Parallel(n_jobs=5)]: Done  11 tasks      | elapsed: 13.5min\n"
     ]
    },
    {
     "name": "stdout",
     "output_type": "stream",
     "text": [
      "[CV] . n_estimators=100, scale_pos_weight=3.5, score=0.851166 - 4.6min\n",
      "[CV] n_estimators=150, scale_pos_weight=2.5 ..........................\n"
     ]
    },
    {
     "name": "stderr",
     "output_type": "stream",
     "text": [
      "[Parallel(n_jobs=5)]: Done  12 tasks      | elapsed: 13.6min\n"
     ]
    },
    {
     "name": "stdout",
     "output_type": "stream",
     "text": [
      "[CV] ... n_estimators=150, scale_pos_weight=2, score=0.857437 - 6.6min\n",
      "[CV] n_estimators=150, scale_pos_weight=2.5 ..........................\n"
     ]
    },
    {
     "name": "stderr",
     "output_type": "stream",
     "text": [
      "[Parallel(n_jobs=5)]: Done  13 tasks      | elapsed: 15.6min\n"
     ]
    },
    {
     "name": "stdout",
     "output_type": "stream",
     "text": [
      "[CV] ... n_estimators=150, scale_pos_weight=2, score=0.867627 - 6.7min\n",
      "[CV] n_estimators=150, scale_pos_weight=3 ............................\n"
     ]
    },
    {
     "name": "stderr",
     "output_type": "stream",
     "text": [
      "[Parallel(n_jobs=5)]: Done  14 tasks      | elapsed: 15.8min\n"
     ]
    },
    {
     "name": "stdout",
     "output_type": "stream",
     "text": [
      "[CV] ... n_estimators=150, scale_pos_weight=2, score=0.871056 - 6.8min\n",
      "[CV] n_estimators=150, scale_pos_weight=3 ............................\n"
     ]
    },
    {
     "name": "stderr",
     "output_type": "stream",
     "text": [
      "[Parallel(n_jobs=5)]: Done  15 tasks      | elapsed: 15.9min\n"
     ]
    },
    {
     "name": "stdout",
     "output_type": "stream",
     "text": [
      "[CV] . n_estimators=150, scale_pos_weight=2.5, score=0.858807 - 6.7min\n",
      "[CV] n_estimators=150, scale_pos_weight=3 ............................\n"
     ]
    },
    {
     "name": "stderr",
     "output_type": "stream",
     "text": [
      "[Parallel(n_jobs=5)]: Done  16 tasks      | elapsed: 20.2min\n"
     ]
    },
    {
     "name": "stdout",
     "output_type": "stream",
     "text": [
      "[CV] . n_estimators=150, scale_pos_weight=2.5, score=0.862826 - 6.7min\n",
      "[CV] n_estimators=150, scale_pos_weight=3.5 ..........................\n"
     ]
    },
    {
     "name": "stderr",
     "output_type": "stream",
     "text": [
      "[Parallel(n_jobs=5)]: Done  17 tasks      | elapsed: 20.3min\n"
     ]
    },
    {
     "name": "stdout",
     "output_type": "stream",
     "text": [
      "[CV] . n_estimators=150, scale_pos_weight=2.5, score=0.862826 - 6.7min\n",
      "[CV] n_estimators=150, scale_pos_weight=3.5 ..........................\n"
     ]
    },
    {
     "name": "stderr",
     "output_type": "stream",
     "text": [
      "[Parallel(n_jobs=5)]: Done  18 tasks      | elapsed: 22.4min\n"
     ]
    },
    {
     "name": "stdout",
     "output_type": "stream",
     "text": [
      "[CV] ... n_estimators=150, scale_pos_weight=3, score=0.850583 - 6.7min\n",
      "[CV] n_estimators=150, scale_pos_weight=3.5 ..........................\n"
     ]
    },
    {
     "name": "stderr",
     "output_type": "stream",
     "text": [
      "[Parallel(n_jobs=5)]: Done  19 tasks      | elapsed: 22.5min\n"
     ]
    },
    {
     "name": "stdout",
     "output_type": "stream",
     "text": [
      "[CV] ... n_estimators=150, scale_pos_weight=3, score=0.861454 - 6.7min\n",
      "[CV] n_estimators=200, scale_pos_weight=2 ............................\n"
     ]
    },
    {
     "name": "stderr",
     "output_type": "stream",
     "text": [
      "[Parallel(n_jobs=5)]: Done  20 tasks      | elapsed: 22.7min\n"
     ]
    },
    {
     "name": "stdout",
     "output_type": "stream",
     "text": [
      "[CV] ... n_estimators=150, scale_pos_weight=3, score=0.858711 - 6.8min\n",
      "[CV] n_estimators=200, scale_pos_weight=2 ............................\n"
     ]
    },
    {
     "name": "stderr",
     "output_type": "stream",
     "text": [
      "[Parallel(n_jobs=5)]: Done  21 tasks      | elapsed: 26.9min\n"
     ]
    },
    {
     "name": "stdout",
     "output_type": "stream",
     "text": [
      "[CV] . n_estimators=150, scale_pos_weight=3.5, score=0.845785 - 6.8min\n",
      "[CV] n_estimators=200, scale_pos_weight=2 ............................\n"
     ]
    },
    {
     "name": "stderr",
     "output_type": "stream",
     "text": [
      "[Parallel(n_jobs=5)]: Done  22 tasks      | elapsed: 27.1min\n"
     ]
    },
    {
     "name": "stdout",
     "output_type": "stream",
     "text": [
      "[CV] . n_estimators=150, scale_pos_weight=3.5, score=0.855281 - 6.9min\n",
      "[CV] n_estimators=200, scale_pos_weight=2.5 ..........................\n"
     ]
    },
    {
     "name": "stderr",
     "output_type": "stream",
     "text": [
      "[Parallel(n_jobs=5)]: Done  23 tasks      | elapsed: 29.3min\n"
     ]
    },
    {
     "name": "stdout",
     "output_type": "stream",
     "text": [
      "[CV] . n_estimators=150, scale_pos_weight=3.5, score=0.852538 - 6.8min\n",
      "[CV] n_estimators=200, scale_pos_weight=2.5 ..........................\n"
     ]
    },
    {
     "name": "stderr",
     "output_type": "stream",
     "text": [
      "[Parallel(n_jobs=5)]: Done  24 tasks      | elapsed: 29.3min\n"
     ]
    },
    {
     "name": "stdout",
     "output_type": "stream",
     "text": [
      "[CV] ... n_estimators=200, scale_pos_weight=2, score=0.856066 - 9.0min\n",
      "[CV] n_estimators=200, scale_pos_weight=2.5 ..........................\n"
     ]
    },
    {
     "name": "stderr",
     "output_type": "stream",
     "text": [
      "[Parallel(n_jobs=5)]: Done  25 tasks      | elapsed: 31.6min\n"
     ]
    },
    {
     "name": "stdout",
     "output_type": "stream",
     "text": [
      "[CV] ... n_estimators=200, scale_pos_weight=2, score=0.863512 - 9.0min\n",
      "[CV] n_estimators=200, scale_pos_weight=3 ............................\n"
     ]
    },
    {
     "name": "stderr",
     "output_type": "stream",
     "text": [
      "[Parallel(n_jobs=5)]: Done  26 tasks      | elapsed: 35.9min\n"
     ]
    },
    {
     "name": "stdout",
     "output_type": "stream",
     "text": [
      "[CV] ... n_estimators=200, scale_pos_weight=2, score=0.868999 - 9.0min\n",
      "[CV] n_estimators=200, scale_pos_weight=3 ............................\n"
     ]
    },
    {
     "name": "stderr",
     "output_type": "stream",
     "text": [
      "[Parallel(n_jobs=5)]: Done  27 tasks      | elapsed: 36.1min\n"
     ]
    },
    {
     "name": "stdout",
     "output_type": "stream",
     "text": [
      "[CV] . n_estimators=200, scale_pos_weight=2.5, score=0.855380 - 8.8min\n",
      "[CV] n_estimators=200, scale_pos_weight=3 ............................\n",
      "[CV] . n_estimators=200, scale_pos_weight=2.5, score=0.859396 - 8.8min\n",
      "[CV] n_estimators=200, scale_pos_weight=3.5 ..........................\n"
     ]
    },
    {
     "name": "stderr",
     "output_type": "stream",
     "text": [
      "[Parallel(n_jobs=5)]: Done  29 out of  36 | elapsed: 38.1min remaining:  9.2min\n"
     ]
    },
    {
     "name": "stdout",
     "output_type": "stream",
     "text": [
      "[CV] . n_estimators=200, scale_pos_weight=2.5, score=0.862826 - 8.7min\n",
      "[CV] n_estimators=200, scale_pos_weight=3.5 ..........................\n",
      "[CV] ... n_estimators=200, scale_pos_weight=3, score=0.845099 - 8.6min\n",
      "[CV] n_estimators=200, scale_pos_weight=3.5 ..........................\n"
     ]
    },
    {
     "name": "stderr",
     "output_type": "stream",
     "text": [
      "[Parallel(n_jobs=5)]: Done  31 out of  36 | elapsed: 44.5min remaining:  7.2min\n"
     ]
    },
    {
     "name": "stdout",
     "output_type": "stream",
     "text": [
      "[CV] ... n_estimators=200, scale_pos_weight=3, score=0.863512 - 8.7min\n",
      "[CV] ... n_estimators=200, scale_pos_weight=3, score=0.863512 - 8.6min\n"
     ]
    },
    {
     "name": "stderr",
     "output_type": "stream",
     "text": [
      "[Parallel(n_jobs=5)]: Done  33 out of  36 | elapsed: 46.6min remaining:  4.2min\n"
     ]
    },
    {
     "name": "stdout",
     "output_type": "stream",
     "text": [
      "[CV] . n_estimators=200, scale_pos_weight=3.5, score=0.847841 - 8.5min\n",
      "[CV] . n_estimators=200, scale_pos_weight=3.5, score=0.855281 - 7.5min\n",
      "[CV] . n_estimators=200, scale_pos_weight=3.5, score=0.859396 - 5.1min\n"
     ]
    },
    {
     "name": "stderr",
     "output_type": "stream",
     "text": [
      "[Parallel(n_jobs=5)]: Done  36 out of  36 | elapsed: 49.6min finished\n"
     ]
    },
    {
     "name": "stdout",
     "output_type": "stream",
     "text": [
      "504\n"
     ]
    }
   ],
   "source": [
    "outputs = [\"\"] * 2921\n",
    "\n",
    "for i, tag in enumerate(tags):\n",
    "\n",
    "    x_train, y_train, docs_new  = preproc(tag, df, df2)\n",
    "\n",
    "    output = pred(tag, x_train, y_train, docs_new)\n",
    "    \n",
    "    for j, item in enumerate(output):\n",
    "        if item == 1:\n",
    "            if outputs[j] == \"\":\n",
    "                outputs[j] = tag\n",
    "            else:\n",
    "                outputs[j] += \" \" + tag\n",
    "            \n",
    "for i, item in enumerate(outputs):\n",
    "    if item == \"\":\n",
    "        outputs[i] = \" \""
   ]
  },
  {
   "cell_type": "code",
   "execution_count": 7,
   "metadata": {
    "collapsed": false
   },
   "outputs": [
    {
     "name": "stdout",
     "output_type": "stream",
     "text": [
      "Done\n"
     ]
    }
   ],
   "source": [
    "# Save to file\n",
    "import csv\n",
    "\n",
    "with open(\"tags_xgboost_weight-cv.tsv\", 'w') as myfile:\n",
    "    wr = csv.writer(myfile)\n",
    "    wr.writerow([\"tags\"]) \n",
    "    for val in outputs:\n",
    "        wr.writerow([val])\n",
    "\n",
    "print(\"Done\")"
   ]
  },
  {
   "cell_type": "code",
   "execution_count": null,
   "metadata": {
    "collapsed": true
   },
   "outputs": [],
   "source": []
  },
  {
   "cell_type": "code",
   "execution_count": null,
   "metadata": {
    "collapsed": true
   },
   "outputs": [],
   "source": []
  },
  {
   "cell_type": "markdown",
   "metadata": {},
   "source": [
    "Default settings <br>\n",
    "Precision = 0.77, Recall = 0.57, and F1-Score = 0.653061224489796\n",
    "\n",
    "n_estimators = 200 <br>\n",
    "Precision = 0.78, Recall = 0.59, and F1-Score = 0.6673490276356193"
   ]
  },
  {
   "cell_type": "markdown",
   "metadata": {},
   "source": [
    "n_estimators = 100 <br>\n",
    "\n",
    "weight = pos / neg <br>\n",
    "High precision but low recall <br>\n",
    "Precision = 0.86, Recall = 0.29, and F1-Score = 0.43812709030100333\n",
    "\n",
    "weight = 5 <br>\n",
    "Precision = 0.58, Recall = 0.79, and F1-Score = 0.6712407089765581\n",
    "\n",
    "weight = 4 <br>\n",
    "Precision = 0.60, Recall = 0.76, and F1-Score = 0.6753916319651001\n",
    "\n",
    "weight = 2  <br>\n",
    "Precision = 0.71, Recall = 0.68, and F1-Score = 0.693559477423791\n",
    "\n",
    "\n",
    "\n",
    "CV gridsearch <br>\n",
    "Precision = 0.72, Recall = 0.69, and F1-Score = 0.7015130674002752"
   ]
  }
 ],
 "metadata": {
  "kernelspec": {
   "display_name": "Python 3",
   "language": "python",
   "name": "python3"
  },
  "language_info": {
   "codemirror_mode": {
    "name": "ipython",
    "version": 3
   },
   "file_extension": ".py",
   "mimetype": "text/x-python",
   "name": "python",
   "nbconvert_exporter": "python",
   "pygments_lexer": "ipython3",
   "version": "3.6.0"
  }
 },
 "nbformat": 4,
 "nbformat_minor": 2
}
