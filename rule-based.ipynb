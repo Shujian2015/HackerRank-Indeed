{
 "cells": [
  {
   "cell_type": "markdown",
   "metadata": {},
   "source": [
    "### Rule-based Approach\n",
    "\n",
    "Best results: 559"
   ]
  },
  {
   "cell_type": "code",
   "execution_count": 1,
   "metadata": {
    "collapsed": false
   },
   "outputs": [
    {
     "data": {
      "text/html": [
       "<div>\n",
       "<table border=\"1\" class=\"dataframe\">\n",
       "  <thead>\n",
       "    <tr style=\"text-align: right;\">\n",
       "      <th></th>\n",
       "      <th>description</th>\n",
       "    </tr>\n",
       "    <tr>\n",
       "      <th>tags</th>\n",
       "      <th></th>\n",
       "    </tr>\n",
       "  </thead>\n",
       "  <tbody>\n",
       "    <tr>\n",
       "      <th>licence-needed supervising-job 5-plus-years-experience-needed</th>\n",
       "      <td>THE COMPANY    Employer is a midstream service...</td>\n",
       "    </tr>\n",
       "    <tr>\n",
       "      <th>2-4-years-experience-needed salary full-time-job</th>\n",
       "      <td>ICR Staffing is now accepting resumes for Indu...</td>\n",
       "    </tr>\n",
       "    <tr>\n",
       "      <th>part-time-job</th>\n",
       "      <td>This is a great position for the right person....</td>\n",
       "    </tr>\n",
       "    <tr>\n",
       "      <th>licence-needed</th>\n",
       "      <td>A large multi-specialty health center is expan...</td>\n",
       "    </tr>\n",
       "    <tr>\n",
       "      <th>5-plus-years-experience-needed full-time-job bs-degree-needed supervising-job</th>\n",
       "      <td>JOB PURPOSE:    The Account Director is respon...</td>\n",
       "    </tr>\n",
       "  </tbody>\n",
       "</table>\n",
       "</div>"
      ],
      "text/plain": [
       "                                                                                          description\n",
       "tags                                                                                                 \n",
       "licence-needed supervising-job 5-plus-years-exp...  THE COMPANY    Employer is a midstream service...\n",
       "2-4-years-experience-needed salary full-time-job    ICR Staffing is now accepting resumes for Indu...\n",
       "part-time-job                                       This is a great position for the right person....\n",
       "licence-needed                                      A large multi-specialty health center is expan...\n",
       "5-plus-years-experience-needed full-time-job bs...  JOB PURPOSE:    The Account Director is respon..."
      ]
     },
     "execution_count": 1,
     "metadata": {},
     "output_type": "execute_result"
    }
   ],
   "source": [
    "from pandas import DataFrame\n",
    "import nltk, re, pprint\n",
    "from nltk import word_tokenize\n",
    "from collections import defaultdict\n",
    "import csv\n",
    "\n",
    "# Load training set\n",
    "df = DataFrame.from_csv(\"train.tsv\", sep=\"\\t\",)\n",
    "df.head(n=5)"
   ]
  },
  {
   "cell_type": "code",
   "execution_count": 2,
   "metadata": {
    "collapsed": false
   },
   "outputs": [
    {
     "data": {
      "text/html": [
       "<div>\n",
       "<table border=\"1\" class=\"dataframe\">\n",
       "  <thead>\n",
       "    <tr style=\"text-align: right;\">\n",
       "      <th></th>\n",
       "    </tr>\n",
       "    <tr>\n",
       "      <th>description</th>\n",
       "    </tr>\n",
       "  </thead>\n",
       "  <tbody>\n",
       "    <tr>\n",
       "      <th>Integrity Home Care has an opening on our Leadership Team for a Salaried Private Care Nursing Supervisor. This position requires a MO &amp; KS Licensed RN. Candidate must be able to work in a flexible environment with direct patient care experience as well as community health education, and one on one teaching experience.  This position will be working with pediatric and senior patience in a home environment and hours will be mainly from 8am to 5pm, but candidate will need to be flexible as needed.  If you enjoy the one on one interaction with patients, and working to fulfill their long term needs, start with Integrity today! We are a dynamic and progressive Christian based organization that offers competitive pay and excellent benefits including vacation and sick time, Health, dental, short term disability and life insurance.</th>\n",
       "    </tr>\n",
       "    <tr>\n",
       "      <th>We're looking for a precision grinder with at least 10 years of experience. Prior experience grinding on carburzied parts is also needed.  *Job Description for Precision Grinding Machinist:*  * Set up and operate a variety of manual and CNC grinders for production, R&amp;D and tool repair work. Grinding work will include, but not be limited to, steps, angles, contours and threads. Selects proper speeds, feeds and wheels. This position will be working in an aerospace manufacturing facility.  *Job Requirements for Precision Grinding Machinist:*  Must have at least 10 years experience with the following types of grinders:  * Centerless * Internal * External * Surface * Thread * Universal  Base Pay $35.00 - $40.00 / Hour  Other Pay - O.T. &amp; PER DIEM  These positions are temporary and require travel. We pay your travel expenses. In return, you will have the opportunity to work up to 60 hours per week. You will receive weekly per diem of $595 ($85/day) for food and lodging. This is not an opportunity to permanently relocate because these positions are temporary.  Other Requirements for Precision Grinding Machinist:  * Felony/drug free and submit to a background check * Physical ability to work overtime – up to 60 hour work week * High Security Facility – Must be a US citizen  Strom Engineering provides temporary and contract employment opportunities for general laborers, engineers, machinists, mechanics, technicians &amp; welders.</th>\n",
       "    </tr>\n",
       "  </tbody>\n",
       "</table>\n",
       "</div>"
      ],
      "text/plain": [
       "Empty DataFrame\n",
       "Columns: []\n",
       "Index: [Integrity Home Care has an opening on our Leadership Team for a Salaried Private Care Nursing Supervisor. This position requires a MO & KS Licensed RN. Candidate must be able to work in a flexible environment with direct patient care experience as well as community health education, and one on one teaching experience.  This position will be working with pediatric and senior patience in a home environment and hours will be mainly from 8am to 5pm, but candidate will need to be flexible as needed.  If you enjoy the one on one interaction with patients, and working to fulfill their long term needs, start with Integrity today! We are a dynamic and progressive Christian based organization that offers competitive pay and excellent benefits including vacation and sick time, Health, dental, short term disability and life insurance., We're looking for a precision grinder with at least 10 years of experience. Prior experience grinding on carburzied parts is also needed.  *Job Description for Precision Grinding Machinist:*  * Set up and operate a variety of manual and CNC grinders for production, R&D and tool repair work. Grinding work will include, but not be limited to, steps, angles, contours and threads. Selects proper speeds, feeds and wheels. This position will be working in an aerospace manufacturing facility.  *Job Requirements for Precision Grinding Machinist:*  Must have at least 10 years experience with the following types of grinders:  * Centerless * Internal * External * Surface * Thread * Universal  Base Pay $35.00 - $40.00 / Hour  Other Pay - O.T. & PER DIEM  These positions are temporary and require travel. We pay your travel expenses. In return, you will have the opportunity to work up to 60 hours per week. You will receive weekly per diem of $595 ($85/day) for food and lodging. This is not an opportunity to permanently relocate because these positions are temporary.  Other Requirements for Precision Grinding Machinist:  * Felony/drug free and submit to a background check * Physical ability to work overtime – up to 60 hour work week * High Security Facility – Must be a US citizen  Strom Engineering provides temporary and contract employment opportunities for general laborers, engineers, machinists, mechanics, technicians & welders.]"
      ]
     },
     "execution_count": 2,
     "metadata": {},
     "output_type": "execute_result"
    }
   ],
   "source": [
    "# Load testing set\n",
    "df2 = DataFrame.from_csv(\"test.tsv\", sep=\"\\t\",)\n",
    "df2.head(n=2)"
   ]
  },
  {
   "cell_type": "code",
   "execution_count": 3,
   "metadata": {
    "collapsed": false
   },
   "outputs": [],
   "source": [
    "tags = [\"part-time-job\", \"full-time-job\", \"hourly-wage\", \"salary\", \"associate-needed\", \"bs-degree-needed\", \"ms-or-phd-needed\", \"licence-needed\", \"1-year-experience-needed\", \"2-4-years-experience-needed\", \"5-plus-years-experience-needed\", \"supervising-job\"]  \n",
    "\n",
    "# Words to look up in the test set\n",
    "lookup = [[\"part time\", \"part-time\"], [\"full time\", \"full-time\"], [\"hourly\", \"hour\"], [\"salary\"], [\"associate \"], [\"bachelor\", \" bs \", \"/bs \" \" bs/\"], [\"master\", \"phd\"], [\"licence\", \"license\", \"certif\", \"eligible\"], [\"1 year\", \"one year\"], [\"2 years\" , \"3 years\" ,\"4 years\", \"two years\" , \"three years\" ,\"four years\", \"2+ years\", \"3+ years\", \"4+ years\"], [\"5 years\", \"5+ years\", \"five years\", \"0 years\"], [\"supervi\"]] "
   ]
  },
  {
   "cell_type": "code",
   "execution_count": 4,
   "metadata": {
    "collapsed": true
   },
   "outputs": [],
   "source": [
    "# The list for output. Header is \"tags\"\n",
    "output = [\"tags\"]\n",
    "\n",
    "for index, row in df2.iterrows():\n",
    "    this_tag = set()\n",
    "    for i, tag in enumerate(tags):\n",
    "        for keyword in lookup[i]:\n",
    "            if keyword in row.name.lower():\n",
    "                this_tag.add(tag)\n",
    "                \n",
    "    '''            \n",
    "    # Keep only one tag if >= 5 years            \n",
    "    if tags[10] in this_tag: \n",
    "        if tags[8] in this_tag: \n",
    "            this_tag.remove(tags[8])\n",
    "        if tags[9] in this_tag:     \n",
    "            this_tag.remove(tags[9])\n",
    "            \n",
    "    # Keep only one tag if 2-4 years           \n",
    "    if tags[9] in this_tag:  \n",
    "        if tags[8] in this_tag: \n",
    "            this_tag.remove(tags[8])\n",
    "    '''        \n",
    "    ### Keep small number of years works better than the above block\n",
    "    # Keep only one tag if 1 years            \n",
    "    if tags[8] in this_tag: \n",
    "        if tags[10] in this_tag: \n",
    "            this_tag.remove(tags[10])\n",
    "        if tags[9] in this_tag:     \n",
    "            this_tag.remove(tags[9])\n",
    "            \n",
    "    # Keep only one tag if 2-4 years           \n",
    "    if tags[9] in this_tag:  \n",
    "        if tags[10] in this_tag: \n",
    "            this_tag.remove(tags[10])  \n",
    "            \n",
    "            \n",
    "            \n",
    "    # keep only one tag is both full time and part time  (better to keep part-time)     \n",
    "    if tags[0] in this_tag:  \n",
    "        if tags[1] in this_tag: \n",
    "            this_tag.remove(tags[1])            \n",
    "    \n",
    "    \n",
    "    # keep only one tag is both bs and ms/phd (better to keep bs)    \n",
    "    if tags[5] in this_tag:  \n",
    "        if tags[6] in this_tag: \n",
    "            this_tag.remove(tags[6])    \n",
    "            \n",
    "    \n",
    "    # If no tag predicted, use space, else, output the tag(s)        \n",
    "    if len(this_tag) == 0:    \n",
    "        output.append(\" \")\n",
    "    else:\n",
    "        output.append(\" \".join(this_tag))\n",
    "        \n",
    "    \n",
    "# print(output)"
   ]
  },
  {
   "cell_type": "code",
   "execution_count": 5,
   "metadata": {
    "collapsed": false
   },
   "outputs": [
    {
     "name": "stdout",
     "output_type": "stream",
     "text": [
      "Done\n"
     ]
    }
   ],
   "source": [
    "# Save to file\n",
    "with open(\"tags.tsv\", 'w') as myfile:\n",
    "    wr = csv.writer(myfile)\n",
    "    for val in output:\n",
    "        wr.writerow([val])\n",
    "\n",
    "print(\"Done\")"
   ]
  },
  {
   "cell_type": "code",
   "execution_count": null,
   "metadata": {
    "collapsed": true
   },
   "outputs": [],
   "source": []
  }
 ],
 "metadata": {
  "anaconda-cloud": {},
  "kernelspec": {
   "display_name": "Python 3",
   "language": "python",
   "name": "python3"
  },
  "language_info": {
   "codemirror_mode": {
    "name": "ipython",
    "version": 3
   },
   "file_extension": ".py",
   "mimetype": "text/x-python",
   "name": "python",
   "nbconvert_exporter": "python",
   "pygments_lexer": "ipython3",
   "version": "3.6.0"
  }
 },
 "nbformat": 4,
 "nbformat_minor": 1
}
