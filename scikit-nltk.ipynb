{
 "cells": [
  {
   "cell_type": "code",
   "execution_count": 1,
   "metadata": {
    "collapsed": false
   },
   "outputs": [
    {
     "data": {
      "text/html": [
       "<div>\n",
       "<table border=\"1\" class=\"dataframe\">\n",
       "  <thead>\n",
       "    <tr style=\"text-align: right;\">\n",
       "      <th></th>\n",
       "      <th>description</th>\n",
       "    </tr>\n",
       "    <tr>\n",
       "      <th>tags</th>\n",
       "      <th></th>\n",
       "    </tr>\n",
       "  </thead>\n",
       "  <tbody>\n",
       "    <tr>\n",
       "      <th>licence-needed supervising-job 5-plus-years-experience-needed</th>\n",
       "      <td>THE COMPANY    Employer is a midstream service...</td>\n",
       "    </tr>\n",
       "    <tr>\n",
       "      <th>2-4-years-experience-needed salary full-time-job</th>\n",
       "      <td>ICR Staffing is now accepting resumes for Indu...</td>\n",
       "    </tr>\n",
       "    <tr>\n",
       "      <th>part-time-job</th>\n",
       "      <td>This is a great position for the right person....</td>\n",
       "    </tr>\n",
       "    <tr>\n",
       "      <th>licence-needed</th>\n",
       "      <td>A large multi-specialty health center is expan...</td>\n",
       "    </tr>\n",
       "    <tr>\n",
       "      <th>5-plus-years-experience-needed full-time-job bs-degree-needed supervising-job</th>\n",
       "      <td>JOB PURPOSE:    The Account Director is respon...</td>\n",
       "    </tr>\n",
       "  </tbody>\n",
       "</table>\n",
       "</div>"
      ],
      "text/plain": [
       "                                                                                          description\n",
       "tags                                                                                                 \n",
       "licence-needed supervising-job 5-plus-years-exp...  THE COMPANY    Employer is a midstream service...\n",
       "2-4-years-experience-needed salary full-time-job    ICR Staffing is now accepting resumes for Indu...\n",
       "part-time-job                                       This is a great position for the right person....\n",
       "licence-needed                                      A large multi-specialty health center is expan...\n",
       "5-plus-years-experience-needed full-time-job bs...  JOB PURPOSE:    The Account Director is respon..."
      ]
     },
     "execution_count": 1,
     "metadata": {},
     "output_type": "execute_result"
    }
   ],
   "source": [
    "from pandas import DataFrame\n",
    "import nltk, re, pprint\n",
    "from nltk import word_tokenize\n",
    "from collections import defaultdict\n",
    "\n",
    "df = DataFrame.from_csv(\"train.tsv\", sep=\"\\t\",)\n",
    "df.head(n=5)"
   ]
  },
  {
   "cell_type": "code",
   "execution_count": 2,
   "metadata": {
    "collapsed": false
   },
   "outputs": [
    {
     "data": {
      "text/html": [
       "<div>\n",
       "<table border=\"1\" class=\"dataframe\">\n",
       "  <thead>\n",
       "    <tr style=\"text-align: right;\">\n",
       "      <th></th>\n",
       "    </tr>\n",
       "    <tr>\n",
       "      <th>description</th>\n",
       "    </tr>\n",
       "  </thead>\n",
       "  <tbody>\n",
       "    <tr>\n",
       "      <th>Integrity Home Care has an opening on our Leadership Team for a Salaried Private Care Nursing Supervisor. This position requires a MO &amp; KS Licensed RN. Candidate must be able to work in a flexible environment with direct patient care experience as well as community health education, and one on one teaching experience.  This position will be working with pediatric and senior patience in a home environment and hours will be mainly from 8am to 5pm, but candidate will need to be flexible as needed.  If you enjoy the one on one interaction with patients, and working to fulfill their long term needs, start with Integrity today! We are a dynamic and progressive Christian based organization that offers competitive pay and excellent benefits including vacation and sick time, Health, dental, short term disability and life insurance.</th>\n",
       "    </tr>\n",
       "    <tr>\n",
       "      <th>We're looking for a precision grinder with at least 10 years of experience. Prior experience grinding on carburzied parts is also needed.  *Job Description for Precision Grinding Machinist:*  * Set up and operate a variety of manual and CNC grinders for production, R&amp;D and tool repair work. Grinding work will include, but not be limited to, steps, angles, contours and threads. Selects proper speeds, feeds and wheels. This position will be working in an aerospace manufacturing facility.  *Job Requirements for Precision Grinding Machinist:*  Must have at least 10 years experience with the following types of grinders:  * Centerless * Internal * External * Surface * Thread * Universal  Base Pay $35.00 - $40.00 / Hour  Other Pay - O.T. &amp; PER DIEM  These positions are temporary and require travel. We pay your travel expenses. In return, you will have the opportunity to work up to 60 hours per week. You will receive weekly per diem of $595 ($85/day) for food and lodging. This is not an opportunity to permanently relocate because these positions are temporary.  Other Requirements for Precision Grinding Machinist:  * Felony/drug free and submit to a background check * Physical ability to work overtime – up to 60 hour work week * High Security Facility – Must be a US citizen  Strom Engineering provides temporary and contract employment opportunities for general laborers, engineers, machinists, mechanics, technicians &amp; welders.</th>\n",
       "    </tr>\n",
       "  </tbody>\n",
       "</table>\n",
       "</div>"
      ],
      "text/plain": [
       "Empty DataFrame\n",
       "Columns: []\n",
       "Index: [Integrity Home Care has an opening on our Leadership Team for a Salaried Private Care Nursing Supervisor. This position requires a MO & KS Licensed RN. Candidate must be able to work in a flexible environment with direct patient care experience as well as community health education, and one on one teaching experience.  This position will be working with pediatric and senior patience in a home environment and hours will be mainly from 8am to 5pm, but candidate will need to be flexible as needed.  If you enjoy the one on one interaction with patients, and working to fulfill their long term needs, start with Integrity today! We are a dynamic and progressive Christian based organization that offers competitive pay and excellent benefits including vacation and sick time, Health, dental, short term disability and life insurance., We're looking for a precision grinder with at least 10 years of experience. Prior experience grinding on carburzied parts is also needed.  *Job Description for Precision Grinding Machinist:*  * Set up and operate a variety of manual and CNC grinders for production, R&D and tool repair work. Grinding work will include, but not be limited to, steps, angles, contours and threads. Selects proper speeds, feeds and wheels. This position will be working in an aerospace manufacturing facility.  *Job Requirements for Precision Grinding Machinist:*  Must have at least 10 years experience with the following types of grinders:  * Centerless * Internal * External * Surface * Thread * Universal  Base Pay $35.00 - $40.00 / Hour  Other Pay - O.T. & PER DIEM  These positions are temporary and require travel. We pay your travel expenses. In return, you will have the opportunity to work up to 60 hours per week. You will receive weekly per diem of $595 ($85/day) for food and lodging. This is not an opportunity to permanently relocate because these positions are temporary.  Other Requirements for Precision Grinding Machinist:  * Felony/drug free and submit to a background check * Physical ability to work overtime – up to 60 hour work week * High Security Facility – Must be a US citizen  Strom Engineering provides temporary and contract employment opportunities for general laborers, engineers, machinists, mechanics, technicians & welders.]"
      ]
     },
     "execution_count": 2,
     "metadata": {},
     "output_type": "execute_result"
    }
   ],
   "source": [
    "df2 = DataFrame.from_csv(\"test.tsv\", sep=\"\\t\")\n",
    "df2.head(n=2)"
   ]
  },
  {
   "cell_type": "code",
   "execution_count": 3,
   "metadata": {
    "collapsed": true
   },
   "outputs": [],
   "source": [
    "tags = [\"part-time-job\", \"full-time-job\", \"hourly-wage\", \"salary\", \"associate-needed\", \"bs-degree-needed\", \"ms-or-phd-needed\", \"licence-needed\", \"1-year-experience-needed\", \"2-4-years-experience-needed\", \"5-plus-years-experience-needed\", \"supervising-job\"]  \n"
   ]
  },
  {
   "cell_type": "code",
   "execution_count": 4,
   "metadata": {
    "collapsed": false
   },
   "outputs": [],
   "source": [
    "def preproc(tag, df, df2):\n",
    "\n",
    "    x_train = []\n",
    "    y_train = []\n",
    "    \n",
    "    for index, row in df.iterrows():   \n",
    "        x_train.append(row.description.lower())\n",
    "\n",
    "        if type(row.name) == str and  tag in row.name:\n",
    "            y_train.append(1)\n",
    "        else:\n",
    "            y_train.append(0)\n",
    "    \n",
    "    docs_new = []\n",
    "    for index, row in df2.iterrows():\n",
    "        docs_new.append(row.name.lower())\n",
    "    \n",
    "    # print(docs_new)   \n",
    "        \n",
    "    return x_train, y_train, docs_new "
   ]
  },
  {
   "cell_type": "code",
   "execution_count": 5,
   "metadata": {
    "collapsed": false
   },
   "outputs": [],
   "source": [
    "from sklearn.feature_extraction.text import CountVectorizer\n",
    "from sklearn.feature_extraction.text import TfidfTransformer\n",
    "    \n",
    "from sklearn.naive_bayes import MultinomialNB\n",
    "from sklearn.linear_model import RidgeClassifier\n",
    "from sklearn.pipeline import Pipeline\n",
    "from sklearn.svm import LinearSVC\n",
    "from sklearn.linear_model import SGDClassifier\n",
    "from sklearn.linear_model import Perceptron\n",
    "from sklearn.linear_model import PassiveAggressiveClassifier\n",
    "from sklearn.naive_bayes import BernoulliNB, MultinomialNB\n",
    "from sklearn.neighbors import KNeighborsClassifier\n",
    "from sklearn.neighbors import NearestCentroid\n",
    "from sklearn.ensemble import RandomForestClassifier\n",
    "from sklearn.svm import SVC\n",
    "\n",
    "\n",
    "# http://scikit-learn.org/stable/modules/feature_extraction.html\n",
    "from nltk import word_tokenize          \n",
    "from nltk.stem import WordNetLemmatizer \n",
    "class LemmaTokenizer(object):\n",
    "    def __init__(self):\n",
    "        self.wnl = WordNetLemmatizer()\n",
    "    def __call__(self, doc):\n",
    "        return [self.wnl.lemmatize(t) for t in word_tokenize(doc)]\n",
    "\n",
    "\n",
    "# https://github.com/scikit-learn/scikit-learn/issues/1156\n",
    "# Snowball stemmers could be used as a dependency\n",
    "from nltk.stem import SnowballStemmer\n",
    "\n",
    "class build_stemmer(object):\n",
    "    def __init__(self):\n",
    "        self.wns = SnowballStemmer('english')\n",
    "    def __call__(self, doc):\n",
    "        return [self.wns.stem(t) for t in word_tokenize(doc)]    \n",
    "    \n",
    "# http://www.nltk.org/howto/stem.html \n",
    "# https://github.com/nltk/nltk/issues/1581\n",
    "# pip install nltk==3.2.1\n",
    "from nltk.stem.porter import *\n",
    "\n",
    "class build_stemmer2(object):\n",
    "    def __init__(self):\n",
    "        self.wns = PorterStemmer()\n",
    "    def __call__(self, doc):\n",
    "        return [self.wns.stem(t) for t in word_tokenize(doc)]        \n",
    "    \n",
    "class lemma_stemmer(object):\n",
    "    def __init__(self):\n",
    "        self.wns = SnowballStemmer('english')\n",
    "        self.wnl = WordNetLemmatizer() \n",
    "    def __call__(self, doc):\n",
    "        return [self.wnl.lemmatize(self.wns.stem(t)) for t in word_tokenize(doc)]       \n",
    "    \n",
    "    \n",
    "\n",
    "def pred(tag, x_train, y_train, docs_new):\n",
    "    # http://scikit-learn.org/stable/tutorial/text_analytics/working_with_text_data.html\n",
    "\n",
    "    # count_vect = CountVectorizer()\n",
    "    # count_vect = CountVectorizer(tokenizer=LemmaTokenizer(), ngram_range=(1, 3))\n",
    "    # count_vect = CountVectorizer(tokenizer=lemma_stemmer(), ngram_range=(1, 3))\n",
    "    # count_vect = CountVectorizer(tokenizer=build_stemmer2(), ngram_range=(1, 3))\n",
    "    count_vect = CountVectorizer(tokenizer = build_stemmer(), max_df = 0.95, ngram_range = (1, 3))    \n",
    "    \n",
    "    \n",
    "    X_train_counts = count_vect.fit_transform(x_train)\n",
    "    # X_train_counts.shape\n",
    "    \n",
    "    tf_transformer = TfidfTransformer(use_idf=False).fit(X_train_counts)\n",
    "    X_train_tf = tf_transformer.transform(X_train_counts)\n",
    "    # print(X_train_tf.shape)\n",
    "\n",
    "    \n",
    "    \n",
    "    tfidf_transformer = TfidfTransformer()\n",
    "    X_train_tfidf = tfidf_transformer.fit_transform(X_train_counts)\n",
    "    # X_train_tfidf.shape\n",
    "\n",
    "    clf = LinearSVC(penalty=\"l1\", C = 1.7, dual=False, tol=1e-3).fit(X_train_tfidf, y_train)\n",
    "\n",
    "    \n",
    "    X_new_counts = count_vect.transform(docs_new)\n",
    "    X_new_tfidf = tfidf_transformer.transform(X_new_counts)\n",
    "\n",
    "    predicted = clf.predict(X_new_tfidf)\n",
    "\n",
    "    \n",
    "    print(sum(predicted))\n",
    "    return predicted"
   ]
  },
  {
   "cell_type": "code",
   "execution_count": 6,
   "metadata": {
    "collapsed": false,
    "scrolled": false
   },
   "outputs": [
    {
     "name": "stdout",
     "output_type": "stream",
     "text": [
      "152\n",
      "480\n",
      "227\n",
      "439\n",
      "68\n",
      "704\n",
      "23\n",
      "260\n",
      "183\n",
      "689\n",
      "418\n",
      "411\n"
     ]
    }
   ],
   "source": [
    "outputs = [\"\"] * 2921\n",
    "\n",
    "for i, tag in enumerate(tags):\n",
    "\n",
    "    x_train, y_train, docs_new  = preproc(tag, df, df2)\n",
    "\n",
    "    output = pred(tag, x_train, y_train, docs_new)\n",
    "    \n",
    "    for j, item in enumerate(output):\n",
    "        if item == 1:\n",
    "            if outputs[j] == \"\":\n",
    "                outputs[j] = tag\n",
    "            else:\n",
    "                outputs[j] += \" \" + tag\n",
    "            \n",
    "for i, item in enumerate(outputs):\n",
    "    if item == \"\":\n",
    "        outputs[i] = \" \""
   ]
  },
  {
   "cell_type": "code",
   "execution_count": 7,
   "metadata": {
    "collapsed": false
   },
   "outputs": [
    {
     "name": "stdout",
     "output_type": "stream",
     "text": [
      "Done\n"
     ]
    }
   ],
   "source": [
    "# Save to file\n",
    "import csv\n",
    "\n",
    "with open(\"tags_scikit_rule.tsv\", 'w') as myfile:\n",
    "    wr = csv.writer(myfile)\n",
    "    wr.writerow([\"tags\"]) \n",
    "    for val in outputs:\n",
    "        wr.writerow([val])\n",
    "\n",
    "print(\"Done\")"
   ]
  },
  {
   "cell_type": "code",
   "execution_count": null,
   "metadata": {
    "collapsed": true
   },
   "outputs": [],
   "source": []
  },
  {
   "cell_type": "markdown",
   "metadata": {},
   "source": [
    "## Public LB results\n",
    "\n",
    "### Baseline\n",
    "\n",
    "count_vect = CountVectorizer() <br>\n",
    "647.79\n",
    "\n",
    "### LinearSVC: Test NLP preprocessing with C default\n",
    "\n",
    "count_vect = CountVectorizer(tokenizer=LemmaTokenizer(), ngram_range=(1, 3)) <br>\n",
    "Precision = 0.72, Recall = 0.59, and F1-Score = 0.6492353231376419\n",
    "\n",
    "count_vect = CountVectorizer(tokenizer=build_stemmer(), ngram_range=(1, 3))  <br>\n",
    "Precision = 0.73, Recall = 0.60, and F1-Score = 0.6597785977859779  <------\n",
    "\n",
    "count_vect = CountVectorizer(tokenizer=lemma_stemmer(), ngram_range=(1, 3))  <br>\n",
    "Precision = 0.73, Recall = 0.60, and F1-Score = 0.6578105781057811\n",
    "\n",
    "count_vect = CountVectorizer(tokenizer=build_stemmer2(), ngram_range=(1, 3))  <br>\n",
    "Precision = 0.73, Recall = 0.60, and F1-Score = 0.657283950617284\n",
    "\n",
    "\n",
    "### Tune C for SVC\n",
    "\n",
    "http://stats.stackexchange.com/questions/31066/what-is-the-influence-of-c-in-svms-with-linear-kernel\n",
    "\n",
    "\n",
    "c = 0.8 <br>\n",
    "Precision = 0.73, Recall = 0.57, and F1-Score = 0.6410256410256411\n",
    "\n",
    "c = 1 <br>\n",
    "Precision = 0.73, Recall = 0.60, and F1-Score = 0.6597785977859779\n",
    "\n",
    "c = 1.1 <br>\n",
    "Precision = 0.73, Recall = 0.61, and F1-Score = 0.6658524670249145\n",
    "\n",
    "c = 1.5 <br>\n",
    "Precision = 0.73, Recall = 0.64, and F1-Score = 0.684826762246117\n",
    "\n",
    "c = 1.6 <br>\n",
    "Precision = 0.73, Recall = 0.65, and F1-Score = 0.6890156918687589  \n",
    "\n",
    "c = 1.7 <br>\n",
    "Precision = 0.73, Recall = 0.66, and F1-Score = 0.690943485457555 <------\n",
    "\n",
    "c = 1.8 <br>\n",
    "Precision = 0.72, Recall = 0.66, and F1-Score = 0.6887947269303202 \n",
    "\n",
    "c = 2 <br>\n",
    "Precision = 0.71, Recall = 0.66, and F1-Score = 0.6840877274848344\n",
    "\n",
    "c = 2.2 <br>\n",
    "Precision = 0.71, Recall = 0.66, and F1-Score = 0.6833333333333333\n",
    "\n",
    "c = 2.5 <br>\n",
    "Precision = 0.69, Recall = 0.67, and F1-Score = 0.6797894254978255\n",
    "\n",
    "c = 3 <br>\n",
    "Precision = 0.68, Recall = 0.68, and F1-Score = 0.6786759738797568\n",
    "\n",
    "c = 5 <br>\n",
    "Precision = 0.64, Recall = 0.69, and F1-Score = 0.6658003032272038\n",
    "\n",
    "c = 10 <br>\n",
    "Precision = 0.61, Recall = 0.68, and F1-Score = 0.6439812845597618\n"
   ]
  },
  {
   "cell_type": "markdown",
   "metadata": {},
   "source": [
    "### Test TfidfTransformer\n",
    "c = 1.8\n",
    "\n",
    "tf_transformer = TfidfTransformer(use_idf=False, sublinear_tf=False).fit(X_train_counts) <br>\n",
    "Precision = 0.72, Recall = 0.66, and F1-Score = 0.6887947269303202\n",
    "\n",
    "tf_transformer = TfidfTransformer().fit(X_train_counts) <br>\n",
    "Precision = 0.72, Recall = 0.66, and F1-Score = 0.6887947269303202\n",
    "\n",
    "tf_transformer = TfidfTransformer(norm = \"l1\", use_idf=False).fit(X_train_counts) <br>\n",
    "Precision = 0.72, Recall = 0.66, and F1-Score = 0.6887947269303202"
   ]
  },
  {
   "cell_type": "markdown",
   "metadata": {},
   "source": [
    "#### Things tried but got worse:\n",
    "\n",
    "LinearSVC: balanced class_weight\n",
    "LinearSVC: L2 penalty\n",
    "CountVectorizer: tokenizer=LemmaTokenizer()\n",
    "CountVectorizer: tokenizer -> PorterStemmer\n",
    "\n",
    "#### Things tried but not get better:\n",
    "\n",
    "LinearSVC: random_state\n",
    "\n",
    "TfidfTransformer: norm = \"l1\"\n",
    "TfidfTransformer: use_idf=False\n",
    "TfidfTransformer: sublinear_tf=False"
   ]
  },
  {
   "cell_type": "markdown",
   "metadata": {},
   "source": [
    "count_vect = CountVectorizer(tokenizer = build_stemmer(), min_df = 2, ngram_range = (1, 3))"
   ]
  }
 ],
 "metadata": {
  "kernelspec": {
   "display_name": "Python 3",
   "language": "python",
   "name": "python3"
  },
  "language_info": {
   "codemirror_mode": {
    "name": "ipython",
    "version": 3
   },
   "file_extension": ".py",
   "mimetype": "text/x-python",
   "name": "python",
   "nbconvert_exporter": "python",
   "pygments_lexer": "ipython3",
   "version": "3.6.0"
  }
 },
 "nbformat": 4,
 "nbformat_minor": 2
}
